{
  "nbformat": 4,
  "nbformat_minor": 0,
  "metadata": {
    "kernelspec": {
      "display_name": "Python 3",
      "language": "python",
      "name": "python3"
    },
    "language_info": {
      "codemirror_mode": {
        "name": "ipython",
        "version": 3
      },
      "file_extension": ".py",
      "mimetype": "text/x-python",
      "name": "python",
      "nbconvert_exporter": "python",
      "pygments_lexer": "ipython3",
      "version": "3.6.8"
    },
    "colab": {
      "name": "CookingLDA_PA_Coursera.ipynb",
      "provenance": [],
      "collapsed_sections": [
        "N3hvx6CjvA3j",
        "NgMkmVMRvA4E",
        "-DUiDamzvA4g",
        "wrRTYuxHvA40"
      ]
    }
  },
  "cells": [
    {
      "cell_type": "markdown",
      "metadata": {
        "id": "JwAsmGIpvA10"
      },
      "source": [
        "# Programming Assignment: \n",
        "## Готовим LDA по рецептам"
      ]
    },
    {
      "cell_type": "markdown",
      "metadata": {
        "id": "E5IOJq5jvA12"
      },
      "source": [
        "Как вы уже знаете, в тематическом моделировании делается предположение о том, что для определения тематики порядок слов в документе не важен; об этом гласит гипотеза «мешка слов». Сегодня мы будем работать с несколько нестандартной для тематического моделирования коллекцией, которую можно назвать «мешком ингредиентов», потому что на состоит из рецептов блюд разных кухонь. Тематические модели ищут слова, которые часто вместе встречаются в документах, и составляют из них темы. Мы попробуем применить эту идею к рецептам и найти кулинарные «темы». Эта коллекция хороша тем, что не требует предобработки. Кроме того, эта задача достаточно наглядно иллюстрирует принцип работы тематических моделей.\n",
        "\n",
        "Для выполнения заданий, помимо часто используемых в курсе библиотек, потребуются модули *json* и *gensim*. Первый входит в дистрибутив Anaconda, второй можно поставить командой \n",
        "\n",
        "*pip install gensim*\n",
        "\n",
        "Построение модели занимает некоторое время. На ноутбуке с процессором Intel Core i7 и тактовой частотой 2400 МГц на построение одной модели уходит менее 10 минут."
      ]
    },
    {
      "cell_type": "code",
      "metadata": {
        "id": "hKHgsH5yvoX2",
        "outputId": "1c2cfe4d-cfd4-4f88-da82-90e099dd184b",
        "colab": {
          "base_uri": "https://localhost:8080/",
          "height": 207
        }
      },
      "source": [
        "!pip install gensim==2.3.0 scipy==0.19.1 numpy==1.17.0"
      ],
      "execution_count": 1,
      "outputs": [
        {
          "output_type": "stream",
          "text": [
            "Requirement already satisfied: gensim==2.3.0 in /usr/local/lib/python3.6/dist-packages (2.3.0)\n",
            "Requirement already satisfied: scipy==0.19.1 in /usr/local/lib/python3.6/dist-packages (0.19.1)\n",
            "Requirement already satisfied: numpy==1.17.0 in /usr/local/lib/python3.6/dist-packages (1.17.0)\n",
            "Requirement already satisfied: six>=1.5.0 in /usr/local/lib/python3.6/dist-packages (from gensim==2.3.0) (1.15.0)\n",
            "Requirement already satisfied: smart-open>=1.2.1 in /usr/local/lib/python3.6/dist-packages (from gensim==2.3.0) (2.2.0)\n",
            "Requirement already satisfied: requests in /usr/local/lib/python3.6/dist-packages (from smart-open>=1.2.1->gensim==2.3.0) (2.23.0)\n",
            "Requirement already satisfied: idna<3,>=2.5 in /usr/local/lib/python3.6/dist-packages (from requests->smart-open>=1.2.1->gensim==2.3.0) (2.10)\n",
            "Requirement already satisfied: chardet<4,>=3.0.2 in /usr/local/lib/python3.6/dist-packages (from requests->smart-open>=1.2.1->gensim==2.3.0) (3.0.4)\n",
            "Requirement already satisfied: certifi>=2017.4.17 in /usr/local/lib/python3.6/dist-packages (from requests->smart-open>=1.2.1->gensim==2.3.0) (2020.6.20)\n",
            "Requirement already satisfied: urllib3!=1.25.0,!=1.25.1,<1.26,>=1.21.1 in /usr/local/lib/python3.6/dist-packages (from requests->smart-open>=1.2.1->gensim==2.3.0) (1.24.3)\n"
          ],
          "name": "stdout"
        }
      ]
    },
    {
      "cell_type": "markdown",
      "metadata": {
        "id": "iusq7wypvA13"
      },
      "source": [
        "### Загрузка данных"
      ]
    },
    {
      "cell_type": "markdown",
      "metadata": {
        "id": "oXBK_BMQvA15"
      },
      "source": [
        "Коллекция дана в json-формате: для каждого рецепта известны его id, кухня (cuisine) и список ингредиентов, в него входящих. Загрузить данные можно с помощью модуля json (он входит в дистрибутив Anaconda):"
      ]
    },
    {
      "cell_type": "code",
      "metadata": {
        "id": "LcrPgRAgvA16"
      },
      "source": [
        "import json"
      ],
      "execution_count": 2,
      "outputs": []
    },
    {
      "cell_type": "code",
      "metadata": {
        "id": "mncpSVfjvA2B"
      },
      "source": [
        "with open(\"sample_data/recipes.json\") as f:\n",
        "    recipes = json.load(f)"
      ],
      "execution_count": 3,
      "outputs": []
    },
    {
      "cell_type": "code",
      "metadata": {
        "id": "Z4l8ZcbzvA2G",
        "outputId": "c466ba8f-affa-4fcc-aecf-69d589b29c98",
        "colab": {
          "base_uri": "https://localhost:8080/",
          "height": 54
        }
      },
      "source": [
        "print(recipes[0])"
      ],
      "execution_count": 4,
      "outputs": [
        {
          "output_type": "stream",
          "text": [
            "{'id': 10259, 'cuisine': 'greek', 'ingredients': ['romaine lettuce', 'black olives', 'grape tomatoes', 'garlic', 'pepper', 'purple onion', 'seasoning', 'garbanzo beans', 'feta cheese crumbles']}\n"
          ],
          "name": "stdout"
        }
      ]
    },
    {
      "cell_type": "markdown",
      "metadata": {
        "id": "RUUUtQcBvA2N"
      },
      "source": [
        "### Составление корпуса"
      ]
    },
    {
      "cell_type": "code",
      "metadata": {
        "id": "6XghLduRvA2O"
      },
      "source": [
        "from gensim import corpora, models\n",
        "import numpy as np"
      ],
      "execution_count": 5,
      "outputs": []
    },
    {
      "cell_type": "markdown",
      "metadata": {
        "id": "P6R_hygJvA2U"
      },
      "source": [
        "Наша коллекция небольшая, и целиком помещается в оперативную память. Gensim может работать с такими данными и не требует их сохранения на диск в специальном формате. Для этого коллекция должна быть представлена в виде списка списков, каждый внутренний список соответствует отдельному документу и состоит из его слов. Пример коллекции из двух документов: \n",
        "\n",
        "[[\"hello\", \"world\"], [\"programming\", \"in\", \"python\"]]\n",
        "\n",
        "Преобразуем наши данные в такой формат, а затем создадим объекты corpus и dictionary, с которыми будет работать модель."
      ]
    },
    {
      "cell_type": "code",
      "metadata": {
        "id": "hP-CYQhavA2V"
      },
      "source": [
        "texts = [recipe[\"ingredients\"] for recipe in recipes]\n",
        "dictionary = corpora.Dictionary(texts)   # составляем словарь\n",
        "corpus = [dictionary.doc2bow(text) for text in texts]  # составляем корпус документов"
      ],
      "execution_count": 6,
      "outputs": []
    },
    {
      "cell_type": "code",
      "metadata": {
        "id": "9exh_uqavA2a",
        "outputId": "2ae483f9-9e13-474e-cbf6-30c5a0346854",
        "colab": {
          "base_uri": "https://localhost:8080/",
          "height": 51
        }
      },
      "source": [
        "print(texts[0])\n",
        "print(corpus[0])"
      ],
      "execution_count": 7,
      "outputs": [
        {
          "output_type": "stream",
          "text": [
            "['romaine lettuce', 'black olives', 'grape tomatoes', 'garlic', 'pepper', 'purple onion', 'seasoning', 'garbanzo beans', 'feta cheese crumbles']\n",
            "[(0, 1), (1, 1), (2, 1), (3, 1), (4, 1), (5, 1), (6, 1), (7, 1), (8, 1)]\n"
          ],
          "name": "stdout"
        }
      ]
    },
    {
      "cell_type": "code",
      "metadata": {
        "id": "hudwZX9lwwWk",
        "outputId": "a6c2a8f4-2ed8-4c98-c193-911b18aa84be",
        "colab": {
          "base_uri": "https://localhost:8080/",
          "height": 34
        }
      },
      "source": [
        "print(dictionary[8])"
      ],
      "execution_count": 8,
      "outputs": [
        {
          "output_type": "stream",
          "text": [
            "feta cheese crumbles\n"
          ],
          "name": "stdout"
        }
      ]
    },
    {
      "cell_type": "markdown",
      "metadata": {
        "id": "5wl8_C7RvA2f"
      },
      "source": [
        "У объекта dictionary есть полезная переменная dictionary.token2id, позволяющая находить соответствие между ингредиентами и их индексами."
      ]
    },
    {
      "cell_type": "markdown",
      "metadata": {
        "id": "tB2ghV5fvA2h"
      },
      "source": [
        "### Обучение модели\n",
        "Вам может понадобиться [документация](https://radimrehurek.com/gensim/models/ldamodel.html) LDA в gensim."
      ]
    },
    {
      "cell_type": "markdown",
      "metadata": {
        "id": "eBAhrS2FvA2i"
      },
      "source": [
        "__Задание 1.__ Обучите модель LDA с 40 темами, установив количество проходов по коллекции 5 и оставив остальные параметры по умолчанию. \n",
        "\n",
        "\n",
        "Затем вызовите метод модели *show_topics*, указав количество тем 40 и количество токенов 10, и сохраните результат (топы ингредиентов в темах) в отдельную переменную. Если при вызове метода *show_topics* указать параметр *formatted=True*, то топы ингредиентов будет удобно выводить на печать, если *formatted=False*, будет удобно работать со списком программно. Выведите топы на печать, рассмотрите темы, а затем ответьте на вопрос:\n",
        "\n",
        "Сколько раз ингредиенты \"salt\", \"sugar\", \"water\", \"mushrooms\", \"chicken\", \"eggs\" встретились среди топов-10 всех 40 тем? При ответе __не нужно__ учитывать составные ингредиенты, например, \"hot water\".\n",
        "\n",
        "Передайте 6 чисел в функцию save_answers1 и загрузите сгенерированный файл в форму.\n",
        "\n",
        "У gensim нет возможности фиксировать случайное приближение через параметры метода, но библиотека использует numpy для инициализации матриц. Поэтому, по утверждению автора библиотеки, фиксировать случайное приближение нужно командой, которая написана в следующей ячейке. __Перед строкой кода с построением модели обязательно вставляйте указанную строку фиксации random.seed.__"
      ]
    },
    {
      "cell_type": "code",
      "metadata": {
        "id": "cZQtElY-vA2j"
      },
      "source": [
        "np.random.seed(76543)\n",
        "# здесь код для построения модели:\n",
        "lda = models.LdaModel(corpus, num_topics=40, passes=5, id2word=dictionary)\n"
      ],
      "execution_count": 9,
      "outputs": []
    },
    {
      "cell_type": "code",
      "metadata": {
        "id": "SyGgkBlcvA2o"
      },
      "source": [
        "topics = lda.show_topics(num_topics=40, num_words=10, formatted=True)\n",
        "c_salt = 0\n",
        "c_sugar = 0\n",
        "c_water = 0\n",
        "c_mushrooms = 0\n",
        "c_chicken = 0\n",
        "c_eggs = 0\n",
        "for topic in topics:\n",
        "  words = [x[7:-1] for x in topic[1:10][0].split(' + ')]\n",
        "  c_salt += words.count('salt')\n",
        "  c_sugar += words.count('sugar')\n",
        "  c_water += words.count('water')\n",
        "  c_mushrooms += words.count('mushrooms')\n",
        "  c_chicken += words.count('chicken')\n",
        "  c_eggs += words.count('eggs')"
      ],
      "execution_count": 10,
      "outputs": []
    },
    {
      "cell_type": "code",
      "metadata": {
        "id": "R9OGuFp73YTj",
        "outputId": "e1987f28-0f0c-404a-82bb-bdb9916a1bba",
        "colab": {
          "base_uri": "https://localhost:8080/",
          "height": 119
        }
      },
      "source": [
        "print(c_salt)\n",
        "print(c_sugar)\n",
        "print(c_water)\n",
        "print(c_mushrooms)\n",
        "print(c_chicken)\n",
        "print(c_eggs)"
      ],
      "execution_count": 11,
      "outputs": [
        {
          "output_type": "stream",
          "text": [
            "19\n",
            "8\n",
            "10\n",
            "0\n",
            "1\n",
            "2\n"
          ],
          "name": "stdout"
        }
      ]
    },
    {
      "cell_type": "code",
      "metadata": {
        "id": "k3u3MS3SvA2x"
      },
      "source": [
        "def save_answers1(c_salt, c_sugar, c_water, c_mushrooms, c_chicken, c_eggs):\n",
        "    with open(\"cooking_LDA_pa_task1.txt\", \"w\") as fout:\n",
        "        fout.write(\" \".join([str(el) for el in [c_salt, c_sugar, c_water, c_mushrooms, c_chicken, c_eggs]]))\n",
        "        "
      ],
      "execution_count": 12,
      "outputs": []
    },
    {
      "cell_type": "code",
      "metadata": {
        "id": "FZtzBHj34WO2"
      },
      "source": [
        "save_answers1(c_salt, c_sugar, c_water, c_mushrooms, c_chicken, c_eggs)"
      ],
      "execution_count": 13,
      "outputs": []
    },
    {
      "cell_type": "markdown",
      "metadata": {
        "id": "wy0VxL9EvA22"
      },
      "source": [
        "### Фильтрация словаря\n",
        "В топах тем гораздо чаще встречаются первые три рассмотренных ингредиента, чем последние три. При этом наличие в рецепте курицы, яиц и грибов яснее дает понять, что мы будем готовить, чем наличие соли, сахара и воды. Таким образом, даже в рецептах есть слова, часто встречающиеся в текстах и не несущие смысловой нагрузки, и поэтому их не желательно видеть в темах. Наиболее простой прием борьбы с такими фоновыми элементами — фильтрация словаря по частоте. Обычно словарь фильтруют с двух сторон: убирают очень редкие слова (в целях экономии памяти) и очень частые слова (в целях повышения интерпретируемости тем). Мы уберем только частые слова."
      ]
    },
    {
      "cell_type": "code",
      "metadata": {
        "id": "eGlPePcOvA23",
        "outputId": "8989e808-8231-44c7-b441-1165bde183d5",
        "colab": {
          "base_uri": "https://localhost:8080/",
          "height": 34
        }
      },
      "source": [
        "import copy\n",
        "dictionary2 = copy.deepcopy(dictionary)\n",
        "dict_size_before = len(dictionary2)\n",
        "dict_size_before"
      ],
      "execution_count": 14,
      "outputs": [
        {
          "output_type": "execute_result",
          "data": {
            "text/plain": [
              "6714"
            ]
          },
          "metadata": {
            "tags": []
          },
          "execution_count": 14
        }
      ]
    },
    {
      "cell_type": "markdown",
      "metadata": {
        "id": "4Fg23Q_lvA29"
      },
      "source": [
        "__Задание 2.__ У объекта dictionary2 есть переменная *dfs* — это словарь, ключами которого являются id токена, а элементами — число раз, сколько слово встретилось во всей коллекции. Сохраните в отдельный список ингредиенты, которые встретились в коллекции больше 4000 раз. Вызовите метод словаря *filter_tokens*, подав в качестве первого аргумента полученный список популярных ингредиентов. Вычислите две величины: dict_size_before и dict_size_after — размер словаря до и после фильтрации.\n",
        "\n",
        "Затем, используя новый словарь, создайте новый корпус документов, corpus2, по аналогии с тем, как это сделано в начале ноутбука. Вычислите две величины: corpus_size_before и corpus_size_after — суммарное количество ингредиентов в корпусе (для каждого документа вычислите число различных ингредиентов в нем и просуммируйте по всем документам) до и после фильтрации.\n",
        "\n",
        "Передайте величины dict_size_before, dict_size_after, corpus_size_before, corpus_size_after в функцию save_answers2 и загрузите сгенерированный файл в форму."
      ]
    },
    {
      "cell_type": "code",
      "metadata": {
        "id": "sr_jPRbavA2-",
        "outputId": "8d439d07-c0b7-4222-8508-bb12e866a11e",
        "colab": {
          "base_uri": "https://localhost:8080/",
          "height": 221
        }
      },
      "source": [
        "ingredients = []\n",
        "for key, value in dictionary2.dfs.items():\n",
        "  if value > 4000:\n",
        "    print(key, value, dictionary2.dfs[key] )\n",
        "    ingredients.append(key)\n"
      ],
      "execution_count": 15,
      "outputs": [
        {
          "output_type": "stream",
          "text": [
            "3 7380 7380\n",
            "4 4438 4438\n",
            "11 18048 18048\n",
            "13 4784 4784\n",
            "19 4385 4385\n",
            "27 4847 4847\n",
            "29 7457 7457\n",
            "35 7972 7972\n",
            "47 6434 6434\n",
            "54 7971 7971\n",
            "105 6236 6236\n",
            "115 4632 4632\n"
          ],
          "name": "stdout"
        }
      ]
    },
    {
      "cell_type": "code",
      "metadata": {
        "id": "BGd954WtvA3D",
        "outputId": "8a21577c-b4fe-44e2-ce61-3175876667d6",
        "colab": {
          "base_uri": "https://localhost:8080/",
          "height": 34
        }
      },
      "source": [
        "ingredients"
      ],
      "execution_count": 16,
      "outputs": [
        {
          "output_type": "execute_result",
          "data": {
            "text/plain": [
              "[3, 4, 11, 13, 19, 27, 29, 35, 47, 54, 105, 115]"
            ]
          },
          "metadata": {
            "tags": []
          },
          "execution_count": 16
        }
      ]
    },
    {
      "cell_type": "code",
      "metadata": {
        "id": "ejTxWwnevA3H",
        "outputId": "5b7586e4-625f-4d9e-b0a2-bdc323fd2fa8",
        "colab": {
          "base_uri": "https://localhost:8080/",
          "height": 34
        }
      },
      "source": [
        "dictionary2.filter_tokens(ingredients)\n",
        "dict_size_after = len(dictionary2)\n",
        "dict_size_after"
      ],
      "execution_count": 17,
      "outputs": [
        {
          "output_type": "execute_result",
          "data": {
            "text/plain": [
              "6702"
            ]
          },
          "metadata": {
            "tags": []
          },
          "execution_count": 17
        }
      ]
    },
    {
      "cell_type": "code",
      "metadata": {
        "id": "Df0bS3zs9hGM",
        "outputId": "21117988-b699-4d10-e172-e8d8c09ffbaf",
        "colab": {
          "base_uri": "https://localhost:8080/",
          "height": 34
        }
      },
      "source": [
        "corpus_size_before = 0\n",
        "for doc in corpus:\n",
        "  corpus_size_before += len(set([x[0] for x in doc ]))\n",
        "corpus_size_before"
      ],
      "execution_count": 18,
      "outputs": [
        {
          "output_type": "execute_result",
          "data": {
            "text/plain": [
              "428249"
            ]
          },
          "metadata": {
            "tags": []
          },
          "execution_count": 18
        }
      ]
    },
    {
      "cell_type": "code",
      "metadata": {
        "id": "YrNy3-am8-An"
      },
      "source": [
        "corpus2 = [dictionary2.doc2bow(text) for text in texts] "
      ],
      "execution_count": 19,
      "outputs": []
    },
    {
      "cell_type": "code",
      "metadata": {
        "id": "EDfEaGE8_W85",
        "outputId": "f7190d9b-4573-48f1-8b82-517cd42fb34b",
        "colab": {
          "base_uri": "https://localhost:8080/",
          "height": 34
        }
      },
      "source": [
        "corpus_size_after = 0\n",
        "for doc in corpus2:\n",
        "  corpus_size_after += len(set([x[0] for x in doc ]))\n",
        "corpus_size_after"
      ],
      "execution_count": 20,
      "outputs": [
        {
          "output_type": "execute_result",
          "data": {
            "text/plain": [
              "343665"
            ]
          },
          "metadata": {
            "tags": []
          },
          "execution_count": 20
        }
      ]
    },
    {
      "cell_type": "code",
      "metadata": {
        "id": "O_FWXBMpvA3M"
      },
      "source": [
        "def save_answers2(dict_size_before, dict_size_after, corpus_size_before, corpus_size_after):\n",
        "    with open(\"cooking_LDA_pa_task2.txt\", \"w\") as fout:\n",
        "        fout.write(\" \".join([str(el) for el in [dict_size_before, dict_size_after, corpus_size_before, corpus_size_after]]))"
      ],
      "execution_count": 21,
      "outputs": []
    },
    {
      "cell_type": "code",
      "metadata": {
        "id": "MitV3oru_qBs"
      },
      "source": [
        "save_answers2(dict_size_before, dict_size_after, corpus_size_before, corpus_size_after)"
      ],
      "execution_count": 22,
      "outputs": []
    },
    {
      "cell_type": "markdown",
      "metadata": {
        "id": "OEE7wr8TvA3Q"
      },
      "source": [
        "### Сравнение когерентностей\n",
        "__Задание 3.__ Постройте еще одну модель по корпусу corpus2 и словарю dictionary2, остальные параметры оставьте такими же, как при первом построении модели. Сохраните новую модель в другую переменную (не перезаписывайте предыдущую модель). Не забудьте про фиксирование seed!\n",
        "\n",
        "Затем воспользуйтесь методом *top_topics* модели, чтобы вычислить ее когерентность. Передайте в качестве аргумента соответствующий модели корпус. Метод вернет список кортежей (топ токенов, когерентность), отсортированных по убыванию последней. Вычислите среднюю по всем темам когерентность для каждой из двух моделей и передайте в функцию save_answers3. "
      ]
    },
    {
      "cell_type": "code",
      "metadata": {
        "id": "UcHQy053vA3R"
      },
      "source": [
        "np.random.seed(76543)\n",
        "# здесь код для построения модели:\n",
        "lda2 = models.LdaModel(corpus2, num_topics=40, passes=5, id2word=dictionary2)"
      ],
      "execution_count": 23,
      "outputs": []
    },
    {
      "cell_type": "code",
      "metadata": {
        "id": "qspkwbf5VU9K",
        "outputId": "43d7f5c2-90cd-42d4-b7c8-fe453632a51b",
        "colab": {
          "base_uri": "https://localhost:8080/",
          "height": 54
        }
      },
      "source": [
        "top_1 = lda.top_topics(corpus)\n",
        "top_2 = lda2.top_topics(corpus2)\n"
      ],
      "execution_count": 45,
      "outputs": [
        {
          "output_type": "stream",
          "text": [
            "[([(0.06546552690367217, 'jalapeno chilies'), (0.04766156935803678, 'salt'), (0.04671572336397922, 'chopped cilantro fresh'), (0.044667168624650186, 'ground cumin'), (0.04366648118286809, 'avocado'), (0.03620380833874566, 'black beans'), (0.02968220337268765, 'olive oil'), (0.029673571621789945, 'chili powder'), (0.028800372375394893, 'garlic'), (0.02804540237967028, 'corn tortillas'), (0.025573019553019983, 'lime'), (0.025538296599483593, 'cilantro'), (0.024595528825233776, 'purple onion'), (0.02260768491223786, 'fresh lime juice'), (0.02134587070623769, 'tomatoes'), (0.020616693508245548, 'lime juice'), (0.01757312811936286, 'garlic cloves'), (0.016935293844858316, 'onions'), (0.015831045536443152, 'kosher salt'), (0.01561484598322696, 'chopped cilantro')], -433.5224680391775), ([(0.09619102016000548, 'soy sauce'), (0.052451857492505444, 'sesame oil'), (0.04701619653299422, 'garlic'), (0.04653374528396253, 'corn starch'), (0.04056084569256681, 'sugar'), (0.03305635541661829, 'green onions'), (0.03230689012593324, 'scallions'), (0.03202853098637104, 'water'), (0.030494165038522293, 'ginger'), (0.02755368138320115, 'salt'), (0.025651903438408036, 'rice vinegar'), (0.023610962976574158, 'vegetable oil'), (0.02166899952853205, 'fresh ginger'), (0.01652054329154254, 'oil'), (0.016132764083182923, 'white pepper'), (0.014068806735792902, 'oyster sauce'), (0.013872499739576386, 'brown sugar'), (0.013494126186737513, 'honey'), (0.013195108737244738, 'carrots'), (0.01235759662261788, 'garlic cloves')], -451.90867614199914), ([(0.07862716665394198, 'salt'), (0.06727561035542515, 'oil'), (0.052589545125533675, 'onions'), (0.05025020908917203, 'green chilies'), (0.03762584789399657, 'garam masala'), (0.036137196412243416, 'chili powder'), (0.033591278917313235, 'coriander'), (0.033077434529842964, 'tomatoes'), (0.03122907644351581, 'ginger'), (0.028538038884999863, 'cilantro leaves'), (0.02395210569845187, 'ground turmeric'), (0.020856536227771366, 'water'), (0.020535047614431173, 'garlic paste'), (0.02053089689283335, 'cumin seed'), (0.02017589072080229, 'chickpeas'), (0.018495360740906765, 'yoghurt'), (0.017681375598635918, 'coriander powder'), (0.017165644755309434, 'garlic'), (0.015473741090617719, 'chopped tomatoes'), (0.015445594501749984, 'tumeric')], -496.20834682747216), ([(0.057720726842381775, 'ground cumin'), (0.05085147421008582, 'salt'), (0.048390806652054044, 'onions'), (0.044433883964702374, 'ground coriander'), (0.03479897917958924, 'ground turmeric'), (0.03341111562454771, 'garlic'), (0.03228487248095086, 'vegetable oil'), (0.02913448017803494, 'tumeric'), (0.028723342406630492, 'water'), (0.027441712936088956, 'fresh ginger'), (0.027261999636850713, 'cumin seed'), (0.025160405220580984, 'curry powder'), (0.024496108965882807, 'cinnamon sticks'), (0.022771481783076832, 'ground ginger'), (0.02173370454404202, 'garam masala'), (0.020967318318953872, 'garlic cloves'), (0.0176204203148525, 'paprika'), (0.017471127193561208, 'cayenne pepper'), (0.016365286602936336, 'fresh coriander'), (0.013933124942080072, 'ginger')], -501.65912035758413), ([(0.05225377977993424, 'peanut oil'), (0.035704445786386624, 'rice vinegar'), (0.035285513653502264, 'soy sauce'), (0.0333955383855905, 'green onions'), (0.03308297449307879, 'garlic cloves'), (0.032542235493637404, 'peeled fresh ginger'), (0.03177142423745316, 'sesame seeds'), (0.03176279524663153, 'toasted sesame oil'), (0.030535098207290702, 'vegetable oil'), (0.028073506396233985, 'low sodium soy sauce'), (0.027691135195781053, 'spinach'), (0.026314913898537684, 'carrots'), (0.025524846383391524, 'sugar'), (0.022733277324764555, 'rice noodles'), (0.022385322275244927, 'salt'), (0.02196425669092498, 'vinegar'), (0.02048478778888747, 'crushed red pepper'), (0.01975850468982631, 'water'), (0.019267027241423956, 'dark sesame oil'), (0.018970194615864824, 'scallions')], -539.1861453158837), ([(0.10342387669423314, 'sour cream'), (0.07029444059859767, 'shredded cheddar cheese'), (0.06112240475009836, 'flour tortillas'), (0.05295652840582601, 'salsa'), (0.04207130893762923, 'ground beef'), (0.037285823880517634, 'green onions'), (0.03702535605091972, 'cream cheese'), (0.02965371070648977, 'shredded Monterey Jack cheese'), (0.026585348063925096, 'cooked chicken'), (0.024602739291003133, 'green chile'), (0.022748364477879108, 'enchilada sauce'), (0.02148774127027547, 'onions'), (0.020942948352646037, 'corn tortillas'), (0.020214394300652246, 'refried beans'), (0.020018708389762933, 'monterey jack'), (0.01984050153559236, 'chili powder'), (0.017706301258016185, 'cheddar cheese'), (0.01701572097136247, 'corn'), (0.016518240473803784, 'shredded lettuce'), (0.016222330088253696, 'tomatoes')], -539.7381710840909), ([(0.0755938162961754, 'onions'), (0.06478002195576268, 'green bell pepper'), (0.04877247118257826, 'red bell pepper'), (0.03627224671671588, 'salt'), (0.029077096716522293, 'olive oil'), (0.028991328562550808, 'zucchini'), (0.026295659599862048, 'garlic cloves'), (0.02593621097655445, 'water'), (0.025668374506371695, 'garlic'), (0.025548382383852222, 'chicken broth'), (0.02366040399662376, 'celery ribs'), (0.02253382755444126, 'diced tomatoes'), (0.022310910688361524, 'bay leaves'), (0.021708066844647603, 'cajun seasoning'), (0.019679815799857305, 'vegetable oil'), (0.0179972876749388, 'green onions'), (0.01756590895979352, 'long-grain rice'), (0.017007751352468403, 'eggplant'), (0.015901711604227518, 'dried thyme'), (0.015342078286469253, 'cayenne pepper')], -547.2278362768235), ([(0.058501114580677374, 'olive oil'), (0.04445197562732787, 'salt'), (0.0418368908754926, 'dried oregano'), (0.04081839721522205, 'grated parmesan cheese'), (0.035683090191253146, 'garlic'), (0.0330448423996627, 'dried basil'), (0.02981024595166553, 'balsamic vinegar'), (0.027697650169999775, 'mozzarella cheese'), (0.02500170771411604, 'tomato sauce'), (0.022182087470271207, 'fresh basil'), (0.020643832557362997, 'italian seasoning'), (0.019945783801523412, 'onions'), (0.019774804173632036, 'ground black pepper'), (0.019233536253980436, 'ricotta cheese'), (0.017804538398870282, 'tomato paste'), (0.01760287403681392, 'eggs'), (0.01637951678651265, 'garlic cloves'), (0.01584086707705353, 'dry bread crumbs'), (0.015485171156133432, 'diced tomatoes'), (0.015235610356839579, 'pasta sauce')], -549.8083858203289), ([(0.11174197149937563, 'all-purpose flour'), (0.10956752697217097, 'salt'), (0.10723544195519753, 'eggs'), (0.09842584920145636, 'milk'), (0.07253897562062998, 'butter'), (0.059066066743638554, 'baking powder'), (0.05099110910781087, 'flour'), (0.04101307442946999, 'sugar'), (0.03796251241700553, 'buttermilk'), (0.03373265338557483, 'baking soda'), (0.03232940884740952, 'vegetable oil'), (0.02712894355296714, 'large eggs'), (0.02073811490279324, 'white sugar'), (0.018140750720311054, 'water'), (0.016278274587490565, 'unsalted butter'), (0.015830877724760252, 'yellow corn meal'), (0.014598780144884202, 'cornmeal'), (0.010945565420326892, 'shortening'), (0.010265986064227508, 'evaporated milk'), (0.007195584653862765, 'oil')], -559.3175439775661), ([(0.0938830046398903, 'large eggs'), (0.07723599236949485, 'sugar'), (0.06928966859655217, 'salt'), (0.0645597120128743, 'all-purpose flour'), (0.050080548513999554, 'vanilla extract'), (0.04346102340638939, 'unsalted butter'), (0.03620340334014721, 'butter'), (0.02653907969609199, 'large egg yolks'), (0.02649836838695685, 'large egg whites'), (0.023663597571690596, 'powdered sugar'), (0.022421949396691634, 'baking powder'), (0.02206864344599636, 'water'), (0.021975233012245125, 'whole milk'), (0.02024903037173173, 'ground cinnamon'), (0.016760764872316557, 'granulated sugar'), (0.015543835694292338, 'chopped pecans'), (0.0139043733585646, 'grated nutmeg'), (0.013297993005536097, 'brown sugar'), (0.012918947916600677, 'peaches'), (0.012025613530526169, 'vanilla')], -577.2219772137671), ([(0.07889990284166677, 'purple onion'), (0.05587122760410922, 'olive oil'), (0.04952895519527121, 'extra-virgin olive oil'), (0.04724314275346666, 'salt'), (0.04625787765583914, 'red wine vinegar'), (0.044409517252793046, 'plum tomatoes'), (0.04006706549569382, 'garlic cloves'), (0.03699953863060124, 'tomatoes'), (0.02706583579139716, 'fresh basil'), (0.02651238816467918, 'cucumber'), (0.025952328986540964, 'fresh basil leaves'), (0.025658043291832435, 'ground black pepper'), (0.025171965972287186, 'cherry tomatoes'), (0.02396319034842418, 'fresh oregano'), (0.022580798195371416, 'feta cheese crumbles'), (0.01838239062416423, 'romaine lettuce'), (0.016588893688307873, 'pinenuts'), (0.016224147846048937, 'feta cheese'), (0.015913045547872297, 'garlic'), (0.01422809800912525, 'dried oregano')], -587.5238969705791), ([(0.07823952897389926, 'freshly ground pepper'), (0.048975019587787105, 'coarse salt'), (0.04648378463702627, 'garlic cloves'), (0.03577419144524403, 'bacon'), (0.0337862042126039, 'olive oil'), (0.03285736470057002, 'extra-virgin olive oil'), (0.030767364290314337, 'ground pepper'), (0.029997015888165255, 'onions'), (0.027212641351247305, 'leeks'), (0.024872809348927123, 'salt'), (0.024323851755923553, 'kosher salt'), (0.023238288298474033, 'thyme'), (0.02141846163564839, 'unsalted butter'), (0.019310385173510133, 'chopped fresh chives'), (0.01832459653262681, 'dry red wine'), (0.017816279249414993, 'shallots'), (0.017538910352647177, 'ground black pepper'), (0.017331781985572243, 'carrots'), (0.017133073856180445, 'fresh thyme'), (0.01698927793920749, 'peas')], -607.2888225640797), ([(0.11982672143816918, 'extra-virgin olive oil'), (0.08288734786178828, 'fresh lemon juice'), (0.052696901008776914, 'flat leaf parsley'), (0.05211857569572385, 'garlic cloves'), (0.0386374582994993, 'ground black pepper'), (0.037406519720465735, 'capers'), (0.03568376653666744, 'shallots'), (0.03395178045781702, 'salt'), (0.03144353223507235, 'dijon mustard'), (0.02750820887417032, 'kosher salt'), (0.0261468310422325, 'large garlic cloves'), (0.025437404405042486, 'olive oil'), (0.023349252515889943, 'white wine vinegar'), (0.02133866385755857, 'unsalted butter'), (0.019865842053800774, 'baguette'), (0.018862567673311778, 'black pepper'), (0.017090452866952672, 'dry white wine'), (0.01655664034266594, 'chopped garlic'), (0.015034933307799633, 'red potato'), (0.01461492148235871, 'fennel bulb')], -612.4394367146277), ([(0.08227297248821744, 'salt'), (0.0802621638411668, 'cooking spray'), (0.07905118912705311, 'garlic cloves'), (0.07078043723675621, 'chopped onion'), (0.054656965899603595, 'olive oil'), (0.03488472991325698, 'black pepper'), (0.034512677015565055, 'ground black pepper'), (0.03285605618311591, 'ground red pepper'), (0.032125689162610625, 'water'), (0.03200942769535916, 'fat free less sodium chicken broth'), (0.01739098619492664, 'fresh parmesan cheese'), (0.01710486326579716, 'fresh lemon juice'), (0.014859853220159824, 'chopped green bell pepper'), (0.01476495880465377, 'fresh dill'), (0.014594108027184546, 'all-purpose flour'), (0.014512119293131398, 'lemon wedge'), (0.014475653979221154, 'grated lemon zest'), (0.013501865293437158, 'chopped celery'), (0.013237808691732763, 'fresh parsley'), (0.011407726804846079, 'couscous')], -640.6545937671402), ([(0.06665175358518124, 'coconut milk'), (0.056289507075088674, 'lime'), (0.045755318965266356, 'fish sauce'), (0.04512669366925564, 'lime juice'), (0.04215665758978309, 'chopped cilantro'), (0.038124753273671215, 'garlic'), (0.036038251270948826, 'cilantro'), (0.03142362989498387, 'chicken thighs'), (0.028620744495332008, 'chiles'), (0.02797686789714815, 'lemongrass'), (0.026230437870107814, 'shallots'), (0.022490795508650786, 'peanuts'), (0.020500329131358616, 'brown sugar'), (0.018343801982452928, 'scallions'), (0.01804009684331977, 'beef'), (0.017386982022104737, 'mint'), (0.017115498307481634, 'ginger'), (0.015852491775068867, 'Thai red curry paste'), (0.01541194849773685, 'unsweetened coconut milk'), (0.015131343445555593, 'red chili peppers')], -641.9644874078631), ([(0.07461745192304758, 'celery'), (0.06479690972993946, 'onions'), (0.060350783254298226, 'chicken stock'), (0.05697380479360396, 'carrots'), (0.042834531717067685, 'cayenne'), (0.04071399994001524, 'salt'), (0.03902662849158421, 'garlic'), (0.03813912364259293, 'cabbage'), (0.030976818884719735, 'ground black pepper'), (0.026643589386320752, 'water'), (0.021706755596947777, 'dried thyme'), (0.01873745100999192, 'bay leaf'), (0.018699551613282756, 'green beans'), (0.018090422924927966, 'broccoli florets'), (0.01777831450739366, 'ham'), (0.017608187885941474, 'fresh mushrooms'), (0.01735693623888158, 'butter'), (0.016350009189381644, 'black pepper'), (0.014597819809227147, 'minced onion'), (0.014280743658221202, 'bacon')], -647.4964280196691), ([(0.21564663351551103, 'pepper'), (0.14859668724117805, 'salt'), (0.08582810539258444, 'onions'), (0.05554959740713434, 'garlic'), (0.04195018913640603, 'water'), (0.040122982473745565, 'potatoes'), (0.02925117732698522, 'olive oil'), (0.021650742338968736, 'chicken'), (0.018928782714546215, 'tomatoes'), (0.01853700698709365, 'rice'), (0.01772782747235375, 'butter'), (0.017596903488681474, 'chicken broth'), (0.016188980921612674, 'carrots'), (0.016081882767227038, 'tomato sauce'), (0.01603839817701995, 'cooking oil'), (0.013576477717381153, 'beef broth'), (0.013200500561762491, 'oil'), (0.010142578238486043, 'lettuce'), (0.01008462404830645, 'flour'), (0.009396662375447397, 'guacamole')], -653.1142226366826), ([(0.060945962208466015, 'egg yolks'), (0.05458669915284324, 'granulated sugar'), (0.05411201343478833, 'sugar'), (0.04523629361131309, 'confectioners sugar'), (0.042739340712811276, 'unsalted butter'), (0.0376940810777876, 'cold water'), (0.03691083290657499, 'salt'), (0.036276781550506385, 'egg whites'), (0.03557563112222396, 'vanilla extract'), (0.03524173590718903, 'all-purpose flour'), (0.03210137807918622, 'fine sea salt'), (0.031005820387040767, 'water'), (0.02481980301895714, 'strawberries'), (0.01862587133930601, 'whole wheat flour'), (0.017079344573116807, 'large eggs'), (0.017018156135278982, 'all purpose unbleached flour'), (0.01595660783299987, 'corn starch'), (0.015353800043605054, 'unsweetened cocoa powder'), (0.01500899938449959, 'lard'), (0.014795511033639597, 'pecans')], -659.744787013864), ([(0.14888497321817376, 'lemon'), (0.09814601958465036, 'lemon juice'), (0.055953119613648336, 'worcestershire sauce'), (0.052595344730313014, 'mayonaise'), (0.041487224706645766, 'ketchup'), (0.033037058310197764, 'hot sauce'), (0.03016491010698146, 'apple cider vinegar'), (0.02430577134745193, 'ground black pepper'), (0.01875913038018612, 'bread'), (0.01775169738998964, 'olive oil'), (0.016235763666775253, 'kosher salt'), (0.015806072931642996, 'black olives'), (0.015481858257386235, 'barbecue sauce'), (0.014592513301337567, 'dark rum'), (0.014355967081157316, 'rosemary sprigs'), (0.014298519786789098, 'garlic'), (0.013689364614838629, 'brown sugar'), (0.011838995044182442, 'asiago'), (0.011744449454581354, 'salt'), (0.011646160380096408, 'dijon mustard')], -680.6046315427735), ([(0.0652238793762112, 'fish sauce'), (0.06193021419089717, 'fresh lime juice'), (0.0434965074825737, 'sugar'), (0.0297291754363585, 'shallots'), (0.027444557284810663, 'fresh mint'), (0.02274251924271777, 'water'), (0.022072688029939943, 'cilantro leaves'), (0.021780175897993467, 'vegetable oil'), (0.02076795268747481, 'lime wedges'), (0.02059403233452781, 'garlic cloves'), (0.020026157527639865, 'medium shrimp'), (0.018952919123651733, 'beansprouts'), (0.017869649863805306, 'chopped cilantro fresh'), (0.0172140917482241, 'minced ginger'), (0.016730902506675988, 'thai chile'), (0.01622314580880516, 'flank steak'), (0.016191180231604294, 'asian fish sauce'), (0.015871090894528633, 'lettuce leaves'), (0.015355051682133285, 'thai basil'), (0.014309174717416632, 'dark brown sugar')], -686.1802521232709), ([(0.1848917220061298, 'heavy cream'), (0.09308305447400939, 'unsalted butter'), (0.05974950710046157, 'cracked black pepper'), (0.050518508432782785, 'half & half'), (0.03881581373028359, 'kosher salt'), (0.037246505848654396, 'butter'), (0.03281597242583136, 'ground white pepper'), (0.03055835116355604, 'grits'), (0.03042396289320792, 'almonds'), (0.026067268098840597, 'heavy whipping cream'), (0.021822023963911308, 'mascarpone'), (0.01953397785451917, 'marsala wine'), (0.017976048282023024, 'bittersweet chocolate'), (0.015619184766202665, 'sugar'), (0.0155994126616697, 'orzo'), (0.012032939851147423, 'fat free yogurt'), (0.011729225057139848, 'whole milk'), (0.01112353694277727, 'large egg yolks'), (0.010057133391982795, 'large eggs'), (0.008842192053298597, 'water')], -691.434728874784), ([(0.09106853373036257, 'olive oil'), (0.07431670834582273, 'grated parmesan cheese'), (0.06079241199569027, 'dry white wine'), (0.049991160045293276, 'butter'), (0.04597480622724386, 'salt'), (0.03879420485007669, 'ground black pepper'), (0.03652444175208735, 'fresh parsley'), (0.0351771023358581, 'garlic'), (0.02401639608037581, 'onions'), (0.02350222306448246, 'white wine'), (0.022643392654954048, 'fresh rosemary'), (0.021154337809204924, 'parmesan cheese'), (0.01917370923332948, 'arborio rice'), (0.016072739543242193, 'large shrimp'), (0.015912884119843096, 'fresh basil'), (0.015739153409546642, 'sweetened condensed milk'), (0.015172007765787818, 'linguine'), (0.014931969973602594, 'asparagus'), (0.014257421356353786, 'minced garlic'), (0.014076633004614765, 'spaghetti')], -702.6961018950886), ([(0.08554318370976846, 'cooked rice'), (0.07927953110153554, 'low salt chicken broth'), (0.07324429656800735, 'frozen peas'), (0.06416299880996343, 'fresh ginger root'), (0.05619921961913635, 'finely chopped onion'), (0.042188619394084616, 'vegetable stock'), (0.03012220302057079, 'apples'), (0.03005543275062138, 'beef stock'), (0.024721662668112866, 'carrots'), (0.022668417466848244, 'curry paste'), (0.02203633160936013, 'butter'), (0.021547256102725426, 'crawfish'), (0.02143658092601173, 'red lentils'), (0.02088840410325886, 'creamy peanut butter'), (0.020669560462213462, 'onions'), (0.01656326206774278, 'cauliflower florets'), (0.013478635927215436, 'olive oil'), (0.01334901319888233, 'salad'), (0.01193034962411217, 'curry powder'), (0.011653035379956786, 'lamb')], -736.4981473888182), ([(0.07563638681970347, 'clove'), (0.06881720107681728, 'black peppercorns'), (0.05699501163497712, 'coriander seeds'), (0.047732839728884875, 'bay leaves'), (0.04623299332764659, 'water'), (0.045745515136651795, 'sweet potatoes'), (0.037784914842535294, 'ghee'), (0.036088315341488444, 'fennel seeds'), (0.028880854039954076, 'bay leaf'), (0.02593744996159992, 'star anise'), (0.02296867542603129, 'cumin seed'), (0.022885831769176065, 'sliced almonds'), (0.02231817195952498, 'polenta'), (0.021823695080011807, 'coconut'), (0.020822317225020027, 'peppercorns'), (0.020271927401296186, 'thyme sprigs'), (0.01996524560777204, 'cinnamon'), (0.0170984117331837, 'cardamom pods'), (0.016777299436900397, 'chili pepper'), (0.016339428561578183, 'maple syrup')], -756.3767582596776), ([(0.06575582477558763, 'chile pepper'), (0.0631960863496341, 'low sodium chicken broth'), (0.04147751990557872, 'reduced sodium soy sauce'), (0.040663424434769155, 'reduced sodium chicken broth'), (0.03939779387484467, 'radishes'), (0.033662874732429154, 'frozen corn'), (0.0312679937648112, 'sharp cheddar cheese'), (0.03060890078349155, 'panko breadcrumbs'), (0.029998612387847543, 'italian sausage'), (0.025705213939982575, 'extra firm tofu'), (0.02570376319698803, 'quinoa'), (0.024802326572565245, 'chopped fresh mint'), (0.022532175044132668, 'jack cheese'), (0.022034871894962706, 'scallions'), (0.018515777493337892, 'canola oil'), (0.01766705524796726, 'corn husks'), (0.017627686001916835, 'kosher salt'), (0.01708242675321249, 'vegetable oil'), (0.01658149923739891, 'serrano chilies'), (0.01477472076723521, 'brown mustard seeds')], -770.095455742865), ([(0.19008382882996494, 'garlic powder'), (0.10066293144905815, 'cayenne pepper'), (0.07131413314264613, 'onion powder'), (0.03762714399222959, 'hot water'), (0.03493948161283723, 'ground black pepper'), (0.033745831417178705, 'black pepper'), (0.02923181168619652, 'chili powder'), (0.026523970516414377, 'dried oregano'), (0.025390781929361676, 'salt'), (0.025078627762907865, 'kosher salt'), (0.021799730355245534, 'dried thyme'), (0.020902234160712012, 'shredded sharp cheddar cheese'), (0.019872273657252002, 'fresh tomatoes'), (0.018007635811900895, 'ground cumin'), (0.017209492801622744, 'lime zest'), (0.017010163954443457, 'meat'), (0.016977456015073344, 'chile powder'), (0.015984916620372668, 'seasoning'), (0.015681744299899394, 'tequila'), (0.012793278475328894, 'frozen pastry puff sheets')], -799.6286903177728), ([(0.11935206021054566, 'fresh cilantro'), (0.06810909701598719, 'oregano'), (0.053451275200631664, 'red pepper'), (0.05263897758983467, 'bell pepper'), (0.052323027140613786, 'smoked paprika'), (0.0395810505329647, 'garlic'), (0.037166848349854904, 'cumin'), (0.031156205462067356, 'olive oil'), (0.029935356303075627, 'brown rice'), (0.02751896033515097, 'green pepper'), (0.02052692960686215, 'black pepper'), (0.020158566519015392, 'red cabbage'), (0.01723328790749897, 'pork sausages'), (0.01661087021593617, 'chinese rice wine'), (0.015364381141129348, 'bok choy'), (0.014693183735029232, 'quickcooking grits'), (0.014402003706188781, 'sea salt'), (0.014401259595593892, 'egg noodles'), (0.014186261677322412, 'chili powder'), (0.013850033606011844, 'elbow macaroni')], -806.7733757166877), ([(0.0968863284709254, 'shredded mozzarella cheese'), (0.08010898047503914, 'vegetable broth'), (0.054091361184645595, 'russet potatoes'), (0.05106821478488482, 'baby spinach'), (0.045318330897069686, 'lasagna noodles'), (0.044856212704221764, 'salt and ground black pepper'), (0.0422826243266292, 'lean ground beef'), (0.04113417059093057, 'yukon gold potatoes'), (0.02784626667044924, 'cremini mushrooms'), (0.02722396026580107, 'onions'), (0.026935317684968464, 'kimchi'), (0.0262505914726361, 'sausage casings'), (0.021642394804448926, 'turnips'), (0.013891247683994992, 'chorizo'), (0.013037714565134887, 'dried sage'), (0.012698995404111554, 'yellow onion'), (0.011893021032787787, 'salted butter'), (0.011805494237690223, 'ramen noodles'), (0.01164511724616713, 'parsnips'), (0.010817861465305554, 'kosher salt')], -809.3742682843855), ([(0.08745959962673379, 'white vinegar'), (0.07086751577272167, 'white onion'), (0.04904433459992999, 'boiling water'), (0.047618079422347505, 'water'), (0.04018335799962334, 'orange juice'), (0.03705867607245235, 'white rice'), (0.030680274054374512, 'mint leaves'), (0.02834423762184329, 'queso fresco'), (0.023971393548697987, 'ancho chile pepper'), (0.023660368998698847, 'sugar'), (0.023038717263829778, 'corn oil'), (0.022958396000485173, 'vegetable oil'), (0.022740411597333813, 'chipotle chile'), (0.021190931132266094, 'garlic cloves'), (0.019297427482157462, 'palm sugar'), (0.018766575556897428, 'jasmine rice'), (0.01827985818695666, 'shredded cabbage'), (0.014978689256391068, 'grated orange peel'), (0.014854856890420817, 'lemon grass'), (0.01450758344338472, 'pineapple juice')], -819.104673608988), ([(0.07491608844066204, 'sweet onion'), (0.059562181535468356, 'sliced mushrooms'), (0.03625116782375787, 'sliced black olives'), (0.035269810520569385, 'salmon fillets'), (0.03518053199117325, 'cream cheese, soften'), (0.031804586377115175, 'bananas'), (0.02993923815405846, 'dashi'), (0.0269224225503429, 'fresh chives'), (0.026798780249474845, 'mirin'), (0.02304028589488744, 'sake'), (0.020966696863612973, 'sugar'), (0.020272605133726147, 'condensed milk'), (0.01991108500283065, 'pepper jack'), (0.019791258213899036, 'white miso'), (0.01941712896745714, 'sherry'), (0.01834300351155388, 'water'), (0.01712865405214933, 'coffee'), (0.016853484853301556, 'pizza sauce'), (0.01658005570126088, 'raspberries'), (0.016550114035007547, 'shiitake')], -825.2569332569996), ([(0.15246458960008016, 'paprika'), (0.04695696840969942, 'shrimp'), (0.04590111533862254, 'bread crumbs'), (0.037304909060918795, 'butter'), (0.036053158581134226, 'salt'), (0.0331415541867936, 'chives'), (0.03058764809122636, 'cream'), (0.029458450470617965, 'eggs'), (0.027372105549226346, 'hot pepper sauce'), (0.02485940492629189, 'chicken breast halves'), (0.023600304405838008, 'kale'), (0.02257800366429722, 'ground black pepper'), (0.01952309336368013, 'cayenne pepper'), (0.016733352350404265, 'spices'), (0.016415765773184578, 'creole seasoning'), (0.016283683985639823, 'Tabasco Pepper Sauce'), (0.01603148926315697, 'white bread'), (0.015985539886723795, 'watercress'), (0.015323905271653535, 'gruyere cheese'), (0.015158592009280778, 'dry sherry')], -827.6361447740205), ([(0.09534227211031561, 'warm water'), (0.06311689115235095, 'active dry yeast'), (0.06283102051724407, 'sugar'), (0.053431133388046496, 'orange'), (0.036716464365067814, 'water'), (0.035312849379686116, 'salt'), (0.03232203640817931, 'bread flour'), (0.025688464887168888, 'semisweet chocolate'), (0.02453888971059784, 'plain flour'), (0.021080144213567114, 'fontina cheese'), (0.02044272301826048, 'caster sugar'), (0.02021877626004935, 'bourbon whiskey'), (0.02006251857872922, 'lime'), (0.01916434531510587, 'greek style plain yogurt'), (0.017553672108776886, 'ice'), (0.016007840696703263, 'ice cubes'), (0.014221298492565591, 'olive oil'), (0.013481691098588712, 'tilapia fillets'), (0.01333547623353396, 'instant yeast'), (0.013288342255220943, 'whole wheat tortillas')], -842.6324572636424), ([(0.09148006481723103, 'raisins'), (0.0633762761437254, 'melted butter'), (0.04500651705308775, 'honey'), (0.04364048369443809, 'whole milk'), (0.04244293398625529, 'whipping cream'), (0.039794966062352624, 'hot red pepper flakes'), (0.03608462204872712, 'sugar'), (0.03601516076283308, 'collard greens'), (0.0347207464639605, 'bacon slices'), (0.034600857570404216, 'vanilla beans'), (0.02959791032550576, 'golden raisins'), (0.027922443644292378, 'tomato purée'), (0.025382720028600685, 'walnuts'), (0.025319798084154518, 'pizza doughs'), (0.02122822441357507, 'pears'), (0.020578196202068372, 'lamb shoulder'), (0.020517040462830996, 'ground chicken'), (0.017810611755617215, 'ranch dressing'), (0.016322158725984186, 'butter'), (0.01592287672316208, 'sweet corn')], -869.3408126012624), ([(0.08388384856463739, 'parmigiano reggiano cheese'), (0.03926943286546218, 'bread crumb fresh'), (0.03758443622470028, 'pancetta'), (0.02943986322904384, 'english cucumber'), (0.026924602830891393, 'seasoning salt'), (0.026325077781043354, 'daikon'), (0.022061640420745265, 'dried porcini mushrooms'), (0.021308866955497007, 'vidalia onion'), (0.021259487667920268, 'carrots'), (0.020778344611640368, 'nori'), (0.019416577491634425, 'granny smith apples'), (0.018577172286796513, 'clam juice'), (0.018558980299407057, 'jicama'), (0.017814431207926303, 'cilantro stems'), (0.017507238282824585, 'lime rind'), (0.01623403903962612, 'skim milk'), (0.016050273069060816, 'chuck'), (0.01434670851670788, 'sushi rice'), (0.014163356981283973, 'Anaheim chile'), (0.013985661305151465, 'fish fillets')], -869.6723578134695), ([(0.13156514599320546, 'ground cinnamon'), (0.0669200852745518, 'ground nutmeg'), (0.06592434185950671, 'ground cloves'), (0.05496597493295004, 'cider vinegar'), (0.05230868795677275, 'ground allspice'), (0.04523706890907458, 'juice'), (0.042138598158015794, 'plain yogurt'), (0.03777854330287537, 'ground cardamom'), (0.027475671594684913, 'poblano chiles'), (0.024362147609659903, 'grated orange'), (0.02241997123099502, 'Mexican oregano'), (0.017878091766887493, 'sugar'), (0.01656121234234525, 'dried currants'), (0.0161760541472498, 'chorizo sausage'), (0.0138201745284177, 'reduced-fat sour cream'), (0.013038463075821748, 'orange juice'), (0.012707667594783157, 'finely chopped fresh parsley'), (0.011916730721093062, 'rib'), (0.011222559243464231, 'gingerroot'), (0.010201951176835299, 'poppy seeds')], -871.7186745188333), ([(0.10770694867988477, 'red pepper flakes'), (0.06195723303416056, 'diced onions'), (0.05622663685451217, 'garlic salt'), (0.05109423265079544, 'vegetable oil cooking spray'), (0.04293870916101534, 'pasta'), (0.04130318316517988, 'stewed tomatoes'), (0.035330595892066816, 'boneless chicken breast'), (0.03268674417954435, 'garbanzo beans'), (0.03053037637030578, 'sweet paprika'), (0.02967612108367902, 'chicken wings'), (0.02600580552703868, 'lentils'), (0.02546592187273818, 'green cabbage'), (0.023304226814395902, 'olive oil'), (0.02063806271925046, 'freshly grated parmesan'), (0.020557655637007705, 'romano cheese'), (0.018653943236549387, 'panko'), (0.018373375612778825, 'sweet italian sausage'), (0.01762721305888761, 'sirloin steak'), (0.01379644509283297, 'navel oranges'), (0.012250655485626675, 'chicken bouillon granules')], -878.064172416219), ([(0.08557071610289498, 'parsley'), (0.08286759257556083, 'chopped parsley'), (0.06645266309474512, 'long grain white rice'), (0.05500207018346429, 'fresh orange juice'), (0.05209491410867094, 'beer'), (0.0346839815431735, 'ground lamb'), (0.03135417964614515, 'ricotta'), (0.020776493873189923, 'squid'), (0.018875295513678406, 'chipotle peppers'), (0.01872776693000444, 'fresh pineapple'), (0.01786121231805203, 'pork loin'), (0.01647628145032926, 'adobo sauce'), (0.016048901065520215, 'creole mustard'), (0.01552954857573475, 'egg roll wrappers'), (0.014202758454751259, 'whole chicken'), (0.013775933323115126, 'yellow mustard'), (0.012955086420407852, 'frozen spinach'), (0.012752151102259825, 'horseradish'), (0.012223141607996485, 'mixed spice'), (0.01205129239154217, 'raw cashews')], -882.6262065613889), ([(0.10628438053037197, 'light brown sugar'), (0.07289011286613993, 'toasted sesame seeds'), (0.0681738094619171, 'mango'), (0.06305420871056365, 'pork'), (0.03872132293569087, 'wonton wrappers'), (0.03756353680657123, 'pure vanilla extract'), (0.03668471546842948, 'rice flour'), (0.03589097216671408, 'crème fraîche'), (0.03424882563730921, 'pork shoulder'), (0.031388720242122053, 'light corn syrup'), (0.025958384961064486, 'fish'), (0.025826896171580353, 'bamboo shoots'), (0.02315467834795325, 'broth'), (0.021660042546521593, 'prawns'), (0.016942415599571603, 'asafoetida'), (0.01674065704416688, 'pistachios'), (0.01472791689392047, 'guajillo chiles'), (0.014704085568058961, 'condensed cream of mushroom soup'), (0.01385965511885373, 'pie crust'), (0.013707904551076807, 'egg substitute')], -906.3133704982187), ([(0.15399060048071828, 'white sugar'), (0.053156200434025455, 'cinnamon'), (0.05176589087926995, 'nutmeg'), (0.03844786386494519, 'vegetables'), (0.03409364514446851, 'pinto beans'), (0.02756283940916965, 'allspice'), (0.026083174411677432, 'roma tomatoes'), (0.0254298723573705, 'cornflour'), (0.022550755074876163, 'catfish fillets'), (0.021231291369423776, 'cottage cheese'), (0.02103937421058296, 'boiling potatoes'), (0.02041932671207529, 'vanilla ice cream'), (0.019750064997454686, 'chicken pieces'), (0.019547850859646814, 'baby bok choy'), (0.01817957671202411, 'semi-sweet chocolate morsels'), (0.017674969868815407, 'red food coloring'), (0.017293650862861536, 'table salt'), (0.01580096752345829, 'phyllo dough'), (0.015148720571536652, 'scallion greens'), (0.014665296209380277, 'salami')], -919.308304836716), ([(0.10102584465698837, 'sauce'), (0.08371435691003502, 'boneless chicken skinless thigh'), (0.07601622205614764, 'tortilla chips'), (0.0550607888674418, 'noodles'), (0.05192710239243539, 'cheddar cheese'), (0.04495175617532788, 'brandy'), (0.04296329805855298, 'self rising flour'), (0.03996468923592193, 'goat cheese'), (0.03854349559274146, 'ground turkey'), (0.029073058765607916, 'slivered almonds'), (0.02234509085117264, 'mustard'), (0.021891709847263505, 'pesto'), (0.019795709706242694, 'fat skimmed chicken broth'), (0.017049917184791423, 'mung bean sprouts'), (0.016935421331413587, 'cocoa powder'), (0.01649579899052284, 'anise'), (0.016444370214342096, 'artichoke hearts'), (0.015721815963828673, 'beef tenderloin'), (0.012270825022723702, 'pizza crust'), (0.012180278107273129, 'salad oil')], -930.7156065751927)]\n"
          ],
          "name": "stdout"
        }
      ]
    },
    {
      "cell_type": "code",
      "metadata": {
        "id": "APsIeG6yW4bO",
        "outputId": "0e5a789d-162f-440b-d4fc-ca333f4f6764",
        "colab": {
          "base_uri": "https://localhost:8080/",
          "height": 1000
        }
      },
      "source": [
        "top_2"
      ],
      "execution_count": 47,
      "outputs": [
        {
          "output_type": "execute_result",
          "data": {
            "text/plain": [
              "[([(0.08548540836640597, 'jalapeno chilies'),\n",
              "   (0.0619591389222298, 'fresh lime juice'),\n",
              "   (0.059605431387143734, 'lime'),\n",
              "   (0.05113021510318714, 'chopped cilantro fresh'),\n",
              "   (0.05048996316630632, 'avocado'),\n",
              "   (0.04769572901926996, 'cilantro'),\n",
              "   (0.04201274728138884, 'purple onion'),\n",
              "   (0.03609018223327659, 'fresh cilantro'),\n",
              "   (0.03540445841394449, 'ground cumin'),\n",
              "   (0.02740286791849977, 'black beans'),\n",
              "   (0.026993800389179614, 'chopped cilantro'),\n",
              "   (0.02564725164848768, 'lime wedges'),\n",
              "   (0.024800244403031694, 'corn tortillas'),\n",
              "   (0.0246132959676141, 'tomatoes'),\n",
              "   (0.02272862877526722, 'kosher salt'),\n",
              "   (0.02015221837194615, 'chili powder'),\n",
              "   (0.01996417809306073, 'red bell pepper'),\n",
              "   (0.018225604190556563, 'cilantro leaves'),\n",
              "   (0.01811403470792757, 'cumin'),\n",
              "   (0.01354571288548212, 'green onions')],\n",
              "  -462.8703032551901),\n",
              " ([(0.05241100952104033, 'ground turmeric'),\n",
              "   (0.051565848808315, 'cumin seed'),\n",
              "   (0.049315637796885956, 'garam masala'),\n",
              "   (0.04816371239660971, 'ground cumin'),\n",
              "   (0.040508484088877805, 'tumeric'),\n",
              "   (0.03765455678567521, 'ground coriander'),\n",
              "   (0.03506140996078632, 'ginger'),\n",
              "   (0.0346119233589898, 'oil'),\n",
              "   (0.03312626093980718, 'tomatoes'),\n",
              "   (0.030600749224776274, 'chili powder'),\n",
              "   (0.030507102415897516, 'curry powder'),\n",
              "   (0.023108551315817294, 'coriander'),\n",
              "   (0.022982153716035868, 'fresh ginger'),\n",
              "   (0.019766521134312567, 'coriander seeds'),\n",
              "   (0.01870374538622888, 'plain yogurt'),\n",
              "   (0.018131574431557045, 'cilantro leaves'),\n",
              "   (0.016554417637932764, 'chickpeas'),\n",
              "   (0.01628839410541481, 'basmati rice'),\n",
              "   (0.016066546689929996, 'mustard seeds'),\n",
              "   (0.014998926305721114, 'chopped cilantro fresh')],\n",
              "  -525.5418841684889),\n",
              " ([(0.06259008768117276, 'flour tortillas'),\n",
              "   (0.05650345862245125, 'chili powder'),\n",
              "   (0.053582871590858346, 'salsa'),\n",
              "   (0.05215184536011734, 'shredded cheddar cheese'),\n",
              "   (0.048577209815329675, 'sour cream'),\n",
              "   (0.0456338876039257, 'ground cumin'),\n",
              "   (0.041683190188937416, 'ground beef'),\n",
              "   (0.0374779293694, 'corn tortillas'),\n",
              "   (0.030470024674199618, 'green onions'),\n",
              "   (0.024442652903870907, 'shredded Monterey Jack cheese'),\n",
              "   (0.02199989391089662, 'enchilada sauce'),\n",
              "   (0.02151022003490217, 'chopped cilantro fresh'),\n",
              "   (0.02082305375744047, 'tomatoes'),\n",
              "   (0.018511048182646674, 'diced tomatoes'),\n",
              "   (0.01787437149688607, 'lime juice'),\n",
              "   (0.01666211124140259, 'refried beans'),\n",
              "   (0.015865214128356307, 'avocado'),\n",
              "   (0.013615483906859823, 'shredded lettuce'),\n",
              "   (0.011909962547502144, 'poblano chiles'),\n",
              "   (0.011736022502980689, 'chopped onion')],\n",
              "  -544.8401211605737),\n",
              " ([(0.12901475893044823, 'soy sauce'),\n",
              "   (0.07715916275279, 'corn starch'),\n",
              "   (0.06576627990733508, 'sesame oil'),\n",
              "   (0.05616263894155567, 'ginger'),\n",
              "   (0.042568204876589584, 'scallions'),\n",
              "   (0.039233748178799245, 'green onions'),\n",
              "   (0.030216298331617517, 'oil'),\n",
              "   (0.021865994999535156, 'rice vinegar'),\n",
              "   (0.02183738924344929, 'oyster sauce'),\n",
              "   (0.020761195250407875, 'eggs'),\n",
              "   (0.020658007108410825, 'ground pork'),\n",
              "   (0.020404035354312806, 'carrots'),\n",
              "   (0.020197272422416142, 'red chili peppers'),\n",
              "   (0.020077215368962675, 'minced garlic'),\n",
              "   (0.017671264037323588, 'fresh ginger'),\n",
              "   (0.01710451899216486, 'brown sugar'),\n",
              "   (0.01575324825352162, 'peanut oil'),\n",
              "   (0.015535772470443842, 'honey'),\n",
              "   (0.015285714351621188, 'fresh coriander'),\n",
              "   (0.014569826821566127, 'white pepper')],\n",
              "  -561.6921773532268),\n",
              " ([(0.0757427866778545, 'purple onion'),\n",
              "   (0.060114023098631654, 'extra-virgin olive oil'),\n",
              "   (0.05964075979840599, 'fresh basil'),\n",
              "   (0.04726368680509333, 'plum tomatoes'),\n",
              "   (0.04653988759174713, 'tomatoes'),\n",
              "   (0.040399718661665036, 'balsamic vinegar'),\n",
              "   (0.03665289642798084, 'fresh basil leaves'),\n",
              "   (0.03130157706485213, 'eggplant'),\n",
              "   (0.027370515310124684, 'fresh lemon juice'),\n",
              "   (0.026682940467704277, 'feta cheese crumbles'),\n",
              "   (0.02493175562661023, 'cherry tomatoes'),\n",
              "   (0.02463182479009915, 'red bell pepper'),\n",
              "   (0.023413607548209054, 'fresh oregano'),\n",
              "   (0.022553348464869595, 'chopped fresh mint'),\n",
              "   (0.019572113061757875, 'dried oregano'),\n",
              "   (0.019460331471095736, 'zucchini'),\n",
              "   (0.019165794724622764, 'feta cheese'),\n",
              "   (0.018852867378576024, 'cooking spray'),\n",
              "   (0.018547614842782025, 'black pepper'),\n",
              "   (0.018167275728388606, 'roma tomatoes')],\n",
              "  -620.0906199640418),\n",
              " ([(0.10454097672586375, 'fish sauce'),\n",
              "   (0.0633850664288433, 'lime juice'),\n",
              "   (0.054571423570670324, 'coconut milk'),\n",
              "   (0.05201729265655903, 'shallots'),\n",
              "   (0.03491855575418318, 'peanuts'),\n",
              "   (0.031655966890770784, 'lime'),\n",
              "   (0.03129680834283546, 'lemongrass'),\n",
              "   (0.028009062147788335, 'cilantro leaves'),\n",
              "   (0.02581400625420864, 'beef'),\n",
              "   (0.02375007428493381, 'beansprouts'),\n",
              "   (0.0210872092673485, 'basil leaves'),\n",
              "   (0.01851649493220478, 'fresh ginger'),\n",
              "   (0.017979141775358354, 'brown sugar'),\n",
              "   (0.017621319999056723, 'cilantro'),\n",
              "   (0.0171262564464848, 'thai chile'),\n",
              "   (0.016864005578100177, 'unsweetened coconut milk'),\n",
              "   (0.016573780433815053, 'asian fish sauce'),\n",
              "   (0.01571789404396083, 'thai basil'),\n",
              "   (0.01470003802981979, 'carrots'),\n",
              "   (0.01442356276836915, 'mint')],\n",
              "  -620.8986740578717),\n",
              " ([(0.10862721626492916, 'large garlic cloves'),\n",
              "   (0.10010129389696167, 'dry white wine'),\n",
              "   (0.05235897813604611, 'carrots'),\n",
              "   (0.04792404085967901, 'leeks'),\n",
              "   (0.04764877715020499, 'low salt chicken broth'),\n",
              "   (0.038998354162065374, 'celery ribs'),\n",
              "   (0.035024081396280604, 'extra-virgin olive oil'),\n",
              "   (0.032302640763383225, 'russet potatoes'),\n",
              "   (0.031123477388458956, 'saffron threads'),\n",
              "   (0.024000574419739913, 'thyme sprigs'),\n",
              "   (0.02337016070914543, 'fennel bulb'),\n",
              "   (0.022170414908559467, 'fresh parsley'),\n",
              "   (0.021840018624032054, 'bay leaf'),\n",
              "   (0.018408010202528458, 'bread'),\n",
              "   (0.016807562723399724, 'bay leaves'),\n",
              "   (0.01610893135689357, 'fennel seeds'),\n",
              "   (0.013934190494808305, 'tomatoes'),\n",
              "   (0.01392672325251545, 'shredded cabbage'),\n",
              "   (0.013856588127169247, 'kosher salt'),\n",
              "   (0.013654355698660624, 'plum tomatoes')],\n",
              "  -639.8557730356191),\n",
              " ([(0.08244646772369049, 'dried thyme'),\n",
              "   (0.05718108937916262, 'bay leaves'),\n",
              "   (0.050589096367900634, 'chicken'),\n",
              "   (0.0432118800674215, 'large shrimp'),\n",
              "   (0.03403895824607857, 'thyme'),\n",
              "   (0.030968253888421535, 'yellow onion'),\n",
              "   (0.02935799427226651, 'diced onions'),\n",
              "   (0.02845408032274973, 'dried oregano'),\n",
              "   (0.025664315536452532, 'chopped green bell pepper'),\n",
              "   (0.025258699248096574, 'white rice'),\n",
              "   (0.02368892125616677, 'chicken stock'),\n",
              "   (0.023108719238664498, 'carrots'),\n",
              "   (0.022669534279248272, 'black pepper'),\n",
              "   (0.020883874525318615, 'black-eyed peas'),\n",
              "   (0.02052161424159967, 'grits'),\n",
              "   (0.018956323352407593, 'fresh parsley'),\n",
              "   (0.018793901507043128, 'sausages'),\n",
              "   (0.017568581680158804, 'dried basil'),\n",
              "   (0.01719021555353228, 'minced garlic'),\n",
              "   (0.01708523054626457, 'diced tomatoes')],\n",
              "  -644.1616913967646),\n",
              " ([(0.10554422290594172, 'chopped onion'),\n",
              "   (0.08679332869356188, 'boneless skinless chicken breast halves'),\n",
              "   (0.06964372140008357, 'crushed tomatoes'),\n",
              "   (0.04784215839814461, 'tomato paste'),\n",
              "   (0.046230264050769056, 'long-grain rice'),\n",
              "   (0.04604685470776167, 'dry red wine'),\n",
              "   (0.04544972330606986, 'chicken thighs'),\n",
              "   (0.043081446190257056, 'beef broth'),\n",
              "   (0.034483803526502155, 'chopped celery'),\n",
              "   (0.02851968977221395, 'diced tomatoes'),\n",
              "   (0.027877597155894704, 'carrots'),\n",
              "   (0.02773243871622754, 'red potato'),\n",
              "   (0.024285545038188458, 'prosciutto'),\n",
              "   (0.022165396448037524, 'black pepper'),\n",
              "   (0.017555344651223857, 'fresh parsley leaves'),\n",
              "   (0.016076514704929133, 'chicken broth'),\n",
              "   (0.012617798560998695, 'dried oregano'),\n",
              "   (0.01232316982144226, 'ground red pepper'),\n",
              "   (0.010266248092897837, 'white wine'),\n",
              "   (0.010007472059657642, 'minced garlic')],\n",
              "  -656.6996323058131),\n",
              " ([(0.14470301405364117, 'eggs'),\n",
              "   (0.13887188479774218, 'milk'),\n",
              "   (0.08700773575932928, 'flour'),\n",
              "   (0.08397008584074389, 'baking powder'),\n",
              "   (0.055425035174644734, 'buttermilk'),\n",
              "   (0.04588260672723813, 'baking soda'),\n",
              "   (0.036201808433168635, 'large eggs'),\n",
              "   (0.03187626893202053, 'unsalted butter'),\n",
              "   (0.023112984851627234, 'yellow corn meal'),\n",
              "   (0.020111238016746, 'cornmeal'),\n",
              "   (0.019571975267878895, 'chopped pecans'),\n",
              "   (0.018902515837695307, 'corn kernels'),\n",
              "   (0.01843242722738918, 'cinnamon'),\n",
              "   (0.017662025272675002, 'melted butter'),\n",
              "   (0.014575460308869224, 'oil'),\n",
              "   (0.014501474981962581, 'vanilla'),\n",
              "   (0.01339336245055843, 'bourbon whiskey'),\n",
              "   (0.012327807785758163, 'brown sugar'),\n",
              "   (0.009115346496709142, 'kosher salt'),\n",
              "   (0.008846924984660902, 'light corn syrup')],\n",
              "  -661.5022668446078),\n",
              " ([(0.0870238951293969, 'green bell pepper'),\n",
              "   (0.050161456059465516, 'shrimp'),\n",
              "   (0.04808458376923429, 'celery'),\n",
              "   (0.044047563789039526, 'bacon'),\n",
              "   (0.040183349839311225, 'worcestershire sauce'),\n",
              "   (0.03549691137760727, 'red bell pepper'),\n",
              "   (0.03478636635879191, 'hot sauce'),\n",
              "   (0.03300502623266567, 'green onions'),\n",
              "   (0.032704457767137506, 'chicken broth'),\n",
              "   (0.031591087423277556, 'ketchup'),\n",
              "   (0.03138404124773212, 'cajun seasoning'),\n",
              "   (0.02704942808997458, 'medium shrimp'),\n",
              "   (0.021477832938510598, 'creole seasoning'),\n",
              "   (0.02067578032146783, 'sweetened condensed milk'),\n",
              "   (0.020595311468289232, 'fresh parsley'),\n",
              "   (0.020475378164476293, 'okra'),\n",
              "   (0.02008592727275912, 'andouille sausage'),\n",
              "   (0.017382770037647464, 'celery ribs'),\n",
              "   (0.017188811377894252, 'cayenne pepper'),\n",
              "   (0.016568929595653103, 'garlic salt')],\n",
              "  -663.1286544316199),\n",
              " ([(0.12044317409899115, 'grated parmesan cheese'),\n",
              "   (0.03513450552552667, 'fresh parsley'),\n",
              "   (0.030205654424914543, 'shredded mozzarella cheese'),\n",
              "   (0.02992902286061782, 'tomato sauce'),\n",
              "   (0.029490202539765673, 'dried oregano'),\n",
              "   (0.02875498527452167, 'dried basil'),\n",
              "   (0.02538940434425009, 'ricotta cheese'),\n",
              "   (0.024815755199082655, 'crushed red pepper'),\n",
              "   (0.024371702153168542, 'italian seasoning'),\n",
              "   (0.024107685721364066, 'eggs'),\n",
              "   (0.02394632451274129, 'fresh basil'),\n",
              "   (0.023157568366705183, 'grated lemon zest'),\n",
              "   (0.0214167581965018, 'diced tomatoes'),\n",
              "   (0.02113921711254939, 'dry white wine'),\n",
              "   (0.019941402560236104, 'spaghetti'),\n",
              "   (0.01864135855579196, 'arborio rice'),\n",
              "   (0.017986862962784872, 'pasta sauce'),\n",
              "   (0.01793327105624207, 'ground beef'),\n",
              "   (0.017686391013643478, 'fresh parmesan cheese'),\n",
              "   (0.01618652519548669, 'sliced mushrooms')],\n",
              "  -669.5677223675206),\n",
              " ([(0.06702219824474048, 'rice vinegar'),\n",
              "   (0.06655356383573276, 'sesame seeds'),\n",
              "   (0.06593140289594844, 'green onions'),\n",
              "   (0.06377654274213011, 'soy sauce'),\n",
              "   (0.04971820494264389, 'fresh ginger'),\n",
              "   (0.04128951649500066, 'low sodium soy sauce'),\n",
              "   (0.04104083433212007, 'peeled fresh ginger'),\n",
              "   (0.04092081092572194, 'sesame oil'),\n",
              "   (0.03578978344415913, 'toasted sesame oil'),\n",
              "   (0.029944229467178774, 'toasted sesame seeds'),\n",
              "   (0.029050445451469776, 'scallions'),\n",
              "   (0.02553791601344123, 'brown sugar'),\n",
              "   (0.024765666026441015, 'canola oil'),\n",
              "   (0.02218093471622699, 'carrots'),\n",
              "   (0.02170976226250291, 'dark sesame oil'),\n",
              "   (0.018375232978400092, 'crushed red pepper'),\n",
              "   (0.014744489585544682, 'crème fraîche'),\n",
              "   (0.014240855006994898, 'tofu'),\n",
              "   (0.013364973647548371, 'dried shiitake mushrooms'),\n",
              "   (0.013015799638887798, 'chicken wings')],\n",
              "  -669.9850690514438),\n",
              " ([(0.11207974251245717, 'large eggs'),\n",
              "   (0.0837495317072262, 'vanilla extract'),\n",
              "   (0.07104431848083985, 'granulated sugar'),\n",
              "   (0.041916267224924204, 'unsalted butter'),\n",
              "   (0.04142016517526522, 'baking powder'),\n",
              "   (0.04108232200356722, 'large egg whites'),\n",
              "   (0.04066292591824678, 'powdered sugar'),\n",
              "   (0.036405890703019986, 'confectioners sugar'),\n",
              "   (0.03379448373895974, 'light brown sugar'),\n",
              "   (0.030697930964075523, 'ground cinnamon'),\n",
              "   (0.02234443789999683, 'baking soda'),\n",
              "   (0.020465825046625294, 'cooking spray'),\n",
              "   (0.019942721245184102, 'corn starch'),\n",
              "   (0.01464966155965042, 'golden raisins'),\n",
              "   (0.014419820604947805, 'cream of tartar'),\n",
              "   (0.014377627318863592, 'cake flour'),\n",
              "   (0.014042277273432869, 'brown sugar'),\n",
              "   (0.013696107324200084, 'all purpose unbleached flour'),\n",
              "   (0.01360171310783268, 'pure vanilla extract'),\n",
              "   (0.013323387998464706, 'fresh tarragon')],\n",
              "  -675.2280188229906),\n",
              " ([(0.18555198045126145, 'boneless skinless chicken breasts'),\n",
              "   (0.119605896245998, 'white onion'),\n",
              "   (0.054749365237471995, 'chiles'),\n",
              "   (0.043322495555768926, 'long grain white rice'),\n",
              "   (0.03047608146788451, 'hot red pepper flakes'),\n",
              "   (0.0303980887027625, 'kosher salt'),\n",
              "   (0.0259774718280981, 'jasmine rice'),\n",
              "   (0.02386547049434605, 'minced onion'),\n",
              "   (0.023594154198461413, 'pork shoulder'),\n",
              "   (0.0217656178762577, 'chopped cilantro fresh'),\n",
              "   (0.021306976482225747, 'tomatillos'),\n",
              "   (0.01948405152010966, 'lime juice'),\n",
              "   (0.0193198452998857, 'minced garlic'),\n",
              "   (0.015262086294397233, 'fresh lime juice'),\n",
              "   (0.015011109080931425, 'serrano chile'),\n",
              "   (0.01481167974727785, 'chicken broth'),\n",
              "   (0.014735544156802855, 'hard-boiled egg'),\n",
              "   (0.013047413435249509, 'canola oil'),\n",
              "   (0.012946535017917673, 'tomatoes'),\n",
              "   (0.012751499977506797, 'chicken stock')],\n",
              "  -679.4031971513665),\n",
              " ([(0.07209490872431476, 'rice'),\n",
              "   (0.06651129107977025, 'bay leaf'),\n",
              "   (0.06590214652319167, 'black peppercorns'),\n",
              "   (0.06022768858734809, 'finely chopped onion'),\n",
              "   (0.05671701336991483, 'cinnamon sticks'),\n",
              "   (0.05082738851815937, 'clove'),\n",
              "   (0.049474510023712066, 'green pepper'),\n",
              "   (0.04822793236489022, 'red pepper'),\n",
              "   (0.032064656387902, 'tomato purée'),\n",
              "   (0.025550972667867815, 'mussels'),\n",
              "   (0.024829627723999003, 'bay leaves'),\n",
              "   (0.02072847854749761, 'red wine'),\n",
              "   (0.020357657904691785, 'carrots'),\n",
              "   (0.020064989087912034, 'tomatoes'),\n",
              "   (0.019877164365860355, 'chipotle chile'),\n",
              "   (0.01798577668598403, 'sausage casings'),\n",
              "   (0.01588743981752835, 'cardamom'),\n",
              "   (0.01419247635746667, 'tomato paste'),\n",
              "   (0.011712784028010606, 'shallots'),\n",
              "   (0.011455115820893673, 'celery')],\n",
              "  -692.0530795800244),\n",
              " ([(0.10893290840940713, 'sour cream'),\n",
              "   (0.07445069059498842, 'chicken breasts'),\n",
              "   (0.057930763473623054, 'cream cheese'),\n",
              "   (0.05787360806793443, 'black beans'),\n",
              "   (0.05536059750153805, 'cheddar cheese'),\n",
              "   (0.036622119360103414, 'green chile'),\n",
              "   (0.034674936720302446, 'taco seasoning'),\n",
              "   (0.029008702484482427, 'corn'),\n",
              "   (0.024000010993083132, 'self rising flour'),\n",
              "   (0.023178741868904406, 'salsa'),\n",
              "   (0.02238443992002219, 'guacamole'),\n",
              "   (0.02159926031004618, 'chicken broth'),\n",
              "   (0.019788172315432433, 'lettuce'),\n",
              "   (0.019746551108735525, 'sharp cheddar cheese'),\n",
              "   (0.019328709471291082, 'chicken'),\n",
              "   (0.01898980299565023, 'italian sausage'),\n",
              "   (0.016153772052084295, 'shredded cheese'),\n",
              "   (0.012324961250968033, 'elbow macaroni'),\n",
              "   (0.011753515912037476, 'tortilla chips'),\n",
              "   (0.011606288745575436, 'diced tomatoes')],\n",
              "  -709.2865764760525),\n",
              " ([(0.11604850127147667, 'garlic powder'),\n",
              "   (0.10996015424053697, 'paprika'),\n",
              "   (0.09057505700627538, 'cayenne pepper'),\n",
              "   (0.046838647124246555, 'ground cumin'),\n",
              "   (0.04353814397132474, 'onion powder'),\n",
              "   (0.04052699098839737, 'black pepper'),\n",
              "   (0.02782017672043754, 'cayenne'),\n",
              "   (0.025464860492286544, 'chili powder'),\n",
              "   (0.0250295502804608, 'oregano'),\n",
              "   (0.024049902264251393, 'dried oregano'),\n",
              "   (0.02210034100727913, 'cumin'),\n",
              "   (0.019254812172419887, 'kosher salt'),\n",
              "   (0.01648843850603393, 'beer'),\n",
              "   (0.014645706632268678, 'dried thyme'),\n",
              "   (0.014458923547533533, 'smoked paprika'),\n",
              "   (0.013542668494821981, 'vegetable oil cooking spray'),\n",
              "   (0.012226978843977998, 'dry mustard'),\n",
              "   (0.011918687012553844, 'dried apricot'),\n",
              "   (0.01180312834467062, 'couscous'),\n",
              "   (0.0109016171669473, 'sweet paprika')],\n",
              "  -713.8045714362935),\n",
              " ([(0.12675730765866824, 'extra-virgin olive oil'),\n",
              "   (0.07454910149242377, 'freshly ground pepper'),\n",
              "   (0.07187076431074055, 'flat leaf parsley'),\n",
              "   (0.04610856825813891, 'kosher salt'),\n",
              "   (0.04224987071248853, 'mozzarella cheese'),\n",
              "   (0.041817452282912816, 'unsalted butter'),\n",
              "   (0.03761914589007282, 'sea salt'),\n",
              "   (0.032452506424031524, 'parmigiano reggiano cheese'),\n",
              "   (0.03232755874077891, 'shallots'),\n",
              "   (0.027389850527261724, 'fresh lemon juice'),\n",
              "   (0.027283748621089923, 'parmesan cheese'),\n",
              "   (0.026663491836289275, 'large eggs'),\n",
              "   (0.026126398916152545, 'fresh rosemary'),\n",
              "   (0.022364397181566856, 'grated nutmeg'),\n",
              "   (0.021198076053073837, 'lemon'),\n",
              "   (0.02057137468653563, 'baby spinach'),\n",
              "   (0.02012719000166184, 'lemon zest'),\n",
              "   (0.01904978058935789, 'shortening'),\n",
              "   (0.016239120080897628, 'black pepper'),\n",
              "   (0.01356034462683405, 'polenta')],\n",
              "  -726.3776259464269),\n",
              " ([(0.11130329204981346, 'red wine vinegar'),\n",
              "   (0.07219435230933098, 'cucumber'),\n",
              "   (0.04207625786906232, 'yellow bell pepper'),\n",
              "   (0.03660234407172678, 'chinese five-spice powder'),\n",
              "   (0.03321664106707102, 'pork tenderloin'),\n",
              "   (0.031775054222821994, 'honey'),\n",
              "   (0.0308456264202089, 'Sriracha'),\n",
              "   (0.029279827533802635, 'cilantro sprigs'),\n",
              "   (0.027737385514860154, 'lettuce leaves'),\n",
              "   (0.026668601733465195, 'english cucumber'),\n",
              "   (0.025625561302243048, 'red bell pepper'),\n",
              "   (0.021400784314135286, 'green olives'),\n",
              "   (0.021234804361572684, 'rice vinegar'),\n",
              "   (0.020920854520484054, 'light coconut milk'),\n",
              "   (0.019286833827545057, 'peanut butter'),\n",
              "   (0.018209383009242654, 'hoisin sauce'),\n",
              "   (0.01816132396360927, 'carrots'),\n",
              "   (0.016465757978541832, 'gingerroot'),\n",
              "   (0.015324565964289587, 'creamy peanut butter'),\n",
              "   (0.015059866493817317, 'daikon')],\n",
              "  -743.9727716179514),\n",
              " ([(0.0960446363905777, 'coarse salt'),\n",
              "   (0.06494876372241343, 'spring onions'),\n",
              "   (0.061538084110620464, 'light soy sauce'),\n",
              "   (0.0603376993250925, 'ground pepper'),\n",
              "   (0.04926899438717164, 'dark soy sauce'),\n",
              "   (0.04499704337514511, 'Shaoxing wine'),\n",
              "   (0.039459394516245076, 'noodles'),\n",
              "   (0.03838852772935147, 'juice'),\n",
              "   (0.026687470727129774, 'arugula'),\n",
              "   (0.021961848490761937, 'szechwan peppercorns'),\n",
              "   (0.02161971276254766, 'lump crab meat'),\n",
              "   (0.020222604569734143, 'chili oil'),\n",
              "   (0.01988607280378003, 'cornflour'),\n",
              "   (0.019667472374092807, 'garlic chili sauce'),\n",
              "   (0.019480347235968816, 'scallions'),\n",
              "   (0.016400285764858528, 'chicken stock'),\n",
              "   (0.01537137346302574, 'dill'),\n",
              "   (0.014539782358407957, 'baby spinach leaves'),\n",
              "   (0.014359322955892925, 'oil'),\n",
              "   (0.014256799799638422, 'beets')],\n",
              "  -780.2547472174301),\n",
              " ([(0.15726278939564095, 'unsalted butter'),\n",
              "   (0.09230049161376012, 'whole milk'),\n",
              "   (0.07313044968148495, 'whipping cream'),\n",
              "   (0.0702797868811709, 'large egg yolks'),\n",
              "   (0.05527306164559081, 'large eggs'),\n",
              "   (0.0461949717566523, 'egg yolks'),\n",
              "   (0.04509468287287468, 'heavy cream'),\n",
              "   (0.0389816192733902, 'half & half'),\n",
              "   (0.023699189323402304, 'fresh lemon juice'),\n",
              "   (0.02257836034849197, 'stewed tomatoes'),\n",
              "   (0.019694672798564017, 'vanilla beans'),\n",
              "   (0.01904702311596541, 'heavy whipping cream'),\n",
              "   (0.017079548797700836, 'vanilla extract'),\n",
              "   (0.015613535553750595, 'caster sugar'),\n",
              "   (0.014929763118231512, 'kosher salt'),\n",
              "   (0.01471963204437195, 'dark rum'),\n",
              "   (0.014447744963656826, 'walnuts'),\n",
              "   (0.014406359549649847, 'fresh chives'),\n",
              "   (0.010615407906565632, 'vegetable oil spray'),\n",
              "   (0.01053433970997921, 'fresh raspberries')],\n",
              "  -784.2249688589193),\n",
              " ([(0.09415282262530845, 'red pepper flakes'),\n",
              "   (0.058362506944529435, 'zucchini'),\n",
              "   (0.058141162392885824, 'vegetable broth'),\n",
              "   (0.04753258065067221, 'carrots'),\n",
              "   (0.045642044295716354, 'spinach'),\n",
              "   (0.04341138284907533, 'mushrooms'),\n",
              "   (0.03204169105807685, 'shiitake'),\n",
              "   (0.029224314060091485, 'broccoli florets'),\n",
              "   (0.028908416817956795, 'reduced sodium chicken broth'),\n",
              "   (0.02443148298259295, 'green cabbage'),\n",
              "   (0.023193087821321637, 'kale'),\n",
              "   (0.02273818825607363, 'Gochujang base'),\n",
              "   (0.0210582948948145, 'kaffir lime leaves'),\n",
              "   (0.0182744148425609, 'extra firm tofu'),\n",
              "   (0.01807110781826787, 'shredded carrots'),\n",
              "   (0.017963339338102322, 'red bell pepper'),\n",
              "   (0.016920371879315343, 'dry sherry'),\n",
              "   (0.016581470374188556, 'sea scallops'),\n",
              "   (0.015906727626894067, 'red curry paste'),\n",
              "   (0.014461672333011625, 'yellow onion')],\n",
              "  -786.9026364651314),\n",
              " ([(0.11658086069749157, 'mayonaise'),\n",
              "   (0.10920505870100783, 'fresh lemon juice'),\n",
              "   (0.05270301820175103, 'cracked black pepper'),\n",
              "   (0.04844613546288928, 'ground red pepper'),\n",
              "   (0.03732816735523653, 'baguette'),\n",
              "   (0.03292044315055344, 'lemon wedge'),\n",
              "   (0.028308883813787277, 'sherry vinegar'),\n",
              "   (0.023210562561946747, 'shallots'),\n",
              "   (0.021339963061059362, 'dijon mustard'),\n",
              "   (0.020775591211873272, 'cooking spray'),\n",
              "   (0.020114807668350103, 'pimentos'),\n",
              "   (0.019340096252256064, 'large eggs'),\n",
              "   (0.01681834012080837, 'sugar pea'),\n",
              "   (0.01641341017699683, 'hazelnuts'),\n",
              "   (0.016380109161504678, 'kosher salt'),\n",
              "   (0.01502570087923967, 'green onions'),\n",
              "   (0.014361249961970714, 'vidalia onion'),\n",
              "   (0.013018234706391638, '1% low-fat milk'),\n",
              "   (0.012377614539673848, 'rolls'),\n",
              "   (0.012007659176184087, 'fat skimmed chicken broth')],\n",
              "  -802.1848911377472),\n",
              " ([(0.12949195751373635, 'green chilies'),\n",
              "   (0.04905649840593856, 'ghee'),\n",
              "   (0.048944404249197486, 'mango'),\n",
              "   (0.043785070602796315, 'yoghurt'),\n",
              "   (0.03938903357279065, 'ground cardamom'),\n",
              "   (0.0348350041225521, 'cashew nuts'),\n",
              "   (0.030285521824187953, 'saffron'),\n",
              "   (0.02868530568335004, 'vinegar'),\n",
              "   (0.027080435482204443, 'boneless chicken breast'),\n",
              "   (0.027033803754607278, 'peppercorns'),\n",
              "   (0.024055651524572074, 'ginger paste'),\n",
              "   (0.023832710691978294, 'rice noodles'),\n",
              "   (0.023543068663277957, 'ground cayenne pepper'),\n",
              "   (0.02072059820427035, 'chili paste'),\n",
              "   (0.020019491245572292, 'granny smith apples'),\n",
              "   (0.01973106357171058, 'garlic paste'),\n",
              "   (0.019001690121904436, 'coconut oil'),\n",
              "   (0.018282179562855893, 'bow-tie pasta'),\n",
              "   (0.01744947026825707, 'pineapple'),\n",
              "   (0.014949338509487608, 'mace')],\n",
              "  -814.6318375387275),\n",
              " ([(0.09004135740304968, 'fat free less sodium chicken broth'),\n",
              "   (0.07735014597976893, 'sliced green onions'),\n",
              "   (0.056825275369966496, 'sweet onion'),\n",
              "   (0.05576360730444217, 'cooking spray'),\n",
              "   (0.03821406353067367, 'bacon slices'),\n",
              "   (0.037309641535923255, 'broccoli'),\n",
              "   (0.03715808817954748, 'baking potatoes'),\n",
              "   (0.03579413051675611, 'yukon gold potatoes'),\n",
              "   (0.0263216265451616, 'beef stock'),\n",
              "   (0.02480718617808659, 'yellow squash'),\n",
              "   (0.024009403046297218, 'green peas'),\n",
              "   (0.0228224587680353, 'fontina cheese'),\n",
              "   (0.021909073167019427, 'quinoa'),\n",
              "   (0.021879771818380106, 'red bell pepper'),\n",
              "   (0.021705561985594538, 'chopped fresh sage'),\n",
              "   (0.021177701016965093, 'seasoning'),\n",
              "   (0.020030872127313436, 'black pepper'),\n",
              "   (0.01692809301055587, 'asiago'),\n",
              "   (0.01463133892973219, 'lime rind'),\n",
              "   (0.014386649358587777, 'whole wheat tortillas')],\n",
              "  -826.9280558452192),\n",
              " ([(0.07536706699792854, 'mirin'),\n",
              "   (0.07487640581665701, 'orange'),\n",
              "   (0.07423883870985472, 'sake'),\n",
              "   (0.07214361463806869, 'boiling water'),\n",
              "   (0.0488989035902346, 'fresh orange juice'),\n",
              "   (0.03379273976992028, 'soy sauce'),\n",
              "   (0.03230025301498656, 'black mustard seeds'),\n",
              "   (0.02939469439252613, 'dashi'),\n",
              "   (0.029114061895853586, 'chile powder'),\n",
              "   (0.020849637760009008, 'dough'),\n",
              "   (0.02047697657243444, 'chicken drumsticks'),\n",
              "   (0.019431288929588574, 'white miso'),\n",
              "   (0.018019673791315787, 'low-fat buttermilk'),\n",
              "   (0.017016124493369592, 'scallions'),\n",
              "   (0.014928311215386087, 'cooked shrimp'),\n",
              "   (0.013664193386912032, 'konbu'),\n",
              "   (0.013440439053404323, 'salmon'),\n",
              "   (0.013300208721792732, 'enokitake'),\n",
              "   (0.011284137025558895, 'lemon'),\n",
              "   (0.01048252845308271, 'thick-cut bacon')],\n",
              "  -830.1359642910674),\n",
              " ([(0.06318216547368936, 'brown rice'),\n",
              "   (0.05451917309598572, 'chipotles in adobo'),\n",
              "   (0.0475659992989353, 'black olives'),\n",
              "   (0.046874407770820053, 'ancho chile pepper'),\n",
              "   (0.04162584258889043, 'Mexican oregano'),\n",
              "   (0.029505015371697356, 'boneless pork shoulder'),\n",
              "   (0.027691218203964998, 'prawns'),\n",
              "   (0.027245098200903886, 'amchur'),\n",
              "   (0.02708590500137523, 'condensed milk'),\n",
              "   (0.026332998294137554, 'red beans'),\n",
              "   (0.02419623533336829, 'grapeseed oil'),\n",
              "   (0.023085908857485606, 'jumbo shrimp'),\n",
              "   (0.022885322009547727, 'coffee'),\n",
              "   (0.022438053023104653, 'cocoa powder'),\n",
              "   (0.021660011568658606, 'asafoetida'),\n",
              "   (0.02084970737128987, 'Anaheim chile'),\n",
              "   (0.016748753886188055, 'pitted date'),\n",
              "   (0.01619091160670405, 'swiss cheese'),\n",
              "   (0.015728023777015182, 'grate lime peel'),\n",
              "   (0.01291682419771473, 'rubbed sage')],\n",
              "  -855.1093063987937),\n",
              " ([(0.09581128739870975, 'sweet potatoes'),\n",
              "   (0.07681656862856906, 'cider vinegar'),\n",
              "   (0.0442118461154661, 'fresh mint'),\n",
              "   (0.039670657514386365, 'chopped fresh thyme'),\n",
              "   (0.03834577334443779, 'ground allspice'),\n",
              "   (0.03023488481711485, 'pecorino romano cheese'),\n",
              "   (0.028362111416523623, 'red cabbage'),\n",
              "   (0.027971996677030733, 'ground lamb'),\n",
              "   (0.025154215326449084, 'palm sugar'),\n",
              "   (0.024643233054416534, 'roasted peanuts'),\n",
              "   (0.024633003997988262, 'Italian bread'),\n",
              "   (0.022113158176580935, 'turnips'),\n",
              "   (0.020020248425717035, 'chorizo sausage'),\n",
              "   (0.019009704627164448, 'beans'),\n",
              "   (0.018593887080127627, 'tamarind paste'),\n",
              "   (0.0172936890568662, 'sherry'),\n",
              "   (0.015110102123234803, 'shallots'),\n",
              "   (0.014733531321929474, 'dried currants'),\n",
              "   (0.014055407699946962, 'honey'),\n",
              "   (0.013513401885190297, 'italian salad dressing')],\n",
              "  -855.5402417239558),\n",
              " ([(0.1110286927166784, 'cold water'),\n",
              "   (0.0791389635055004, 'hot water'),\n",
              "   (0.07189007982455736, 'chopped parsley'),\n",
              "   (0.06831169555158283, 'bread crumbs'),\n",
              "   (0.06823904024381534, 'low sodium chicken broth'),\n",
              "   (0.04528861621845049, 'cannellini beans'),\n",
              "   (0.04045696445040672, 'whole wheat flour'),\n",
              "   (0.027850952357652933, 'smoked paprika'),\n",
              "   (0.024617317724604515, 'swiss chard'),\n",
              "   (0.023287885211887602, 'dried porcini mushrooms'),\n",
              "   (0.02189008404495588, 'ice cubes'),\n",
              "   (0.017292199759749608, 'peeled tomatoes'),\n",
              "   (0.01698090630628957, 'stock'),\n",
              "   (0.016588590743974438, 'lemon slices'),\n",
              "   (0.016434649061194753, 'mango chutney'),\n",
              "   (0.015211086140058014, 'kosher salt'),\n",
              "   (0.014247433238669874, 'curry'),\n",
              "   (0.012321309314912203, 'whole chicken'),\n",
              "   (0.011739055535793219, 'puff pastry'),\n",
              "   (0.010340491748499945, 'yellow onion')],\n",
              "  -856.324345286095),\n",
              " ([(0.13905727038120533, 'potatoes'),\n",
              "   (0.06318677684385396, 'carrots'),\n",
              "   (0.06062021069484913, 'frozen peas'),\n",
              "   (0.05319505570186896, 'raisins'),\n",
              "   (0.03947620205044628, 'cauliflower'),\n",
              "   (0.038133099267586644, 'cream'),\n",
              "   (0.03304774103022449, 'peas'),\n",
              "   (0.02837462877351919, 'sliced almonds'),\n",
              "   (0.02749397388943258, 'fresh thyme'),\n",
              "   (0.02537287893296987, 'cardamom pods'),\n",
              "   (0.02518682334397553, 'button mushrooms'),\n",
              "   (0.024930464306768128, 'apples'),\n",
              "   (0.024170595273829705, 'corn oil'),\n",
              "   (0.023936513550225573, 'garbanzo beans'),\n",
              "   (0.022555756028251637, 'pecans'),\n",
              "   (0.021339736235747198, 'semisweet chocolate'),\n",
              "   (0.018969854399494796, 'cinnamon sticks'),\n",
              "   (0.01706354830752075, 'gruyere cheese'),\n",
              "   (0.014134396919042794, 'honey'),\n",
              "   (0.012676598519551099, 'chuck')],\n",
              "  -857.8959267365958),\n",
              " ([(0.17614461387653885, 'white sugar'),\n",
              "   (0.07073362950682023, 'warm water'),\n",
              "   (0.06550225479470657, 'sauce'),\n",
              "   (0.06350653635823873, 'egg whites'),\n",
              "   (0.05890027522511416, 'active dry yeast'),\n",
              "   (0.05834202113852669, 'eggs'),\n",
              "   (0.0359660802047722, 'greek yogurt'),\n",
              "   (0.03451076377453358, 'strawberries'),\n",
              "   (0.03326838271179326, 'evaporated milk'),\n",
              "   (0.02830406734535415, 'egg yolks'),\n",
              "   (0.02828092935411775, 'milk'),\n",
              "   (0.023862075581619967, 'vanilla extract'),\n",
              "   (0.02213395032480149, 'grated orange'),\n",
              "   (0.01223454503583864, 'table salt'),\n",
              "   (0.01027933693936043, 'rum'),\n",
              "   (0.008504000791097102, 'semolina flour'),\n",
              "   (0.007943678693004804, '2% reduced-fat milk'),\n",
              "   (0.007860219582271686, 'lemon peel'),\n",
              "   (0.007305847159127367, 'shredded swiss cheese'),\n",
              "   (0.006567926351355117, 'blueberries')],\n",
              "  -864.0470802184535),\n",
              " ([(0.09265831599682989, 'capers'),\n",
              "   (0.07251527338936221, 'cheese'),\n",
              "   (0.05646002486290843, 'pasta'),\n",
              "   (0.049610566154810826, 'lean ground beef'),\n",
              "   (0.038516700756624896, 'salt and ground black pepper'),\n",
              "   (0.038356062146953085, 'white wine'),\n",
              "   (0.03304595968152287, 'anchovy fillets'),\n",
              "   (0.032384586785096196, 'bread crumb fresh'),\n",
              "   (0.030702375581286162, 'kalamata'),\n",
              "   (0.02860818003021297, 'ground turkey'),\n",
              "   (0.02758557893786795, 'tomatoes'),\n",
              "   (0.026702092310729616, 'iceberg lettuce'),\n",
              "   (0.02434086806185037, 'parsley'),\n",
              "   (0.023891453628534443, 'lard'),\n",
              "   (0.023286468410141543, 'salsa verde'),\n",
              "   (0.020158851687829826, 'pizza doughs'),\n",
              "   (0.016513095121532997, 'flat leaf parsley'),\n",
              "   (0.013552308475200009, 'artichokes'),\n",
              "   (0.012808412468098742, 'Mexican cheese'),\n",
              "   (0.012105607063438549, 'pork loin')],\n",
              "  -865.7791258397932),\n",
              " ([(0.10957278729375138, 'ground cinnamon'),\n",
              "   (0.08455091516540669, 'ground ginger'),\n",
              "   (0.0818560063300633, 'ground nutmeg'),\n",
              "   (0.06853260452205107, 'ground cloves'),\n",
              "   (0.04190375123642812, 'nutmeg'),\n",
              "   (0.04053925346837013, 'rice wine'),\n",
              "   (0.03338810157811266, 'asparagus'),\n",
              "   (0.03255563338745711, 'star anise'),\n",
              "   (0.03112299817293604, 'vegetables'),\n",
              "   (0.02620200535470187, 'plain flour'),\n",
              "   (0.023422171970297403, 'cinnamon sticks'),\n",
              "   (0.02290768620512602, 'seeds'),\n",
              "   (0.022310151787959642, 'chopped walnuts'),\n",
              "   (0.022173940475458457, 'ground allspice'),\n",
              "   (0.019897511375794385, 'molasses'),\n",
              "   (0.017995339067492892, 'brown sugar'),\n",
              "   (0.01701732973762006, 'crushed garlic'),\n",
              "   (0.01657657235054871, 'mustard'),\n",
              "   (0.014605185090681538, 'white beans'),\n",
              "   (0.014172872094602633, 'ranch dressing')],\n",
              "  -869.9674662134294),\n",
              " ([(0.0773859835858995, 'ground white pepper'),\n",
              "   (0.05929838390336551, 'mint leaves'),\n",
              "   (0.05854870870681455, 'peanut oil'),\n",
              "   (0.05284410394107403, 'cooked rice'),\n",
              "   (0.042562571343906376, 'napa cabbage'),\n",
              "   (0.04225128551815159, 'white pepper'),\n",
              "   (0.03225860803296398, 'salmon fillets'),\n",
              "   (0.03162682256820583, 'collard greens'),\n",
              "   (0.030735404070793712, 'pork'),\n",
              "   (0.025530959171056092, 'pork belly'),\n",
              "   (0.024571977802645903, 'kosher salt'),\n",
              "   (0.023621922323581644, 'shallots'),\n",
              "   (0.021087484780397212, 'Thai fish sauce'),\n",
              "   (0.020652753496335975, 'pears'),\n",
              "   (0.020173796429439776, 'sweet chili sauce'),\n",
              "   (0.01985535038269824, 'pesto'),\n",
              "   (0.019283248090114554, 'freshly grated parmesan'),\n",
              "   (0.017952065773455865, 'cilantro stems'),\n",
              "   (0.017476842988281015, 'cognac'),\n",
              "   (0.016499149460588794, 'tamari soy sauce')],\n",
              "  -878.8552052827262),\n",
              " ([(0.05627408482815246, 'vegetable stock'),\n",
              "   (0.04661091198389748, 'french bread'),\n",
              "   (0.043702058079649074, 'frozen corn'),\n",
              "   (0.04157619908055947, 'chopped tomatoes'),\n",
              "   (0.04009954005491254, 'fresh tomatoes'),\n",
              "   (0.0363541607597319, 'mascarpone'),\n",
              "   (0.030236696051524972, 'curry paste'),\n",
              "   (0.028593587658577287, 'red lentils'),\n",
              "   (0.027621394452840415, 'bananas'),\n",
              "   (0.026532268056093832, 'fresh green bean'),\n",
              "   (0.02550436417959374, 'masa harina'),\n",
              "   (0.02174631264236984, 'pico de gallo'),\n",
              "   (0.020023237637330375, 'ground sirloin'),\n",
              "   (0.019078466638127164, 'dipping sauces'),\n",
              "   (0.018410849232113977, 'chorizo'),\n",
              "   (0.01567177983892895, 'chicken stock cubes'),\n",
              "   (0.015599409034894002, 'fruit'),\n",
              "   (0.015337124122232149, 'orange liqueur'),\n",
              "   (0.013856607112006262, 'lean ground pork'),\n",
              "   (0.013624067883432301, 'shredded parmesan cheese')],\n",
              "  -882.631926061842),\n",
              " ([(0.18063709070449413, 'lemon juice'),\n",
              "   (0.10640522326069048, 'heavy cream'),\n",
              "   (0.04022108441396566, 'unsweetened cocoa powder'),\n",
              "   (0.03886638862282207, 'peaches'),\n",
              "   (0.03293774952297964, 'margarine'),\n",
              "   (0.029468264950411143, 'slivered almonds'),\n",
              "   (0.029119156917124172, 'chili'),\n",
              "   (0.02889510573380319, 'lemon'),\n",
              "   (0.0268637469916044, 'spices'),\n",
              "   (0.025446946240762915, 'olives'),\n",
              "   (0.022063138925898767, 'honey'),\n",
              "   (0.02135501360885669, 'penne'),\n",
              "   (0.018019220411923515, 'mint sprigs'),\n",
              "   (0.015437664273727258, 'ripe olives'),\n",
              "   (0.01542844954108757, 'grated orange peel'),\n",
              "   (0.01540525350677954, 'lamb shoulder'),\n",
              "   (0.01458020136116712, 'ice water'),\n",
              "   (0.012588277568354022, 'skim milk'),\n",
              "   (0.012132416366478323, 'fresh parsley'),\n",
              "   (0.011273579217502083, 'pistachios')],\n",
              "  -886.5407657435101),\n",
              " ([(0.06944038968781949, 'chile pepper'),\n",
              "   (0.06935971269747021, 'orange juice'),\n",
              "   (0.06581471452966313, 'dijon mustard'),\n",
              "   (0.05642808580207259, 'white wine vinegar'),\n",
              "   (0.04050204978341877, 'chives'),\n",
              "   (0.037279287826623334, 'roasted red peppers'),\n",
              "   (0.03629490763138779, 'bread flour'),\n",
              "   (0.03261017351460765, 'pinenuts'),\n",
              "   (0.029156277129529493, 'fettucine'),\n",
              "   (0.025392755825820054, 'part-skim ricotta cheese'),\n",
              "   (0.024195912603565937, 'goat cheese'),\n",
              "   (0.02392322455417044, 'dry yeast'),\n",
              "   (0.022960133655051077, 'barbecue sauce'),\n",
              "   (0.022336334695491112, 'ricotta'),\n",
              "   (0.021951757010922418, 'warm water'),\n",
              "   (0.02151993564131196, 'greek style plain yogurt'),\n",
              "   (0.019711286156684077, 'ice'),\n",
              "   (0.01921912855600382, 'canned low sodium chicken broth'),\n",
              "   (0.017502933890319268, 'honey'),\n",
              "   (0.017437267324938003, 'tequila')],\n",
              "  -893.5097222158313),\n",
              " ([(0.09725266726679468, 'white vinegar'),\n",
              "   (0.09669128531200512, 'crushed red pepper flakes'),\n",
              "   (0.07552100288588949, 'cabbage'),\n",
              "   (0.05832360228382135, 'chopped garlic'),\n",
              "   (0.04205388487700766, 'fresh spinach'),\n",
              "   (0.04177796291557628, 'flank steak'),\n",
              "   (0.03541247358691236, 'reduced sodium soy sauce'),\n",
              "   (0.03322314561272972, 'dark brown sugar'),\n",
              "   (0.032256289277791464, 'almond extract'),\n",
              "   (0.03151781818106619, 'queso fresco'),\n",
              "   (0.023175392697473946, 'almonds'),\n",
              "   (0.02205702244788017, 'chili pepper'),\n",
              "   (0.01931720075230373, 'grated lemon peel'),\n",
              "   (0.01930255044542632, 'whole peeled tomatoes'),\n",
              "   (0.01735119750955461, 'sunflower oil'),\n",
              "   (0.015833243212554596, 'kosher salt'),\n",
              "   (0.015416507470143436, 'orange bell pepper'),\n",
              "   (0.015083691810702371, 'corn husks'),\n",
              "   (0.014461507667651518, 'instant yeast'),\n",
              "   (0.012581544756323186, 'rib')],\n",
              "  -911.3002197450708),\n",
              " ([(0.0742189408916522, 'green beans'),\n",
              "   (0.0632329882273897, 'fine sea salt'),\n",
              "   (0.061201059894894556, 'boneless chicken skinless thigh'),\n",
              "   (0.04128715079416139, 'brandy'),\n",
              "   (0.038354902970070874, 'pancetta'),\n",
              "   (0.035735625527964145, 'orange zest'),\n",
              "   (0.034977063907020704, 'coconut'),\n",
              "   (0.033814857940256404, 'shredded sharp cheddar cheese'),\n",
              "   (0.03334773162868353, 'cooked chicken'),\n",
              "   (0.03258481637568572, 'cream cheese, soften'),\n",
              "   (0.025045864817528206, 'dried red chile peppers'),\n",
              "   (0.02288941302955224, 'bamboo shoots'),\n",
              "   (0.022612720655953676, 'sliced black olives'),\n",
              "   (0.021821147035185454, 'yeast'),\n",
              "   (0.021467217966635217, 'Italian parsley leaves'),\n",
              "   (0.02042327835472209, 'blackberries'),\n",
              "   (0.019394811880185818, 'fillets'),\n",
              "   (0.017453517047078176, 'small red potato'),\n",
              "   (0.016466946348504024, 'golden brown sugar'),\n",
              "   (0.016005695752036114, 'parsley sprigs')],\n",
              "  -924.1136062419237)]"
            ]
          },
          "metadata": {
            "tags": []
          },
          "execution_count": 47
        }
      ]
    },
    {
      "cell_type": "code",
      "metadata": {
        "id": "yzrrVAFZVhnR"
      },
      "source": [
        "def topics_mean(all_topics):\n",
        "  return np.mean([one_topics[1] for one_topics in all_topics])"
      ],
      "execution_count": 41,
      "outputs": []
    },
    {
      "cell_type": "code",
      "metadata": {
        "id": "K82lYT7WV7_O",
        "outputId": "217a366f-63b1-43ca-d1b9-1590e83158d2",
        "colab": {
          "base_uri": "https://localhost:8080/",
          "height": 51
        }
      },
      "source": [
        "print(topics_mean(top_1))\n",
        "print(topics_mean(top_2))"
      ],
      "execution_count": 42,
      "outputs": [
        {
          "output_type": "stream",
          "text": [
            "-703.2019367755069\n",
            "-747.6959617371538\n"
          ],
          "name": "stdout"
        }
      ]
    },
    {
      "cell_type": "code",
      "metadata": {
        "id": "ColDjz5AWUGr"
      },
      "source": [
        "coherence = topics_mean(top_1)\n",
        "coherence2 = topics_mean(top_2)"
      ],
      "execution_count": 43,
      "outputs": []
    },
    {
      "cell_type": "code",
      "metadata": {
        "id": "Cz9DWdwvvA3e"
      },
      "source": [
        "def save_answers3(coherence, coherence2):\n",
        "    with open(\"cooking_LDA_pa_task3.txt\", \"w\") as fout:\n",
        "        fout.write(\" \".join([\"%3f\"%el for el in [coherence, coherence2]]))"
      ],
      "execution_count": 29,
      "outputs": []
    },
    {
      "cell_type": "code",
      "metadata": {
        "id": "ptSXuepgK9Oq"
      },
      "source": [
        "save_answers3(coherence, coherence2)"
      ],
      "execution_count": 44,
      "outputs": []
    },
    {
      "cell_type": "markdown",
      "metadata": {
        "id": "hZ_x-9dEvA3i"
      },
      "source": [
        "Считается, что когерентность хорошо соотносится с человеческими оценками интерпретируемости тем. Поэтому на больших текстовых коллекциях когерентность обычно повышается, если убрать фоновую лексику. Однако в нашем случае этого не произошло. "
      ]
    },
    {
      "cell_type": "markdown",
      "metadata": {
        "id": "N3hvx6CjvA3j"
      },
      "source": [
        "### Изучение влияния гиперпараметра alpha"
      ]
    },
    {
      "cell_type": "markdown",
      "metadata": {
        "id": "l2BwcWP5vA3j"
      },
      "source": [
        "В этом разделе мы будем работать со второй моделью, то есть той, которая построена по сокращенному корпусу. \n",
        "\n",
        "Пока что мы посмотрели только на матрицу темы-слова, теперь давайте посмотрим на матрицу темы-документы. Выведите темы для нулевого (или любого другого) документа из корпуса, воспользовавшись методом *get_document_topics* второй модели:"
      ]
    },
    {
      "cell_type": "code",
      "metadata": {
        "id": "-Q8tIPLRvA3k"
      },
      "source": [
        ""
      ],
      "execution_count": 30,
      "outputs": []
    },
    {
      "cell_type": "markdown",
      "metadata": {
        "id": "pC20scQWvA3o"
      },
      "source": [
        "Также выведите содержимое переменной *.alpha* второй модели:"
      ]
    },
    {
      "cell_type": "code",
      "metadata": {
        "id": "k_0v0QS2vA3p"
      },
      "source": [
        ""
      ],
      "execution_count": 30,
      "outputs": []
    },
    {
      "cell_type": "markdown",
      "metadata": {
        "id": "Ov-020TfvA3u"
      },
      "source": [
        "У вас должно получиться, что документ характеризуется небольшим числом тем. Попробуем поменять гиперпараметр alpha, задающий априорное распределение Дирихле для распределений тем в документах."
      ]
    },
    {
      "cell_type": "markdown",
      "metadata": {
        "id": "X6_lHdbMvA3v"
      },
      "source": [
        "__Задание 4.__ Обучите третью модель: используйте сокращенный корпус (corpus2 и dictionary2) и установите параметр __alpha=1__, passes=5. Не забудьте про фиксацию seed! Выведите темы новой модели для нулевого документа; должно получиться, что распределение над множеством тем практически равномерное. Чтобы убедиться в том, что во второй модели документы описываются гораздо более разреженными распределениями, чем в третьей, посчитайте суммарное количество элементов, __превосходящих 0.01__, в матрицах темы-документы обеих моделей. Другими словами, запросите темы  модели для каждого документа с параметром *minimum_probability=0.01* и просуммируйте число элементов в получаемых массивах. Передайте две суммы (сначала для модели с alpha по умолчанию, затем для модели в alpha=1) в функцию save_answers4."
      ]
    },
    {
      "cell_type": "code",
      "metadata": {
        "id": "DJsOz6lcvA3w"
      },
      "source": [
        ""
      ],
      "execution_count": 30,
      "outputs": []
    },
    {
      "cell_type": "code",
      "metadata": {
        "id": "chhYA7-rvA31"
      },
      "source": [
        ""
      ],
      "execution_count": 30,
      "outputs": []
    },
    {
      "cell_type": "code",
      "metadata": {
        "id": "2kSb6CZSvA38"
      },
      "source": [
        ""
      ],
      "execution_count": 30,
      "outputs": []
    },
    {
      "cell_type": "code",
      "metadata": {
        "id": "InmneQPTvA3_"
      },
      "source": [
        "def save_answers4(count_model2, count_model3):\n",
        "    with open(\"cooking_LDA_pa_task4.txt\", \"w\") as fout:\n",
        "        fout.write(\" \".join([str(el) for el in [count_model2, count_model3]]))"
      ],
      "execution_count": 31,
      "outputs": []
    },
    {
      "cell_type": "markdown",
      "metadata": {
        "id": "9LpaSCSwvA4D"
      },
      "source": [
        "Таким образом, гиперпараметр __alpha__ влияет на разреженность распределений тем в документах. Аналогично гиперпараметр __eta__ влияет на разреженность распределений слов в темах."
      ]
    },
    {
      "cell_type": "markdown",
      "metadata": {
        "id": "NgMkmVMRvA4E"
      },
      "source": [
        "### LDA как способ понижения размерности\n",
        "Иногда, распределения над темами, найденные с помощью LDA, добавляют в матрицу объекты-признаки как дополнительные, семантические, признаки, и это может улучшить качество решения задачи. Для простоты давайте просто обучим классификатор рецептов на кухни на признаках, полученных из LDA, и измерим точность (accuracy).\n",
        "\n",
        "__Задание 5.__ Используйте модель, построенную по сокращенной выборке с alpha по умолчанию (вторую модель). Составьте матрицу $\\Theta = p(t|d)$ вероятностей тем в документах; вы можете использовать тот же метод get_document_topics, а также вектор правильных ответов y (в том же порядке, в котором рецепты идут в переменной recipes). Создайте объект RandomForestClassifier со 100 деревьями, с помощью функции cross_val_score вычислите среднюю accuracy по трем фолдам (перемешивать данные не нужно) и передайте в функцию save_answers5."
      ]
    },
    {
      "cell_type": "code",
      "metadata": {
        "id": "cDk006uAvA4E"
      },
      "source": [
        "from sklearn.ensemble import RandomForestClassifier\n",
        "from sklearn.model_selection import cross_val_score"
      ],
      "execution_count": 32,
      "outputs": []
    },
    {
      "cell_type": "code",
      "metadata": {
        "id": "3HFChO6dvA4I"
      },
      "source": [
        ""
      ],
      "execution_count": 32,
      "outputs": []
    },
    {
      "cell_type": "code",
      "metadata": {
        "id": "Z0NtgsoBvA4N"
      },
      "source": [
        ""
      ],
      "execution_count": 32,
      "outputs": []
    },
    {
      "cell_type": "code",
      "metadata": {
        "id": "L78CAIkxvA4Q"
      },
      "source": [
        ""
      ],
      "execution_count": 32,
      "outputs": []
    },
    {
      "cell_type": "code",
      "metadata": {
        "id": "8Z4AwPJwvA4U"
      },
      "source": [
        "def save_answers5(accuracy):\n",
        "     with open(\"cooking_LDA_pa_task5.txt\", \"w\") as fout:\n",
        "        fout.write(str(accuracy))"
      ],
      "execution_count": 33,
      "outputs": []
    },
    {
      "cell_type": "markdown",
      "metadata": {
        "id": "M5tR1EkdvA4X"
      },
      "source": [
        "Для такого большого количества классов это неплохая точность. Вы можете попроовать обучать RandomForest на исходной матрице частот слов, имеющей значительно большую размерность, и увидеть, что accuracy увеличивается на 10–15%. Таким образом, LDA собрал не всю, но достаточно большую часть информации из выборки, в матрице низкого ранга."
      ]
    },
    {
      "cell_type": "markdown",
      "metadata": {
        "id": "RcyTjYVbvA4Y"
      },
      "source": [
        "### LDA — вероятностная модель\n",
        "Матричное разложение, использующееся в LDA, интерпретируется как следующий процесс генерации документов.\n",
        "\n",
        "Для документа $d$ длины $n_d$:\n",
        "1. Из априорного распределения Дирихле с параметром alpha сгенерировать распределение над множеством тем: $\\theta_d \\sim Dirichlet(\\alpha)$\n",
        "1. Для каждого слова $w = 1, \\dots, n_d$:\n",
        "    1. Сгенерировать тему из дискретного распределения $t \\sim \\theta_{d}$\n",
        "    1. Сгенерировать слово из дискретного распределения $w \\sim \\phi_{t}$.\n",
        "    \n",
        "Подробнее об этом в [Википедии](https://en.wikipedia.org/wiki/Latent_Dirichlet_allocation).\n",
        "\n",
        "В контексте нашей задачи получается, что, используя данный генеративный процесс, можно создавать новые рецепты. Вы можете передать в функцию модель и число ингредиентов и сгенерировать рецепт :)"
      ]
    },
    {
      "cell_type": "code",
      "metadata": {
        "id": "m_auUhmavA4Z",
        "outputId": "653f56c8-def6-4b51-b2f8-6d9182ee2a7e",
        "colab": {
          "base_uri": "https://localhost:8080/",
          "height": 129
        }
      },
      "source": [
        "def generate_recipe(model, num_ingredients):\n",
        "    theta = np.random.dirichlet(model.alpha)\n",
        "    for i in range(num_ingredients):\n",
        "        t = np.random.choice(np.arange(model.num_topics), p=theta)\n",
        "        topic = model.show_topic(t, topn=model.num_terms)\n",
        "        topic_distr = [x[1] for x in topic]\n",
        "        terms = [x[0] for x in topic]\n",
        "        w = np.random.choice(terms, p=topic_distr)\n",
        "        print w"
      ],
      "execution_count": 34,
      "outputs": [
        {
          "output_type": "error",
          "ename": "SyntaxError",
          "evalue": "ignored",
          "traceback": [
            "\u001b[0;36m  File \u001b[0;32m\"<ipython-input-34-f5b3c13f65b4>\"\u001b[0;36m, line \u001b[0;32m9\u001b[0m\n\u001b[0;31m    print w\u001b[0m\n\u001b[0m          ^\u001b[0m\n\u001b[0;31mSyntaxError\u001b[0m\u001b[0;31m:\u001b[0m Missing parentheses in call to 'print'. Did you mean print(w)?\n"
          ]
        }
      ]
    },
    {
      "cell_type": "code",
      "metadata": {
        "id": "_u6zaP87vA4c"
      },
      "source": [
        ""
      ],
      "execution_count": null,
      "outputs": []
    },
    {
      "cell_type": "markdown",
      "metadata": {
        "id": "-DUiDamzvA4g"
      },
      "source": [
        "### Интерпретация построенной модели\n",
        "Вы можете рассмотреть топы ингредиентов каждой темы. Большиснтво тем сами по себе похожи на рецепты; в некоторых собираются продукты одного вида, например, свежие фрукты или разные виды сыра.\n",
        "\n",
        "Попробуем эмпирически соотнести наши темы с национальными кухнями (cuisine). Построим матрицу $A$ размера темы $x$ кухни, ее элементы $a_{tc}$ — суммы $p(t|d)$ по всем документам $d$, которые отнесены к кухне $c$. Нормируем матрицу на частоты рецептов по разным кухням, чтобы избежать дисбаланса между кухнями. Следующая функция получает на вход объект модели, объект корпуса и исходные данные и возвращает нормированную матрицу $A$. Ее удобно визуализировать с помощью seaborn."
      ]
    },
    {
      "cell_type": "code",
      "metadata": {
        "id": "AnJTdPSmvA4h"
      },
      "source": [
        "import pandas\n",
        "import seaborn\n",
        "from matplotlib import pyplot as plt\n",
        "%matplotlib inline"
      ],
      "execution_count": null,
      "outputs": []
    },
    {
      "cell_type": "code",
      "metadata": {
        "id": "NzqWCZ8NvA4k"
      },
      "source": [
        "def compute_topic_cuisine_matrix(model, corpus, recipes):\n",
        "    # составляем вектор целевых признаков\n",
        "    targets = list(set([recipe[\"cuisine\"] for recipe in recipes]))\n",
        "    # составляем матрицу\n",
        "    tc_matrix = pandas.DataFrame(data=np.zeros((model.num_topics, len(targets))), columns=targets)\n",
        "    for recipe, bow in zip(recipes, corpus):\n",
        "        recipe_topic = model.get_document_topics(bow)\n",
        "        for t, prob in recipe_topic:\n",
        "            tc_matrix[recipe[\"cuisine\"]][t] += prob\n",
        "    # нормируем матрицу\n",
        "    target_sums = pandas.DataFrame(data=np.zeros((1, len(targets))), columns=targets)\n",
        "    for recipe in recipes:\n",
        "        target_sums[recipe[\"cuisine\"]] += 1\n",
        "    return pandas.DataFrame(tc_matrix.values/target_sums.values, columns=tc_matrix.columns)"
      ],
      "execution_count": null,
      "outputs": []
    },
    {
      "cell_type": "code",
      "metadata": {
        "id": "We20j5-UvA4o"
      },
      "source": [
        "def plot_matrix(tc_matrix):\n",
        "    plt.figure(figsize=(10, 10))\n",
        "    seaborn.heatmap(tc_matrix, square=True)"
      ],
      "execution_count": null,
      "outputs": []
    },
    {
      "cell_type": "code",
      "metadata": {
        "id": "N8CgXWP4vA4t"
      },
      "source": [
        "# Визуализируйте матрицу\n"
      ],
      "execution_count": null,
      "outputs": []
    },
    {
      "cell_type": "markdown",
      "metadata": {
        "id": "z6XVvvXQvA4x"
      },
      "source": [
        "Чем темнее квадрат в матрице, тем больше связь этой темы с данной кухней. Мы видим, что у нас есть темы, которые связаны с несколькими кухнями. Такие темы показывают набор ингредиентов, которые популярны в кухнях нескольких народов, то есть указывают на схожесть кухонь этих народов. Некоторые темы распределены по всем кухням равномерно, они показывают наборы продуктов, которые часто используются в кулинарии всех стран. "
      ]
    },
    {
      "cell_type": "markdown",
      "metadata": {
        "id": "LbuuK8kvvA4z"
      },
      "source": [
        "Жаль, что в датасете нет названий рецептов, иначе темы было бы проще интерпретировать..."
      ]
    },
    {
      "cell_type": "markdown",
      "metadata": {
        "id": "wrRTYuxHvA40"
      },
      "source": [
        "### Заключение\n",
        "В этом задании вы построили несколько моделей LDA, посмотрели, на что влияют гиперпараметры модели и как можно использовать построенную модель. "
      ]
    }
  ]
}