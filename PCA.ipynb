{
  "nbformat": 4,
  "nbformat_minor": 0,
  "metadata": {
    "kernelspec": {
      "display_name": "Python 3",
      "language": "python",
      "name": "python3"
    },
    "language_info": {
      "codemirror_mode": {
        "name": "ipython",
        "version": 3
      },
      "file_extension": ".py",
      "mimetype": "text/x-python",
      "name": "python",
      "nbconvert_exporter": "python",
      "pygments_lexer": "ipython3",
      "version": "3.6.8"
    },
    "colab": {
      "name": "PCA.ipynb",
      "provenance": [],
      "collapsed_sections": []
    }
  },
  "cells": [
    {
      "cell_type": "markdown",
      "metadata": {
        "id": "AUsQeCHR45xv"
      },
      "source": [
        "**Корректность проверена на Python 3.6:**\n",
        "+ pandas 0.23.4\n",
        "+ numpy 1.15.4\n",
        "+ matplotlib 3.0.2\n",
        "+ sklearn 0.20.2"
      ]
    },
    {
      "cell_type": "markdown",
      "metadata": {
        "id": "R3RBXjpF45xy"
      },
      "source": [
        "# Метод главных компонент\n",
        "\n",
        "В данном задании вам будет предложено ознакомиться с подходом, который переоткрывался в самых разных областях, имеет множество разных интерпретаций, а также несколько интересных обобщений: методом главных компонент (principal component analysis)."
      ]
    },
    {
      "cell_type": "markdown",
      "metadata": {
        "id": "o7iqe6tp45x0"
      },
      "source": [
        "## Programming assignment\n",
        "\n",
        "Задание разбито на две части: \n",
        "- работа с модельными данными,\n",
        "- работа с реальными данными.\n",
        "\n",
        "В конце каждого пункта от вас требуется получить ответ и загрузить в соответствующую форму в виде набора текстовых файлов."
      ]
    },
    {
      "cell_type": "code",
      "metadata": {
        "id": "HfaNUlrD45x2"
      },
      "source": [
        "import numpy as np\n",
        "import pandas as pd\n",
        "import matplotlib\n",
        "from matplotlib import pyplot as plt\n",
        "import matplotlib.patches as mpatches\n",
        "matplotlib.style.use('ggplot')\n",
        "%matplotlib inline"
      ],
      "execution_count": 10,
      "outputs": []
    },
    {
      "cell_type": "markdown",
      "metadata": {
        "id": "FiTYJF1q45x8"
      },
      "source": [
        "## Теория\n",
        "\n",
        "Любой набор данных представляет собой матрицу $X$.\n",
        "\n",
        "Метод главных компонент последовательно находит следующие линейные комбинации признаков (компоненты) из $X$:\n",
        "- каждая компонента ортогональна всем остальным и нормированна: $<w_i, w_j> = 0, \\quad ||w_i||=1$,\n",
        "- каждая компонента описывает максимально возможную дисперсию данных (с учётом предыдущего ограничения).\n",
        "\n",
        "Предположения, в рамках которых данный подход будет работать хорошо:\n",
        "- линейность компонент: мы предполагаем, что данные можно анализировать линейными методами,\n",
        "- большие дисперсии важны: предполагается, что наиболее важны те направления в данных, вдоль которых они имеют наибольшую дисперсию,\n",
        "- все компоненты ортогональны: это предположение позволяет проводить анализ главных компонент при помощи техник линейной алгебры (например, сингулярное разложение матрицы $X$ или спектральное разложение матрицы $X^TX$).\n",
        "\n",
        "Как это выглядит математически?\n",
        "\n",
        "Обозначим следующим образом выборочную матрицу ковариации данных: $\\hat{C} \\propto Q = X^TX$. ($Q$ отличается от $\\hat{C}$ нормировкой на число объектов).\n",
        "\n",
        "Сингулярное разложение матрицы $Q$ выглядит следующим образом:\n",
        "\n",
        "$$Q = X^TX = W \\Lambda W^T$$\n",
        "\n",
        "Можно строго показать, что столбцы матрицы $W$ являются главными компонентами матрицы $X$, т.е. комбинациями признаков, удовлетворяющих двум условиям, указанным в начале. При этом дисперсия данных вдоль направления, заданного каждой компонентой, равна соответствующему значению диагональной матрицы $\\Lambda$.\n",
        "\n",
        "Как же на основании этого преобразования производить уменьшение размерности? Мы можем отранжировать компоненты, используя значения дисперсий данных вдоль них.\n",
        "\n",
        "Сделаем это: $\\lambda_{(1)} > \\lambda_{(2)} > \\dots > \\lambda_{(D)}$.\n",
        "\n",
        "Тогда, если мы выберем компоненты, соответствующие первым $d$ дисперсиям из этого списка, мы получим набор из $d$ новых признаков, которые наилучшим образом описывают дисперсию изначального набора данных среди всех других возможных линейных комбинаций исходных признаков матрицы $X$. \n",
        "- Если $d=D$, то мы вообще не теряем никакой информации.\n",
        "- Если $d<D$, то мы теряем информацию, которая, при справедливости указанных выше предположений, будет пропорциональна сумме дисперсий отброшенных компонент.\n",
        "\n",
        "Получается, что метод главных компонент позволяет нам ранжировать полученные компоненты по \"значимости\", а также запустить процесс их отбора."
      ]
    },
    {
      "cell_type": "markdown",
      "metadata": {
        "id": "dxVU_rtK45x9"
      },
      "source": [
        "## Пример\n",
        "\n",
        "Рассмотрим набор данных, который сэмплирован из многомерного нормального распределения с матрицей ковариации $C = \\begin{pmatrix} 3 & 1 \\\\ 1 & 2 \\end{pmatrix}$."
      ]
    },
    {
      "cell_type": "code",
      "metadata": {
        "id": "tonNgzaG45x-",
        "outputId": "e97935f9-656d-4ee9-e12c-fc775b4a58d0",
        "colab": {
          "base_uri": "https://localhost:8080/",
          "height": 265
        }
      },
      "source": [
        "from sklearn.decomposition import PCA\n",
        "\n",
        "mu = np.zeros(2)\n",
        "C = np.array([[3,1],[1,2]])\n",
        "\n",
        "data = np.random.multivariate_normal(mu, C, size=50)\n",
        "plt.scatter(data[:,0], data[:,1])\n",
        "plt.show()"
      ],
      "execution_count": 11,
      "outputs": [
        {
          "output_type": "display_data",
          "data": {
            "image/png": "[encoded data removed]",
            "text/plain": [
              "<Figure size 432x288 with 1 Axes>"
            ]
          },
          "metadata": {
            "tags": [],
            "needs_background": "light"
          }
        }
      ]
    },
    {
      "cell_type": "markdown",
      "metadata": {
        "id": "HCmg8XSe45yC"
      },
      "source": [
        "Путём диагонализации истинной матрицы ковариаций $C$, мы можем найти преобразование исходного набора данных, компоненты которого наилучшим образом будут описывать дисперсию, с учётом их ортогональности друг другу:"
      ]
    },
    {
      "cell_type": "code",
      "metadata": {
        "id": "yeIP7XWo45yD",
        "outputId": "98aa1f91-4c17-403a-f8c8-5861dad950e1",
        "colab": {
          "base_uri": "https://localhost:8080/",
          "height": 265
        }
      },
      "source": [
        "v, W_true = np.linalg.eig(C)\n",
        "\n",
        "plt.scatter(data[:,0], data[:,1])\n",
        "# построим истинные компоненты, вдоль которых максимальна дисперсия данных\n",
        "plt.plot(data[:,0], (W_true[0,0]/W_true[0,1])*data[:,0], color=\"g\")\n",
        "plt.plot(data[:,0], (W_true[1,0]/W_true[1,1])*data[:,0], color=\"g\")\n",
        "g_patch = mpatches.Patch(color='g', label='True components')\n",
        "plt.legend(handles=[g_patch])\n",
        "plt.axis('equal')\n",
        "limits = [np.minimum(np.amin(data[:,0]), np.amin(data[:,1])),\n",
        "          np.maximum(np.amax(data[:,0]), np.amax(data[:,1]))]\n",
        "plt.xlim(limits[0],limits[1])\n",
        "plt.ylim(limits[0],limits[1])\n",
        "plt.draw()"
      ],
      "execution_count": 12,
      "outputs": [
        {
          "output_type": "display_data",
          "data": {
            "image/png": "[encoded data removed]",
            "text/plain": [
              "<Figure size 432x288 with 1 Axes>"
            ]
          },
          "metadata": {
            "tags": [],
            "needs_background": "light"
          }
        }
      ]
    },
    {
      "cell_type": "markdown",
      "metadata": {
        "id": "1wWt8G6y45yH"
      },
      "source": [
        "А теперь сравним эти направления с направлениями, которые выбирает метод главных компонент:"
      ]
    },
    {
      "cell_type": "code",
      "metadata": {
        "id": "JA7aDMZv45yI"
      },
      "source": [
        "def plot_principal_components(data, model, scatter=True, legend=True):\n",
        "    W_pca = model.components_\n",
        "    if scatter:\n",
        "        plt.scatter(data[:,0], data[:,1])\n",
        "    plt.plot(data[:,0], -(W_pca[0,0]/W_pca[0,1])*data[:,0], color=\"c\")\n",
        "    plt.plot(data[:,0], -(W_pca[1,0]/W_pca[1,1])*data[:,0], color=\"c\")\n",
        "    if legend:\n",
        "        c_patch = mpatches.Patch(color='c', label='Principal components')\n",
        "        plt.legend(handles=[c_patch], loc='lower right')\n",
        "    # сделаем графики красивыми:\n",
        "    plt.axis('equal')\n",
        "    limits = [np.minimum(np.amin(data[:,0]), np.amin(data[:,1]))-0.5,\n",
        "              np.maximum(np.amax(data[:,0]), np.amax(data[:,1]))+0.5]\n",
        "    plt.xlim(limits[0],limits[1])\n",
        "    plt.ylim(limits[0],limits[1])\n",
        "    plt.draw()"
      ],
      "execution_count": 13,
      "outputs": []
    },
    {
      "cell_type": "code",
      "metadata": {
        "id": "c7VtXRK945yL",
        "outputId": "406f4f28-65ee-43f1-a628-7cd37d0c7cbf",
        "colab": {
          "base_uri": "https://localhost:8080/",
          "height": 265
        }
      },
      "source": [
        "model = PCA(n_components=2)\n",
        "model.fit(data)\n",
        "\n",
        "plt.scatter(data[:,0], data[:,1])\n",
        "# построим истинные компоненты, вдоль которых максимальна дисперсия данных\n",
        "plt.plot(data[:,0], (W_true[0,0]/W_true[0,1])*data[:,0], color=\"g\")\n",
        "plt.plot(data[:,0], (W_true[1,0]/W_true[1,1])*data[:,0], color=\"g\")\n",
        "# построим компоненты, полученные с использованием метода PCA:\n",
        "plot_principal_components(data, model, scatter=False, legend=False)\n",
        "c_patch = mpatches.Patch(color='c', label='Principal components')\n",
        "plt.legend(handles=[g_patch, c_patch])\n",
        "plt.draw()"
      ],
      "execution_count": 14,
      "outputs": [
        {
          "output_type": "display_data",
          "data": {
            "image/png": "[encoded data removed]",
            "text/plain": [
              "<Figure size 432x288 with 1 Axes>"
            ]
          },
          "metadata": {
            "tags": [],
            "needs_background": "light"
          }
        }
      ]
    },
    {
      "cell_type": "markdown",
      "metadata": {
        "id": "lsK1ISrL45yO"
      },
      "source": [
        "Видно, что уже при небольшом количестве данных они отличаются незначительно. Увеличим размер выборки:"
      ]
    },
    {
      "cell_type": "code",
      "metadata": {
        "id": "YOzq4NeZ45yP",
        "outputId": "fa7e9595-1e25-4832-dc7e-50f06e4588de",
        "colab": {
          "base_uri": "https://localhost:8080/",
          "height": 265
        }
      },
      "source": [
        "data_large = np.random.multivariate_normal(mu, C, size=5000)\n",
        "\n",
        "model = PCA(n_components=2)\n",
        "model.fit(data_large)\n",
        "plt.scatter(data_large[:,0], data_large[:,1], alpha=0.1)\n",
        "# построим истинные компоненты, вдоль которых максимальна дисперсия данных\n",
        "plt.plot(data_large[:,0], (W_true[0,0]/W_true[0,1])*data_large[:,0], color=\"g\")\n",
        "plt.plot(data_large[:,0], (W_true[1,0]/W_true[1,1])*data_large[:,0], color=\"g\")\n",
        "# построим компоненты, полученные с использованием метода PCA:\n",
        "plot_principal_components(data_large, model, scatter=False, legend=False)\n",
        "c_patch = mpatches.Patch(color='c', label='Principal components')\n",
        "plt.legend(handles=[g_patch, c_patch])\n",
        "plt.draw()"
      ],
      "execution_count": 15,
      "outputs": [
        {
          "output_type": "display_data",
          "data": {
            "image/png": "[encoded data removed]",
            "text/plain": [
              "<Figure size 432x288 with 1 Axes>"
            ]
          },
          "metadata": {
            "tags": [],
            "needs_background": "light"
          }
        }
      ]
    },
    {
      "cell_type": "markdown",
      "metadata": {
        "id": "07l0xUgj45yS"
      },
      "source": [
        "В этом случае главные компоненты значительно точнее приближают истинные направления данных, вдоль которых наблюдается наибольшая дисперсия."
      ]
    },
    {
      "cell_type": "markdown",
      "metadata": {
        "id": "u3aTf5Ft45yT"
      },
      "source": [
        "## Статистический взгляд на модель\n",
        "\n",
        "Как формализовать предположения метода, указанные выше? При помощи вероятностной модели!\n",
        "\n",
        "Задача, стоящая за любым методом уменьшения размерности: получить из набора зашумлённых признаков $X$ истинные значения $Y$, которые на самом деле определяют набор данных (т.е. сведение датасета с большим количеством признаков к данным, имеющим т.н. \"эффективную размерность\").\n",
        "\n",
        "В случае метода главных компонент мы хотим найти направления, вдоль которых максимальна дисперсия, с учётом описанных выше предположений о структуре данных и компонент.\n",
        "\n",
        "Материал, описанный ниже в данной секции, не обязателен для ознакомления для выполнения следующего задания, т.к. требует некоторых знаний статистики.\n",
        "\n",
        "Для тех, кто собирается его пропустить: в конце раздела мы получим метрику качества, которая должна определять, насколько данные хорошо описываются построенной моделью при заданном числе компонент. Отбор признаков при этом сводится к тому, что мы выбираем то количество компонент, при котором используемая метрика (логарифм правдоподобия) является максимальной.\n",
        "\n",
        "С учётом предположений задача метода главных компонент выглядит следующим образом:\n",
        "\n",
        "$$ x = Wy + \\mu + \\epsilon$$\n",
        "\n",
        "где:\n",
        "- $x$ -- наблюдаемые данные\n",
        "- $W$ -- матрица главных компонент (каждый стобец -- одна компонента)\n",
        "- $y$ -- их проекция на главные компоненты\n",
        "- $\\mu$ -- среднее наблюдаемых данных\n",
        "- $\\epsilon \\sim \\mathcal{N}(0, \\sigma^2I)$ -- нормальный шум\n",
        "\n",
        "Исходя из распределения шума, выпишем распределение на $x$:\n",
        "\n",
        "$$p(x \\mid y) = \\mathcal{N}(Wx + \\mu, \\sigma^2I) $$\n",
        "\n",
        "Введём априорное распределение на $y$:\n",
        "\n",
        "$$p(y) = \\mathcal{N}(0, 1)$$\n",
        "\n",
        "Выведем из этого при помощи формулы Байеса маргинальное распределение на $p(x)$:\n",
        "\n",
        "$$p(x) = \\mathcal{N}(\\mu, \\sigma^2I + WW^T)$$\n",
        "\n",
        "Тогда правдоподобие набора данных при условии используемой модели выглядит следующим образом:\n",
        "\n",
        "$$\\mathcal{L} = \\sum_{i=1}^N \\log p(x_i) = -N/2 \\Big( d\\log(2\\pi) + \\log |C| + \\text{tr}(C^{-1}S) \\Big)$$\n",
        "\n",
        "где:\n",
        "- $C = \\sigma^2I + WW^T$ -- матрица ковариации в маргинальной модели\n",
        "- $S = \\frac{1}{N} \\sum_{i=1}^N (x_i - \\mu)(x_i - \\mu)^T$ -- выборочная ковариация\n",
        "\n",
        "Значение $\\mathcal{L}$ имеет смысл логарифма вероятности получения набора данных $X$ при условии, что он удовлетворяет предположениям модели метода главных компонент. Чем оно больше -- тем лучше модель описывает наблюдаемые данные."
      ]
    },
    {
      "cell_type": "markdown",
      "metadata": {
        "id": "1wJt9moc45yT"
      },
      "source": [
        "## Задание 1. Автоматическое уменьшение размерности данных при помощи логарифма правдоподобия $\\mathcal{L}$\n",
        "\n",
        "Рассмотрим набор данных размерности $D$, чья реальная размерность значительно меньше наблюдаемой (назовём её $d$). От вас требуется:\n",
        "\n",
        "1. Для каждого значения $\\hat{d}$ в интервале [1,D] построить модель PCA с $\\hat{d}$ главными компонентами.\n",
        "2. Оценить средний логарифм правдоподобия данных для каждой модели на генеральной совокупности, используя метод кросс-валидации с 3 фолдами (итоговая оценка значения логарифма правдоподобия усредняется по всем фолдам).\n",
        "3. Найти модель, для которой он максимален, и внести в файл ответа число компонент в данной модели, т.е. значение $\\hat{d}_{opt}$.\n",
        "\n",
        "Для оценки логарифма правдоподобия модели для заданного числа главных компонент при помощи метода кросс-валидации используйте следующие функции:\n",
        "\n",
        "    model = PCA(n_components=n)\n",
        "    scores = cv_score(model, data)\n",
        "        \n",
        "Обратите внимание, что scores -- это вектор, длина которого равна числу фолдов. Для получения оценки на правдоподобие модели его значения требуется усреднить.\n",
        "\n",
        "Для визуализации оценок можете использовать следующую функцию:\n",
        "\n",
        "    plot_scores(d_scores)\n",
        "    \n",
        "которой на вход передаётся вектор полученных оценок логарифма правдоподобия данных для каждого $\\hat{d}$.\n",
        "\n",
        "Для интересующихся: данные для заданий 1 и 2 были сгенерированны в соответствии с предполагаемой PCA моделью. То есть: данные $Y$ с эффективной размерностью $d$, полученные из независимых равномерных распределений, линейно траснформированны случайной матрицей $W$ в пространство размерностью $D$, после чего ко всем признакам был добавлен независимый нормальный шум с дисперсией $\\sigma$."
      ]
    },
    {
      "cell_type": "code",
      "metadata": {
        "id": "nzaBieWu45yU"
      },
      "source": [
        "from sklearn.decomposition import PCA\n",
        "from sklearn.model_selection import cross_val_score as cv_score\n",
        "\n",
        "def plot_scores(d_scores):\n",
        "    n_components = np.arange(1,d_scores.size+1)\n",
        "    plt.plot(n_components, d_scores, 'b', label='PCA scores')\n",
        "    plt.xlim(n_components[0], n_components[-1])\n",
        "    plt.xlabel('n components')\n",
        "    plt.ylabel('cv scores')\n",
        "    plt.legend(loc='lower right')\n",
        "    plt.show()\n",
        "    \n",
        "def write_answer_1(optimal_d):\n",
        "    with open(\"pca_answer1.txt\", \"w\") as fout:\n",
        "        fout.write(str(optimal_d))\n",
        "        \n",
        "data = pd.read_csv('sample_data/data_task1.csv')\n",
        "\n",
        "# place your code here\n",
        "d_scores = np.array([])\n",
        "for n in range(1, data.shape[1]):\n",
        "  model = PCA(n_components=n)\n",
        "  scores = cv_score(model, data, cv=3).mean()\n",
        "  d_scores = np.append(d_scores, scores)\n"
      ],
      "execution_count": 16,
      "outputs": []
    },
    {
      "cell_type": "code",
      "metadata": {
        "id": "Q4zOe7GdClw9",
        "outputId": "d03fcfe1-9937-4622-c1a0-f0d4282a0cac",
        "colab": {
          "base_uri": "https://localhost:8080/",
          "height": 357
        }
      },
      "source": [
        "d_scores"
      ],
      "execution_count": 17,
      "outputs": [
        {
          "output_type": "execute_result",
          "data": {
            "text/plain": [
              "array([-122.37877574, -122.33338028, -122.2650064 , -122.21480131,\n",
              "       -122.15649591, -122.0770454 , -122.01804966, -121.93645215,\n",
              "       -121.88283511, -121.81485625, -121.7230261 , -121.64314004,\n",
              "       -121.55566193, -121.47895891, -121.38112359, -121.30841818,\n",
              "       -121.20831942, -121.08456178, -120.96807024, -120.84828576,\n",
              "       -120.87165507, -120.86396689, -120.88484265, -120.88542406,\n",
              "       -120.89735836, -120.89968278, -120.92352395, -120.93337283,\n",
              "       -120.92877511, -120.95050179, -120.94866439, -120.96991164,\n",
              "       -120.94842133, -120.97667763, -120.98419242, -120.99092452,\n",
              "       -121.00399409, -121.01599567, -121.02279783, -121.04028526,\n",
              "       -121.0525134 , -121.04487556, -121.05738934, -121.07028023,\n",
              "       -121.08165999, -121.07319778, -121.08997149, -121.10610212,\n",
              "       -121.10549514, -121.11467195, -121.12400525, -121.13748718,\n",
              "       -121.14275972, -121.15466874, -121.15356787, -121.17094005,\n",
              "       -121.17860916, -121.19293529, -121.19418988, -121.20415148,\n",
              "       -121.21275999, -121.21835041, -121.2263875 , -121.28934741,\n",
              "       -121.29450008, -121.29957833, -121.30105749, -121.30211542,\n",
              "       -121.30658968, -121.30934247, -121.31272896, -121.31464846,\n",
              "       -121.3143845 , -121.31625957, -121.31855246, -121.3198431 ,\n",
              "       -121.32091373, -121.32160142, -121.32173417])"
            ]
          },
          "metadata": {
            "tags": []
          },
          "execution_count": 17
        }
      ]
    },
    {
      "cell_type": "code",
      "metadata": {
        "id": "0zd0GT6jCElv",
        "outputId": "1bd5329d-cf74-4fe9-fdea-bd18e136f3e5",
        "colab": {
          "base_uri": "https://localhost:8080/",
          "height": 283
        }
      },
      "source": [
        "plot_scores(d_scores)"
      ],
      "execution_count": 18,
      "outputs": [
        {
          "output_type": "display_data",
          "data": {
            "image/png": "[encoded data removed]",
            "text/plain": [
              "<Figure size 432x288 with 1 Axes>"
            ]
          },
          "metadata": {
            "tags": [],
            "needs_background": "light"
          }
        }
      ]
    },
    {
      "cell_type": "markdown",
      "metadata": {
        "id": "6GK0mADV45yW"
      },
      "source": [
        "## Вариационный взгляд на модель\n",
        "\n",
        "Мы знаем, что каждой главной компоненте соответствует описываемая ей дисперсия данных (дисперсия данных при проекции на эту компоненту). Она численно равна значению диагональных элементов матрицы $\\Lambda$, получаемой из спектрального разложения матрицы ковариации данных (смотри теорию выше).\n",
        "\n",
        "Исходя из этого, мы можем отсортировать дисперсию данных вдоль этих компонент по убыванию, и уменьшить размерность данных, отбросив $q$ итоговых главных компонент, имеющих наименьшую дисперсию.\n",
        "\n",
        "Делать это можно двумя разными способами. Например, если вы вдальнейшем обучаете на данных с уменьшенной размерностью модель классификации или регрессии, то можно запустить итерационный процесс: удалять компоненты с наименьшей дисперсией по одной, пока качество итоговой модели не станет значительно хуже.\n",
        "\n",
        "Более общий способ отбора признаков заключается в том, что вы можете посмотреть на разности в дисперсиях в отсортированном ряде $\\lambda_{(1)} > \\lambda_{(2)} > \\dots > \\lambda_{(D)}$: $\\lambda_{(1)}-\\lambda_{(2)}, \\dots, \\lambda_{(D-1)} - \\lambda_{(D)}$, и удалить те компоненты, на которых разность будет наибольшей. Именно этим методом вам и предлагается воспользоваться для тестового набора данных."
      ]
    },
    {
      "cell_type": "markdown",
      "metadata": {
        "id": "IZjcAiyA45yW"
      },
      "source": [
        "## Задание 2. Ручное уменьшение размерности признаков посредством анализа дисперсии данных вдоль главных компонент\n",
        "\n",
        "Рассмотрим ещё один набор данных размерности $D$, чья реальная размерность значительно меньше наблюдаемой (назовём её также $d$). От вас требуется:\n",
        "\n",
        "1. Построить модель PCA с $D$ главными компонентами по этим данным.\n",
        "2. Спроецировать данные на главные компоненты.\n",
        "3. Оценить их дисперсию вдоль главных компонент.\n",
        "4. Отсортировать дисперсии в порядке убывания и получить их попарные разности: $\\lambda_{(i-1)} - \\lambda_{(i)}$.\n",
        "5. Найти разность с наибольшим значением и получить по ней оценку на эффективную размерность данных $\\hat{d}$.\n",
        "6. Построить график дисперсий и убедиться, что полученная оценка на $\\hat{d}_{opt}$ действительно имеет смысл, после этого внести полученное значение $\\hat{d}_{opt}$ в файл ответа.\n",
        "\n",
        "Для построения модели PCA используйте функцию:\n",
        "\n",
        "    model.fit(data)\n",
        "    \n",
        "Для трансформации данных используйте метод:\n",
        "\n",
        "    model.transform(data)\n",
        "    \n",
        "Оценку дисперсий на трансформированных данных от вас потребуется реализовать вручную. Для построения графиков можно воспользоваться функцией\n",
        "\n",
        "    plot_variances(d_variances)\n",
        "    \n",
        "которой следует передать на вход отсортированный по убыванию вектор дисперсий вдоль компонент."
      ]
    },
    {
      "cell_type": "code",
      "metadata": {
        "id": "F7L0or6645yX"
      },
      "source": [
        "from sklearn.decomposition import PCA\n",
        "from sklearn.model_selection import cross_val_score as cv_score\n",
        "\n",
        "def plot_variances(d_variances):\n",
        "    n_components = np.arange(1,d_variances.size+1)\n",
        "    plt.plot(n_components, d_variances, 'b', label='Component variances')\n",
        "    plt.xlim(n_components[0], n_components[-1])\n",
        "    plt.xlabel('n components')\n",
        "    plt.ylabel('variance')\n",
        "    plt.legend(loc='upper right')\n",
        "    plt.show()\n",
        "    \n",
        "def write_answer_2(optimal_d):\n",
        "    with open(\"pca_answer2.txt\", \"w\") as fout:\n",
        "        fout.write(str(optimal_d))\n",
        "        \n",
        "data2 = pd.read_csv('sample_data/data_task2.csv')\n",
        "\n",
        "# place your code here\n"
      ],
      "execution_count": 19,
      "outputs": []
    },
    {
      "cell_type": "code",
      "metadata": {
        "id": "uUKmTXA4nHDj",
        "outputId": "be8d2f43-dc25-4c17-ed3b-069a32a4f081",
        "colab": {
          "base_uri": "https://localhost:8080/",
          "height": 439
        }
      },
      "source": [
        "data2"
      ],
      "execution_count": 20,
      "outputs": [
        {
          "output_type": "execute_result",
          "data": {
            "text/html": [
              "<div>\n",
              "<style scoped>\n",
              "    .dataframe tbody tr th:only-of-type {\n",
              "        vertical-align: middle;\n",
              "    }\n",
              "\n",
              "    .dataframe tbody tr th {\n",
              "        vertical-align: top;\n",
              "    }\n",
              "\n",
              "    .dataframe thead th {\n",
              "        text-align: right;\n",
              "    }\n",
              "</style>\n",
              "<table border=\"1\" class=\"dataframe\">\n",
              "  <thead>\n",
              "    <tr style=\"text-align: right;\">\n",
              "      <th></th>\n",
              "      <th>0</th>\n",
              "      <th>1</th>\n",
              "      <th>2</th>\n",
              "      <th>3</th>\n",
              "      <th>4</th>\n",
              "      <th>5</th>\n",
              "      <th>6</th>\n",
              "      <th>7</th>\n",
              "      <th>8</th>\n",
              "      <th>9</th>\n",
              "      <th>10</th>\n",
              "      <th>11</th>\n",
              "      <th>12</th>\n",
              "      <th>13</th>\n",
              "      <th>14</th>\n",
              "      <th>15</th>\n",
              "      <th>16</th>\n",
              "      <th>17</th>\n",
              "      <th>18</th>\n",
              "      <th>19</th>\n",
              "      <th>20</th>\n",
              "      <th>21</th>\n",
              "      <th>22</th>\n",
              "      <th>23</th>\n",
              "      <th>24</th>\n",
              "      <th>25</th>\n",
              "      <th>26</th>\n",
              "      <th>27</th>\n",
              "      <th>28</th>\n",
              "      <th>29</th>\n",
              "      <th>30</th>\n",
              "      <th>31</th>\n",
              "      <th>32</th>\n",
              "      <th>33</th>\n",
              "      <th>34</th>\n",
              "      <th>35</th>\n",
              "      <th>36</th>\n",
              "      <th>37</th>\n",
              "      <th>38</th>\n",
              "      <th>39</th>\n",
              "      <th>...</th>\n",
              "      <th>60</th>\n",
              "      <th>61</th>\n",
              "      <th>62</th>\n",
              "      <th>63</th>\n",
              "      <th>64</th>\n",
              "      <th>65</th>\n",
              "      <th>66</th>\n",
              "      <th>67</th>\n",
              "      <th>68</th>\n",
              "      <th>69</th>\n",
              "      <th>70</th>\n",
              "      <th>71</th>\n",
              "      <th>72</th>\n",
              "      <th>73</th>\n",
              "      <th>74</th>\n",
              "      <th>75</th>\n",
              "      <th>76</th>\n",
              "      <th>77</th>\n",
              "      <th>78</th>\n",
              "      <th>79</th>\n",
              "      <th>80</th>\n",
              "      <th>81</th>\n",
              "      <th>82</th>\n",
              "      <th>83</th>\n",
              "      <th>84</th>\n",
              "      <th>85</th>\n",
              "      <th>86</th>\n",
              "      <th>87</th>\n",
              "      <th>88</th>\n",
              "      <th>89</th>\n",
              "      <th>90</th>\n",
              "      <th>91</th>\n",
              "      <th>92</th>\n",
              "      <th>93</th>\n",
              "      <th>94</th>\n",
              "      <th>95</th>\n",
              "      <th>96</th>\n",
              "      <th>97</th>\n",
              "      <th>98</th>\n",
              "      <th>99</th>\n",
              "    </tr>\n",
              "  </thead>\n",
              "  <tbody>\n",
              "    <tr>\n",
              "      <th>0</th>\n",
              "      <td>0.848776</td>\n",
              "      <td>-0.666596</td>\n",
              "      <td>-0.724109</td>\n",
              "      <td>-0.584370</td>\n",
              "      <td>-0.460105</td>\n",
              "      <td>1.161415</td>\n",
              "      <td>-0.153160</td>\n",
              "      <td>-2.253871</td>\n",
              "      <td>1.375337</td>\n",
              "      <td>0.561841</td>\n",
              "      <td>0.381729</td>\n",
              "      <td>1.900441</td>\n",
              "      <td>-0.135837</td>\n",
              "      <td>-0.026643</td>\n",
              "      <td>0.009338</td>\n",
              "      <td>-1.617211</td>\n",
              "      <td>0.985996</td>\n",
              "      <td>-1.242231</td>\n",
              "      <td>-2.103736</td>\n",
              "      <td>-3.565094</td>\n",
              "      <td>-0.246202</td>\n",
              "      <td>0.422587</td>\n",
              "      <td>0.974145</td>\n",
              "      <td>-1.542693</td>\n",
              "      <td>2.320018</td>\n",
              "      <td>-0.219810</td>\n",
              "      <td>-0.280739</td>\n",
              "      <td>-0.451194</td>\n",
              "      <td>-0.207078</td>\n",
              "      <td>-2.083259</td>\n",
              "      <td>0.567692</td>\n",
              "      <td>1.463887</td>\n",
              "      <td>1.719519</td>\n",
              "      <td>0.880930</td>\n",
              "      <td>-1.368598</td>\n",
              "      <td>-2.106520</td>\n",
              "      <td>0.686000</td>\n",
              "      <td>-0.022484</td>\n",
              "      <td>-0.345174</td>\n",
              "      <td>0.821882</td>\n",
              "      <td>...</td>\n",
              "      <td>-1.185593</td>\n",
              "      <td>-0.699880</td>\n",
              "      <td>1.341210</td>\n",
              "      <td>-1.054797</td>\n",
              "      <td>-0.686577</td>\n",
              "      <td>-1.122503</td>\n",
              "      <td>1.416176</td>\n",
              "      <td>-0.636326</td>\n",
              "      <td>0.199812</td>\n",
              "      <td>-0.730570</td>\n",
              "      <td>1.664636</td>\n",
              "      <td>-0.107570</td>\n",
              "      <td>-1.231688</td>\n",
              "      <td>-0.295177</td>\n",
              "      <td>0.704968</td>\n",
              "      <td>-1.571668</td>\n",
              "      <td>-0.734825</td>\n",
              "      <td>-1.155819</td>\n",
              "      <td>-0.106416</td>\n",
              "      <td>1.703348</td>\n",
              "      <td>1.202358</td>\n",
              "      <td>0.323535</td>\n",
              "      <td>-1.633912</td>\n",
              "      <td>-0.132446</td>\n",
              "      <td>-1.025989</td>\n",
              "      <td>1.000814</td>\n",
              "      <td>-0.365115</td>\n",
              "      <td>-1.090939</td>\n",
              "      <td>1.066112</td>\n",
              "      <td>1.691028</td>\n",
              "      <td>1.328021</td>\n",
              "      <td>0.615259</td>\n",
              "      <td>1.447412</td>\n",
              "      <td>1.177600</td>\n",
              "      <td>-0.643321</td>\n",
              "      <td>0.005454</td>\n",
              "      <td>-1.075457</td>\n",
              "      <td>0.636591</td>\n",
              "      <td>0.075188</td>\n",
              "      <td>-0.461723</td>\n",
              "    </tr>\n",
              "    <tr>\n",
              "      <th>1</th>\n",
              "      <td>0.560569</td>\n",
              "      <td>-0.493592</td>\n",
              "      <td>-0.149612</td>\n",
              "      <td>-0.262415</td>\n",
              "      <td>0.967470</td>\n",
              "      <td>-1.094108</td>\n",
              "      <td>0.815526</td>\n",
              "      <td>0.487121</td>\n",
              "      <td>1.537931</td>\n",
              "      <td>-2.168744</td>\n",
              "      <td>1.489060</td>\n",
              "      <td>0.118590</td>\n",
              "      <td>0.106624</td>\n",
              "      <td>-0.811695</td>\n",
              "      <td>-0.824073</td>\n",
              "      <td>2.557472</td>\n",
              "      <td>-0.601653</td>\n",
              "      <td>-1.763197</td>\n",
              "      <td>0.191741</td>\n",
              "      <td>-1.035960</td>\n",
              "      <td>-0.504425</td>\n",
              "      <td>1.354672</td>\n",
              "      <td>0.811433</td>\n",
              "      <td>0.643713</td>\n",
              "      <td>-1.156132</td>\n",
              "      <td>-1.656673</td>\n",
              "      <td>-0.128837</td>\n",
              "      <td>1.416724</td>\n",
              "      <td>1.811786</td>\n",
              "      <td>-0.198720</td>\n",
              "      <td>0.582365</td>\n",
              "      <td>-1.374787</td>\n",
              "      <td>-1.298803</td>\n",
              "      <td>-1.535957</td>\n",
              "      <td>0.931263</td>\n",
              "      <td>-1.220487</td>\n",
              "      <td>-1.286651</td>\n",
              "      <td>0.403559</td>\n",
              "      <td>1.280795</td>\n",
              "      <td>0.197621</td>\n",
              "      <td>...</td>\n",
              "      <td>0.780796</td>\n",
              "      <td>0.671407</td>\n",
              "      <td>-1.277592</td>\n",
              "      <td>0.987883</td>\n",
              "      <td>0.306970</td>\n",
              "      <td>-0.132796</td>\n",
              "      <td>-1.373094</td>\n",
              "      <td>0.979178</td>\n",
              "      <td>-1.002837</td>\n",
              "      <td>-0.406900</td>\n",
              "      <td>1.713634</td>\n",
              "      <td>0.529068</td>\n",
              "      <td>1.798796</td>\n",
              "      <td>-0.209303</td>\n",
              "      <td>-0.591146</td>\n",
              "      <td>-0.320744</td>\n",
              "      <td>0.729105</td>\n",
              "      <td>0.570163</td>\n",
              "      <td>-0.948391</td>\n",
              "      <td>-0.546039</td>\n",
              "      <td>-1.259944</td>\n",
              "      <td>0.135800</td>\n",
              "      <td>-0.549928</td>\n",
              "      <td>2.246453</td>\n",
              "      <td>0.061515</td>\n",
              "      <td>0.482566</td>\n",
              "      <td>0.665271</td>\n",
              "      <td>0.236302</td>\n",
              "      <td>-1.161778</td>\n",
              "      <td>-0.563496</td>\n",
              "      <td>0.523245</td>\n",
              "      <td>-0.979103</td>\n",
              "      <td>2.280059</td>\n",
              "      <td>-1.413170</td>\n",
              "      <td>1.146576</td>\n",
              "      <td>-1.179831</td>\n",
              "      <td>0.569553</td>\n",
              "      <td>-0.073751</td>\n",
              "      <td>-0.841962</td>\n",
              "      <td>0.474029</td>\n",
              "    </tr>\n",
              "    <tr>\n",
              "      <th>2</th>\n",
              "      <td>-1.484923</td>\n",
              "      <td>-0.622672</td>\n",
              "      <td>0.305978</td>\n",
              "      <td>0.040120</td>\n",
              "      <td>-2.851857</td>\n",
              "      <td>0.092543</td>\n",
              "      <td>-0.029286</td>\n",
              "      <td>-0.624243</td>\n",
              "      <td>-1.155940</td>\n",
              "      <td>0.658744</td>\n",
              "      <td>0.927175</td>\n",
              "      <td>-1.494916</td>\n",
              "      <td>-0.069825</td>\n",
              "      <td>0.151138</td>\n",
              "      <td>0.566968</td>\n",
              "      <td>-0.239873</td>\n",
              "      <td>-0.312887</td>\n",
              "      <td>-0.379042</td>\n",
              "      <td>1.197477</td>\n",
              "      <td>-0.624212</td>\n",
              "      <td>-0.116759</td>\n",
              "      <td>0.590632</td>\n",
              "      <td>1.040698</td>\n",
              "      <td>0.334765</td>\n",
              "      <td>-1.223567</td>\n",
              "      <td>-0.831506</td>\n",
              "      <td>-0.139315</td>\n",
              "      <td>-1.611254</td>\n",
              "      <td>-1.558631</td>\n",
              "      <td>2.186127</td>\n",
              "      <td>-0.225281</td>\n",
              "      <td>0.141305</td>\n",
              "      <td>-0.300004</td>\n",
              "      <td>0.747303</td>\n",
              "      <td>2.970980</td>\n",
              "      <td>2.001244</td>\n",
              "      <td>-2.046690</td>\n",
              "      <td>1.583406</td>\n",
              "      <td>-0.555524</td>\n",
              "      <td>-1.257993</td>\n",
              "      <td>...</td>\n",
              "      <td>0.922472</td>\n",
              "      <td>-0.116944</td>\n",
              "      <td>0.652336</td>\n",
              "      <td>2.692434</td>\n",
              "      <td>1.131907</td>\n",
              "      <td>0.874978</td>\n",
              "      <td>0.809862</td>\n",
              "      <td>-0.408768</td>\n",
              "      <td>0.180442</td>\n",
              "      <td>-1.066307</td>\n",
              "      <td>-0.995491</td>\n",
              "      <td>0.115641</td>\n",
              "      <td>0.407117</td>\n",
              "      <td>-1.148503</td>\n",
              "      <td>3.176412</td>\n",
              "      <td>1.003405</td>\n",
              "      <td>0.194162</td>\n",
              "      <td>-1.136860</td>\n",
              "      <td>-0.150650</td>\n",
              "      <td>-0.072902</td>\n",
              "      <td>1.172848</td>\n",
              "      <td>-0.469273</td>\n",
              "      <td>-0.323915</td>\n",
              "      <td>-1.128463</td>\n",
              "      <td>-1.625349</td>\n",
              "      <td>2.503408</td>\n",
              "      <td>-0.578473</td>\n",
              "      <td>-1.295333</td>\n",
              "      <td>0.751220</td>\n",
              "      <td>-2.554982</td>\n",
              "      <td>0.916887</td>\n",
              "      <td>1.494340</td>\n",
              "      <td>-1.801660</td>\n",
              "      <td>0.164034</td>\n",
              "      <td>0.467053</td>\n",
              "      <td>-0.872597</td>\n",
              "      <td>0.066600</td>\n",
              "      <td>1.388963</td>\n",
              "      <td>-1.446373</td>\n",
              "      <td>-0.002239</td>\n",
              "    </tr>\n",
              "    <tr>\n",
              "      <th>3</th>\n",
              "      <td>-1.487085</td>\n",
              "      <td>-0.252582</td>\n",
              "      <td>-0.429568</td>\n",
              "      <td>-0.124176</td>\n",
              "      <td>-0.547003</td>\n",
              "      <td>0.942490</td>\n",
              "      <td>-0.783337</td>\n",
              "      <td>-0.994770</td>\n",
              "      <td>2.140593</td>\n",
              "      <td>-0.978872</td>\n",
              "      <td>0.009351</td>\n",
              "      <td>1.381988</td>\n",
              "      <td>-0.183570</td>\n",
              "      <td>1.721179</td>\n",
              "      <td>-0.768251</td>\n",
              "      <td>-0.330242</td>\n",
              "      <td>0.728656</td>\n",
              "      <td>-1.303978</td>\n",
              "      <td>-0.976484</td>\n",
              "      <td>0.412306</td>\n",
              "      <td>0.116946</td>\n",
              "      <td>0.396206</td>\n",
              "      <td>-2.371420</td>\n",
              "      <td>-0.383414</td>\n",
              "      <td>-0.302111</td>\n",
              "      <td>0.267555</td>\n",
              "      <td>0.001263</td>\n",
              "      <td>0.107937</td>\n",
              "      <td>-0.474898</td>\n",
              "      <td>-2.505625</td>\n",
              "      <td>1.104719</td>\n",
              "      <td>-0.316555</td>\n",
              "      <td>0.198271</td>\n",
              "      <td>-0.232354</td>\n",
              "      <td>-2.025208</td>\n",
              "      <td>0.853003</td>\n",
              "      <td>-0.732194</td>\n",
              "      <td>0.329018</td>\n",
              "      <td>1.111257</td>\n",
              "      <td>0.835561</td>\n",
              "      <td>...</td>\n",
              "      <td>0.206049</td>\n",
              "      <td>-1.082674</td>\n",
              "      <td>-0.298451</td>\n",
              "      <td>-0.457957</td>\n",
              "      <td>1.277264</td>\n",
              "      <td>-0.298808</td>\n",
              "      <td>-0.252096</td>\n",
              "      <td>2.310224</td>\n",
              "      <td>2.507246</td>\n",
              "      <td>-0.828037</td>\n",
              "      <td>1.875395</td>\n",
              "      <td>-1.161937</td>\n",
              "      <td>0.529191</td>\n",
              "      <td>-0.921715</td>\n",
              "      <td>-0.616917</td>\n",
              "      <td>-1.748896</td>\n",
              "      <td>-1.805375</td>\n",
              "      <td>-2.242711</td>\n",
              "      <td>-0.328135</td>\n",
              "      <td>1.925551</td>\n",
              "      <td>-0.604129</td>\n",
              "      <td>1.021981</td>\n",
              "      <td>-1.449703</td>\n",
              "      <td>0.615162</td>\n",
              "      <td>0.116790</td>\n",
              "      <td>-0.933003</td>\n",
              "      <td>1.383917</td>\n",
              "      <td>-1.066959</td>\n",
              "      <td>-0.603562</td>\n",
              "      <td>2.920748</td>\n",
              "      <td>-1.177229</td>\n",
              "      <td>-0.892356</td>\n",
              "      <td>-0.166295</td>\n",
              "      <td>-1.507428</td>\n",
              "      <td>1.218209</td>\n",
              "      <td>-0.769020</td>\n",
              "      <td>1.439147</td>\n",
              "      <td>0.713580</td>\n",
              "      <td>0.765335</td>\n",
              "      <td>-0.452884</td>\n",
              "    </tr>\n",
              "    <tr>\n",
              "      <th>4</th>\n",
              "      <td>0.462349</td>\n",
              "      <td>0.751057</td>\n",
              "      <td>0.140967</td>\n",
              "      <td>-0.006099</td>\n",
              "      <td>-0.244748</td>\n",
              "      <td>-0.075261</td>\n",
              "      <td>0.924772</td>\n",
              "      <td>0.417142</td>\n",
              "      <td>-0.985730</td>\n",
              "      <td>-1.375670</td>\n",
              "      <td>0.228504</td>\n",
              "      <td>0.365475</td>\n",
              "      <td>-0.674397</td>\n",
              "      <td>2.365862</td>\n",
              "      <td>-0.051207</td>\n",
              "      <td>1.163554</td>\n",
              "      <td>-0.688351</td>\n",
              "      <td>0.100025</td>\n",
              "      <td>-0.120353</td>\n",
              "      <td>0.445240</td>\n",
              "      <td>0.260584</td>\n",
              "      <td>0.441443</td>\n",
              "      <td>-1.624371</td>\n",
              "      <td>-2.257025</td>\n",
              "      <td>0.702347</td>\n",
              "      <td>1.209013</td>\n",
              "      <td>-0.283570</td>\n",
              "      <td>-0.786387</td>\n",
              "      <td>1.078048</td>\n",
              "      <td>-0.899392</td>\n",
              "      <td>-1.273317</td>\n",
              "      <td>-1.353567</td>\n",
              "      <td>-0.938038</td>\n",
              "      <td>-0.929637</td>\n",
              "      <td>0.071887</td>\n",
              "      <td>-1.125407</td>\n",
              "      <td>-0.469798</td>\n",
              "      <td>0.040980</td>\n",
              "      <td>-2.072797</td>\n",
              "      <td>-0.503165</td>\n",
              "      <td>...</td>\n",
              "      <td>0.718137</td>\n",
              "      <td>1.353066</td>\n",
              "      <td>-1.397724</td>\n",
              "      <td>-1.180204</td>\n",
              "      <td>-2.316482</td>\n",
              "      <td>-0.255123</td>\n",
              "      <td>-0.153681</td>\n",
              "      <td>0.004539</td>\n",
              "      <td>-2.274636</td>\n",
              "      <td>2.323136</td>\n",
              "      <td>0.996943</td>\n",
              "      <td>-0.184352</td>\n",
              "      <td>2.415913</td>\n",
              "      <td>-0.412207</td>\n",
              "      <td>-0.000578</td>\n",
              "      <td>-0.062335</td>\n",
              "      <td>0.583109</td>\n",
              "      <td>0.538944</td>\n",
              "      <td>1.604818</td>\n",
              "      <td>0.527702</td>\n",
              "      <td>-0.054801</td>\n",
              "      <td>0.092419</td>\n",
              "      <td>-2.955433</td>\n",
              "      <td>0.649413</td>\n",
              "      <td>2.545021</td>\n",
              "      <td>0.865523</td>\n",
              "      <td>0.972846</td>\n",
              "      <td>1.357283</td>\n",
              "      <td>-0.941806</td>\n",
              "      <td>-0.473249</td>\n",
              "      <td>-1.392519</td>\n",
              "      <td>0.502969</td>\n",
              "      <td>1.538669</td>\n",
              "      <td>1.002944</td>\n",
              "      <td>-0.832352</td>\n",
              "      <td>0.990356</td>\n",
              "      <td>-1.733266</td>\n",
              "      <td>-0.201313</td>\n",
              "      <td>-0.834691</td>\n",
              "      <td>-1.118169</td>\n",
              "    </tr>\n",
              "    <tr>\n",
              "      <th>...</th>\n",
              "      <td>...</td>\n",
              "      <td>...</td>\n",
              "      <td>...</td>\n",
              "      <td>...</td>\n",
              "      <td>...</td>\n",
              "      <td>...</td>\n",
              "      <td>...</td>\n",
              "      <td>...</td>\n",
              "      <td>...</td>\n",
              "      <td>...</td>\n",
              "      <td>...</td>\n",
              "      <td>...</td>\n",
              "      <td>...</td>\n",
              "      <td>...</td>\n",
              "      <td>...</td>\n",
              "      <td>...</td>\n",
              "      <td>...</td>\n",
              "      <td>...</td>\n",
              "      <td>...</td>\n",
              "      <td>...</td>\n",
              "      <td>...</td>\n",
              "      <td>...</td>\n",
              "      <td>...</td>\n",
              "      <td>...</td>\n",
              "      <td>...</td>\n",
              "      <td>...</td>\n",
              "      <td>...</td>\n",
              "      <td>...</td>\n",
              "      <td>...</td>\n",
              "      <td>...</td>\n",
              "      <td>...</td>\n",
              "      <td>...</td>\n",
              "      <td>...</td>\n",
              "      <td>...</td>\n",
              "      <td>...</td>\n",
              "      <td>...</td>\n",
              "      <td>...</td>\n",
              "      <td>...</td>\n",
              "      <td>...</td>\n",
              "      <td>...</td>\n",
              "      <td>...</td>\n",
              "      <td>...</td>\n",
              "      <td>...</td>\n",
              "      <td>...</td>\n",
              "      <td>...</td>\n",
              "      <td>...</td>\n",
              "      <td>...</td>\n",
              "      <td>...</td>\n",
              "      <td>...</td>\n",
              "      <td>...</td>\n",
              "      <td>...</td>\n",
              "      <td>...</td>\n",
              "      <td>...</td>\n",
              "      <td>...</td>\n",
              "      <td>...</td>\n",
              "      <td>...</td>\n",
              "      <td>...</td>\n",
              "      <td>...</td>\n",
              "      <td>...</td>\n",
              "      <td>...</td>\n",
              "      <td>...</td>\n",
              "      <td>...</td>\n",
              "      <td>...</td>\n",
              "      <td>...</td>\n",
              "      <td>...</td>\n",
              "      <td>...</td>\n",
              "      <td>...</td>\n",
              "      <td>...</td>\n",
              "      <td>...</td>\n",
              "      <td>...</td>\n",
              "      <td>...</td>\n",
              "      <td>...</td>\n",
              "      <td>...</td>\n",
              "      <td>...</td>\n",
              "      <td>...</td>\n",
              "      <td>...</td>\n",
              "      <td>...</td>\n",
              "      <td>...</td>\n",
              "      <td>...</td>\n",
              "      <td>...</td>\n",
              "      <td>...</td>\n",
              "    </tr>\n",
              "    <tr>\n",
              "      <th>2995</th>\n",
              "      <td>0.889771</td>\n",
              "      <td>2.134822</td>\n",
              "      <td>0.534229</td>\n",
              "      <td>0.328615</td>\n",
              "      <td>-0.757039</td>\n",
              "      <td>0.316221</td>\n",
              "      <td>-0.355689</td>\n",
              "      <td>0.691996</td>\n",
              "      <td>2.110174</td>\n",
              "      <td>0.244222</td>\n",
              "      <td>1.092400</td>\n",
              "      <td>-0.936728</td>\n",
              "      <td>-2.388088</td>\n",
              "      <td>0.858152</td>\n",
              "      <td>0.024229</td>\n",
              "      <td>0.658431</td>\n",
              "      <td>0.572154</td>\n",
              "      <td>-0.303421</td>\n",
              "      <td>-0.722800</td>\n",
              "      <td>-0.389257</td>\n",
              "      <td>-0.653111</td>\n",
              "      <td>0.645132</td>\n",
              "      <td>-1.978300</td>\n",
              "      <td>-1.229090</td>\n",
              "      <td>-0.296018</td>\n",
              "      <td>-1.085309</td>\n",
              "      <td>-0.818270</td>\n",
              "      <td>1.774820</td>\n",
              "      <td>0.114437</td>\n",
              "      <td>-0.452539</td>\n",
              "      <td>1.267466</td>\n",
              "      <td>1.262276</td>\n",
              "      <td>-2.090851</td>\n",
              "      <td>-0.670602</td>\n",
              "      <td>1.029052</td>\n",
              "      <td>-1.914562</td>\n",
              "      <td>1.586776</td>\n",
              "      <td>-0.534289</td>\n",
              "      <td>-0.528936</td>\n",
              "      <td>-1.058366</td>\n",
              "      <td>...</td>\n",
              "      <td>-0.558145</td>\n",
              "      <td>-1.080056</td>\n",
              "      <td>1.195779</td>\n",
              "      <td>0.199528</td>\n",
              "      <td>0.657481</td>\n",
              "      <td>-1.235072</td>\n",
              "      <td>0.979391</td>\n",
              "      <td>0.306462</td>\n",
              "      <td>2.330268</td>\n",
              "      <td>-1.369836</td>\n",
              "      <td>1.009274</td>\n",
              "      <td>1.045846</td>\n",
              "      <td>-1.533497</td>\n",
              "      <td>-0.473414</td>\n",
              "      <td>-0.024137</td>\n",
              "      <td>0.939888</td>\n",
              "      <td>0.916269</td>\n",
              "      <td>0.777318</td>\n",
              "      <td>1.997891</td>\n",
              "      <td>-0.586714</td>\n",
              "      <td>-0.986214</td>\n",
              "      <td>0.224840</td>\n",
              "      <td>-0.072714</td>\n",
              "      <td>1.800650</td>\n",
              "      <td>-0.874784</td>\n",
              "      <td>0.550505</td>\n",
              "      <td>-0.410973</td>\n",
              "      <td>-1.702538</td>\n",
              "      <td>1.208799</td>\n",
              "      <td>-1.622785</td>\n",
              "      <td>0.333721</td>\n",
              "      <td>-0.974238</td>\n",
              "      <td>0.761899</td>\n",
              "      <td>-1.487586</td>\n",
              "      <td>0.981804</td>\n",
              "      <td>0.333799</td>\n",
              "      <td>0.199938</td>\n",
              "      <td>0.932029</td>\n",
              "      <td>1.765651</td>\n",
              "      <td>-0.727921</td>\n",
              "    </tr>\n",
              "    <tr>\n",
              "      <th>2996</th>\n",
              "      <td>-0.860166</td>\n",
              "      <td>0.045675</td>\n",
              "      <td>1.790978</td>\n",
              "      <td>-0.439106</td>\n",
              "      <td>0.700026</td>\n",
              "      <td>-0.372981</td>\n",
              "      <td>1.037891</td>\n",
              "      <td>-2.011308</td>\n",
              "      <td>0.201522</td>\n",
              "      <td>-0.197561</td>\n",
              "      <td>2.684181</td>\n",
              "      <td>2.319847</td>\n",
              "      <td>1.225378</td>\n",
              "      <td>1.078915</td>\n",
              "      <td>-0.125613</td>\n",
              "      <td>-1.452774</td>\n",
              "      <td>-1.136410</td>\n",
              "      <td>0.374076</td>\n",
              "      <td>-0.077217</td>\n",
              "      <td>0.587953</td>\n",
              "      <td>-1.624864</td>\n",
              "      <td>1.907917</td>\n",
              "      <td>-1.912558</td>\n",
              "      <td>0.944645</td>\n",
              "      <td>-0.225251</td>\n",
              "      <td>-1.825501</td>\n",
              "      <td>0.254501</td>\n",
              "      <td>2.878152</td>\n",
              "      <td>-1.103588</td>\n",
              "      <td>0.767939</td>\n",
              "      <td>0.493522</td>\n",
              "      <td>-0.002609</td>\n",
              "      <td>0.807874</td>\n",
              "      <td>0.420561</td>\n",
              "      <td>2.303149</td>\n",
              "      <td>-1.476753</td>\n",
              "      <td>0.109295</td>\n",
              "      <td>-0.099443</td>\n",
              "      <td>0.582176</td>\n",
              "      <td>-0.052681</td>\n",
              "      <td>...</td>\n",
              "      <td>1.399771</td>\n",
              "      <td>-1.150229</td>\n",
              "      <td>-0.065752</td>\n",
              "      <td>-0.017360</td>\n",
              "      <td>-1.654302</td>\n",
              "      <td>1.012740</td>\n",
              "      <td>-0.348145</td>\n",
              "      <td>-0.971474</td>\n",
              "      <td>-0.059591</td>\n",
              "      <td>-1.705887</td>\n",
              "      <td>0.750025</td>\n",
              "      <td>1.111369</td>\n",
              "      <td>0.064064</td>\n",
              "      <td>-4.157657</td>\n",
              "      <td>0.308076</td>\n",
              "      <td>1.175154</td>\n",
              "      <td>-1.051662</td>\n",
              "      <td>-0.752264</td>\n",
              "      <td>1.379546</td>\n",
              "      <td>0.271687</td>\n",
              "      <td>-0.829190</td>\n",
              "      <td>-1.440069</td>\n",
              "      <td>-0.010646</td>\n",
              "      <td>0.153041</td>\n",
              "      <td>-0.517031</td>\n",
              "      <td>0.014924</td>\n",
              "      <td>-0.129469</td>\n",
              "      <td>-0.780561</td>\n",
              "      <td>-0.918321</td>\n",
              "      <td>-2.682946</td>\n",
              "      <td>-0.133041</td>\n",
              "      <td>0.368451</td>\n",
              "      <td>0.352533</td>\n",
              "      <td>-1.439751</td>\n",
              "      <td>0.550909</td>\n",
              "      <td>-0.897647</td>\n",
              "      <td>0.034960</td>\n",
              "      <td>1.183466</td>\n",
              "      <td>-0.093656</td>\n",
              "      <td>-0.850018</td>\n",
              "    </tr>\n",
              "    <tr>\n",
              "      <th>2997</th>\n",
              "      <td>-0.136113</td>\n",
              "      <td>-0.730800</td>\n",
              "      <td>1.743877</td>\n",
              "      <td>-0.495422</td>\n",
              "      <td>0.092494</td>\n",
              "      <td>1.108405</td>\n",
              "      <td>0.035341</td>\n",
              "      <td>1.245483</td>\n",
              "      <td>-1.885183</td>\n",
              "      <td>0.570221</td>\n",
              "      <td>-0.056845</td>\n",
              "      <td>-0.747107</td>\n",
              "      <td>1.664640</td>\n",
              "      <td>1.338919</td>\n",
              "      <td>0.399669</td>\n",
              "      <td>0.150823</td>\n",
              "      <td>-1.059940</td>\n",
              "      <td>0.198290</td>\n",
              "      <td>1.636686</td>\n",
              "      <td>0.459420</td>\n",
              "      <td>-1.934981</td>\n",
              "      <td>-1.024971</td>\n",
              "      <td>-2.514628</td>\n",
              "      <td>0.662295</td>\n",
              "      <td>-0.390310</td>\n",
              "      <td>-2.365623</td>\n",
              "      <td>0.989075</td>\n",
              "      <td>2.089793</td>\n",
              "      <td>-0.115675</td>\n",
              "      <td>0.803238</td>\n",
              "      <td>-0.579892</td>\n",
              "      <td>-0.017246</td>\n",
              "      <td>-0.483400</td>\n",
              "      <td>-0.610389</td>\n",
              "      <td>0.131520</td>\n",
              "      <td>2.005529</td>\n",
              "      <td>0.538011</td>\n",
              "      <td>0.823914</td>\n",
              "      <td>1.568185</td>\n",
              "      <td>1.599913</td>\n",
              "      <td>...</td>\n",
              "      <td>1.032361</td>\n",
              "      <td>0.085308</td>\n",
              "      <td>1.953557</td>\n",
              "      <td>2.780928</td>\n",
              "      <td>-0.355945</td>\n",
              "      <td>-1.158416</td>\n",
              "      <td>-0.420870</td>\n",
              "      <td>-1.096602</td>\n",
              "      <td>1.062632</td>\n",
              "      <td>-1.408891</td>\n",
              "      <td>0.183045</td>\n",
              "      <td>1.456201</td>\n",
              "      <td>-2.934996</td>\n",
              "      <td>-0.666140</td>\n",
              "      <td>0.923774</td>\n",
              "      <td>1.912193</td>\n",
              "      <td>-0.479556</td>\n",
              "      <td>1.308924</td>\n",
              "      <td>1.000696</td>\n",
              "      <td>0.611700</td>\n",
              "      <td>-0.320486</td>\n",
              "      <td>0.017820</td>\n",
              "      <td>1.319596</td>\n",
              "      <td>-2.006635</td>\n",
              "      <td>-0.487238</td>\n",
              "      <td>-1.929897</td>\n",
              "      <td>-0.936575</td>\n",
              "      <td>1.257470</td>\n",
              "      <td>-0.372478</td>\n",
              "      <td>-0.789343</td>\n",
              "      <td>0.041791</td>\n",
              "      <td>0.608347</td>\n",
              "      <td>0.602105</td>\n",
              "      <td>1.394544</td>\n",
              "      <td>2.650644</td>\n",
              "      <td>0.152317</td>\n",
              "      <td>-0.041982</td>\n",
              "      <td>-1.582060</td>\n",
              "      <td>0.081385</td>\n",
              "      <td>0.682217</td>\n",
              "    </tr>\n",
              "    <tr>\n",
              "      <th>2998</th>\n",
              "      <td>0.682913</td>\n",
              "      <td>-1.144553</td>\n",
              "      <td>1.542270</td>\n",
              "      <td>1.576389</td>\n",
              "      <td>0.715949</td>\n",
              "      <td>1.972521</td>\n",
              "      <td>-1.556151</td>\n",
              "      <td>1.296414</td>\n",
              "      <td>-0.814292</td>\n",
              "      <td>-0.641504</td>\n",
              "      <td>0.060512</td>\n",
              "      <td>0.037905</td>\n",
              "      <td>0.212843</td>\n",
              "      <td>0.499536</td>\n",
              "      <td>-2.378542</td>\n",
              "      <td>-0.225588</td>\n",
              "      <td>-1.513506</td>\n",
              "      <td>-1.722367</td>\n",
              "      <td>-1.678536</td>\n",
              "      <td>0.499858</td>\n",
              "      <td>0.376044</td>\n",
              "      <td>-0.369305</td>\n",
              "      <td>-1.525300</td>\n",
              "      <td>-1.552167</td>\n",
              "      <td>-1.278737</td>\n",
              "      <td>1.222616</td>\n",
              "      <td>0.551701</td>\n",
              "      <td>0.401132</td>\n",
              "      <td>0.867691</td>\n",
              "      <td>-0.323909</td>\n",
              "      <td>-1.512116</td>\n",
              "      <td>0.792994</td>\n",
              "      <td>-1.341529</td>\n",
              "      <td>0.506411</td>\n",
              "      <td>0.774404</td>\n",
              "      <td>1.926213</td>\n",
              "      <td>-0.409636</td>\n",
              "      <td>0.431757</td>\n",
              "      <td>0.905205</td>\n",
              "      <td>0.108488</td>\n",
              "      <td>...</td>\n",
              "      <td>0.702194</td>\n",
              "      <td>-0.704996</td>\n",
              "      <td>1.345909</td>\n",
              "      <td>-0.217271</td>\n",
              "      <td>0.984770</td>\n",
              "      <td>1.339023</td>\n",
              "      <td>-0.655730</td>\n",
              "      <td>-1.386116</td>\n",
              "      <td>3.664095</td>\n",
              "      <td>-1.472656</td>\n",
              "      <td>-0.813610</td>\n",
              "      <td>0.564567</td>\n",
              "      <td>0.057433</td>\n",
              "      <td>-0.609059</td>\n",
              "      <td>0.191982</td>\n",
              "      <td>0.489303</td>\n",
              "      <td>2.674170</td>\n",
              "      <td>-0.301111</td>\n",
              "      <td>1.078477</td>\n",
              "      <td>0.118939</td>\n",
              "      <td>-0.147737</td>\n",
              "      <td>-0.697610</td>\n",
              "      <td>-0.650945</td>\n",
              "      <td>0.734951</td>\n",
              "      <td>-0.209749</td>\n",
              "      <td>-0.055367</td>\n",
              "      <td>1.994286</td>\n",
              "      <td>-1.811389</td>\n",
              "      <td>-0.786128</td>\n",
              "      <td>-0.836159</td>\n",
              "      <td>-0.351266</td>\n",
              "      <td>-1.617023</td>\n",
              "      <td>-0.723049</td>\n",
              "      <td>2.123114</td>\n",
              "      <td>0.202444</td>\n",
              "      <td>-0.489891</td>\n",
              "      <td>1.668907</td>\n",
              "      <td>-2.205922</td>\n",
              "      <td>0.292512</td>\n",
              "      <td>-0.395274</td>\n",
              "    </tr>\n",
              "    <tr>\n",
              "      <th>2999</th>\n",
              "      <td>-1.826621</td>\n",
              "      <td>-1.798964</td>\n",
              "      <td>0.328706</td>\n",
              "      <td>-1.983815</td>\n",
              "      <td>0.628767</td>\n",
              "      <td>-0.645814</td>\n",
              "      <td>0.396076</td>\n",
              "      <td>0.145801</td>\n",
              "      <td>-0.234062</td>\n",
              "      <td>0.509750</td>\n",
              "      <td>-1.932329</td>\n",
              "      <td>2.590019</td>\n",
              "      <td>-0.411294</td>\n",
              "      <td>1.061655</td>\n",
              "      <td>-0.806300</td>\n",
              "      <td>-1.128892</td>\n",
              "      <td>1.147916</td>\n",
              "      <td>1.387757</td>\n",
              "      <td>-1.018188</td>\n",
              "      <td>0.263525</td>\n",
              "      <td>-0.225511</td>\n",
              "      <td>2.121419</td>\n",
              "      <td>0.621904</td>\n",
              "      <td>-0.859151</td>\n",
              "      <td>0.305792</td>\n",
              "      <td>0.184852</td>\n",
              "      <td>-0.302845</td>\n",
              "      <td>-0.991172</td>\n",
              "      <td>0.541375</td>\n",
              "      <td>-0.599444</td>\n",
              "      <td>-0.970654</td>\n",
              "      <td>2.132283</td>\n",
              "      <td>0.758924</td>\n",
              "      <td>1.940875</td>\n",
              "      <td>-1.516032</td>\n",
              "      <td>-0.740535</td>\n",
              "      <td>-1.110882</td>\n",
              "      <td>0.243510</td>\n",
              "      <td>-1.743588</td>\n",
              "      <td>0.294899</td>\n",
              "      <td>...</td>\n",
              "      <td>-1.215015</td>\n",
              "      <td>-0.463130</td>\n",
              "      <td>0.323482</td>\n",
              "      <td>0.635393</td>\n",
              "      <td>0.447644</td>\n",
              "      <td>1.189654</td>\n",
              "      <td>-0.312954</td>\n",
              "      <td>-2.032596</td>\n",
              "      <td>0.524827</td>\n",
              "      <td>-1.259735</td>\n",
              "      <td>0.675702</td>\n",
              "      <td>0.163023</td>\n",
              "      <td>-1.372041</td>\n",
              "      <td>1.478458</td>\n",
              "      <td>1.798716</td>\n",
              "      <td>1.977524</td>\n",
              "      <td>-0.429824</td>\n",
              "      <td>0.757274</td>\n",
              "      <td>-0.876059</td>\n",
              "      <td>-0.656172</td>\n",
              "      <td>-1.219336</td>\n",
              "      <td>-0.016873</td>\n",
              "      <td>-2.387565</td>\n",
              "      <td>0.592348</td>\n",
              "      <td>0.465515</td>\n",
              "      <td>-0.027303</td>\n",
              "      <td>2.568658</td>\n",
              "      <td>-0.135474</td>\n",
              "      <td>3.112241</td>\n",
              "      <td>-0.281322</td>\n",
              "      <td>0.362993</td>\n",
              "      <td>-0.094160</td>\n",
              "      <td>-0.251476</td>\n",
              "      <td>1.671517</td>\n",
              "      <td>0.273898</td>\n",
              "      <td>-0.631327</td>\n",
              "      <td>-2.335023</td>\n",
              "      <td>0.258100</td>\n",
              "      <td>0.230775</td>\n",
              "      <td>-0.564645</td>\n",
              "    </tr>\n",
              "  </tbody>\n",
              "</table>\n",
              "<p>3000 rows × 100 columns</p>\n",
              "</div>"
            ],
            "text/plain": [
              "             0         1         2  ...        97        98        99\n",
              "0     0.848776 -0.666596 -0.724109  ...  0.636591  0.075188 -0.461723\n",
              "1     0.560569 -0.493592 -0.149612  ... -0.073751 -0.841962  0.474029\n",
              "2    -1.484923 -0.622672  0.305978  ...  1.388963 -1.446373 -0.002239\n",
              "3    -1.487085 -0.252582 -0.429568  ...  0.713580  0.765335 -0.452884\n",
              "4     0.462349  0.751057  0.140967  ... -0.201313 -0.834691 -1.118169\n",
              "...        ...       ...       ...  ...       ...       ...       ...\n",
              "2995  0.889771  2.134822  0.534229  ...  0.932029  1.765651 -0.727921\n",
              "2996 -0.860166  0.045675  1.790978  ...  1.183466 -0.093656 -0.850018\n",
              "2997 -0.136113 -0.730800  1.743877  ... -1.582060  0.081385  0.682217\n",
              "2998  0.682913 -1.144553  1.542270  ... -2.205922  0.292512 -0.395274\n",
              "2999 -1.826621 -1.798964  0.328706  ...  0.258100  0.230775 -0.564645\n",
              "\n",
              "[3000 rows x 100 columns]"
            ]
          },
          "metadata": {
            "tags": []
          },
          "execution_count": 20
        }
      ]
    },
    {
      "cell_type": "code",
      "metadata": {
        "id": "ACQ3mJzJoDUC",
        "outputId": "5eb3ed7b-6e1c-45a4-f33e-d649b7b42bc3",
        "colab": {
          "base_uri": "https://localhost:8080/",
          "height": 34
        }
      },
      "source": [
        "data2.shape"
      ],
      "execution_count": 21,
      "outputs": [
        {
          "output_type": "execute_result",
          "data": {
            "text/plain": [
              "(3000, 100)"
            ]
          },
          "metadata": {
            "tags": []
          },
          "execution_count": 21
        }
      ]
    },
    {
      "cell_type": "code",
      "metadata": {
        "id": "QqYP5YqaGlzf"
      },
      "source": [
        "model = PCA(n_components=data2.shape[1])\n",
        "model.fit(data2)\n",
        "projections = model.transform(data2)"
      ],
      "execution_count": 22,
      "outputs": []
    },
    {
      "cell_type": "code",
      "metadata": {
        "id": "KI2UxaBQsrIq",
        "outputId": "21b6fa7e-dd0e-485f-c417-b2c194321b39",
        "colab": {
          "base_uri": "https://localhost:8080/",
          "height": 238
        }
      },
      "source": [
        "projections"
      ],
      "execution_count": 23,
      "outputs": [
        {
          "output_type": "execute_result",
          "data": {
            "text/plain": [
              "array([[-0.30344764, -1.29751281, -0.70239267, ..., -1.47730224,\n",
              "         1.11629147, -0.25244507],\n",
              "       [-0.0915355 ,  0.65052226, -0.65268647, ...,  0.56431176,\n",
              "        -0.10094539,  0.60052524],\n",
              "       [-3.99384512,  0.79041553, -1.31979412, ...,  1.0193418 ,\n",
              "         1.40797114, -0.38080938],\n",
              "       ...,\n",
              "       [ 0.67301685,  1.93241625, -1.38363548, ...,  1.13264246,\n",
              "        -0.91510327,  0.42195635],\n",
              "       [-1.79057231, -1.09341789, -1.97410919, ..., -0.41204847,\n",
              "        -0.58160393,  0.61332383],\n",
              "       [-0.47895175,  1.62999541, -0.95251304, ..., -0.58667374,\n",
              "         1.06193847, -2.01845297]])"
            ]
          },
          "metadata": {
            "tags": []
          },
          "execution_count": 23
        }
      ]
    },
    {
      "cell_type": "code",
      "metadata": {
        "id": "bus6PDewlhRU",
        "outputId": "6e800f9f-bf52-431c-e5d7-2b10f7f38d25",
        "colab": {
          "base_uri": "https://localhost:8080/",
          "height": 34
        }
      },
      "source": [
        "disp2 = model.explained_variance_\n",
        "\n",
        "disp2[29]-disp2[30]"
      ],
      "execution_count": 24,
      "outputs": [
        {
          "output_type": "execute_result",
          "data": {
            "text/plain": [
              "0.3722863423058167"
            ]
          },
          "metadata": {
            "tags": []
          },
          "execution_count": 24
        }
      ]
    },
    {
      "cell_type": "code",
      "metadata": {
        "id": "LsgbA9UHpSuu",
        "outputId": "61d419f2-b950-4b28-fd55-a44b71c4b663",
        "colab": {
          "base_uri": "https://localhost:8080/",
          "height": 357
        }
      },
      "source": [
        "sorted2 = np.sort(disp2)[::-1]\n",
        "sorted2"
      ],
      "execution_count": 25,
      "outputs": [
        {
          "output_type": "execute_result",
          "data": {
            "text/plain": [
              "array([2.45300783, 2.34721594, 2.32837423, 2.29215638, 2.26058883,\n",
              "       2.23673763, 2.23054413, 2.16149946, 2.12419737, 2.11722001,\n",
              "       2.101506  , 2.08661632, 2.06952524, 2.01874997, 2.01569559,\n",
              "       1.9975306 , 1.98999226, 1.97267641, 1.96145946, 1.93571547,\n",
              "       1.91127464, 1.88088269, 1.87313498, 1.86100004, 1.83748995,\n",
              "       1.83102547, 1.76695482, 1.75990976, 1.70900529, 1.67441869,\n",
              "       1.30213235, 1.27412642, 1.25988718, 1.24829741, 1.2373551 ,\n",
              "       1.22655268, 1.2160363 , 1.20337612, 1.19178072, 1.17704893,\n",
              "       1.17152643, 1.1596937 , 1.14421427, 1.13733863, 1.1280918 ,\n",
              "       1.12091597, 1.11941323, 1.10887359, 1.10153552, 1.09280867,\n",
              "       1.08081406, 1.071599  , 1.06894519, 1.05953135, 1.05917675,\n",
              "       1.03999244, 1.03181196, 1.02157178, 1.01563714, 1.00589789,\n",
              "       1.00414164, 0.99383921, 0.98822987, 0.9841911 , 0.98022019,\n",
              "       0.96913754, 0.96047364, 0.95574247, 0.9486803 , 0.94342659,\n",
              "       0.94097477, 0.93152563, 0.92430892, 0.92160925, 0.91402299,\n",
              "       0.9108494 , 0.90549165, 0.89290254, 0.8845041 , 0.88375427,\n",
              "       0.86944262, 0.86451103, 0.85899869, 0.85781495, 0.84775545,\n",
              "       0.83709426, 0.82127501, 0.81780833, 0.81143068, 0.80679308,\n",
              "       0.79707274, 0.79096824, 0.78836759, 0.78037885, 0.76733455,\n",
              "       0.76127863, 0.75995892, 0.75418212, 0.73440675, 0.72856754])"
            ]
          },
          "metadata": {
            "tags": []
          },
          "execution_count": 25
        }
      ]
    },
    {
      "cell_type": "code",
      "metadata": {
        "id": "H1Pw5SEJpiwa",
        "outputId": "ae0f08ac-a542-445b-b9ee-fbb71f1738df",
        "colab": {
          "base_uri": "https://localhost:8080/",
          "height": 282
        }
      },
      "source": [
        "plt.plot(sorted2)"
      ],
      "execution_count": 26,
      "outputs": [
        {
          "output_type": "execute_result",
          "data": {
            "text/plain": [
              "[<matplotlib.lines.Line2D at 0x7fced15782e8>]"
            ]
          },
          "metadata": {
            "tags": []
          },
          "execution_count": 26
        },
        {
          "output_type": "display_data",
          "data": {
            "image/png": "[encoded data removed]",
            "text/plain": [
              "<Figure size 432x288 with 1 Axes>"
            ]
          },
          "metadata": {
            "tags": [],
            "needs_background": "light"
          }
        }
      ]
    },
    {
      "cell_type": "code",
      "metadata": {
        "id": "xMmaVIpB2KK7",
        "outputId": "b77c1497-7155-4e7a-bae7-d2a04233f797",
        "colab": {
          "base_uri": "https://localhost:8080/",
          "height": 282
        }
      },
      "source": [
        "plot_variances(sorted2)"
      ],
      "execution_count": 27,
      "outputs": [
        {
          "output_type": "display_data",
          "data": {
            "image/png": "[encoded data removed]",
            "text/plain": [
              "<Figure size 432x288 with 1 Axes>"
            ]
          },
          "metadata": {
            "tags": [],
            "needs_background": "light"
          }
        }
      ]
    },
    {
      "cell_type": "code",
      "metadata": {
        "id": "QnQvQ8-lpxKA",
        "outputId": "5f8c8487-d26d-4f79-9bb9-53b9aeb83648",
        "colab": {
          "base_uri": "https://localhost:8080/",
          "height": 221
        }
      },
      "source": [
        "variances2 = []\n",
        "for i in range(1, len(sorted2)):\n",
        "  variances2.append(sorted2[i-1] - sorted2[i])\n",
        "diff2 = pd.Series(index = range(1, len(sorted2)), data=variances2)\n",
        "diff2"
      ],
      "execution_count": 28,
      "outputs": [
        {
          "output_type": "execute_result",
          "data": {
            "text/plain": [
              "1     0.105792\n",
              "2     0.018842\n",
              "3     0.036218\n",
              "4     0.031568\n",
              "5     0.023851\n",
              "        ...   \n",
              "95    0.006056\n",
              "96    0.001320\n",
              "97    0.005777\n",
              "98    0.019775\n",
              "99    0.005839\n",
              "Length: 99, dtype: float64"
            ]
          },
          "metadata": {
            "tags": []
          },
          "execution_count": 28
        }
      ]
    },
    {
      "cell_type": "code",
      "metadata": {
        "id": "yAdecUxGp7GJ",
        "outputId": "ecbe91a8-435c-4ab5-95ac-87914580ad4a",
        "colab": {
          "base_uri": "https://localhost:8080/",
          "height": 221
        }
      },
      "source": [
        "diff2.sort_values(ascending=False)"
      ],
      "execution_count": 29,
      "outputs": [
        {
          "output_type": "execute_result",
          "data": {
            "text/plain": [
              "30    0.372286\n",
              "1     0.105792\n",
              "7     0.069045\n",
              "26    0.064071\n",
              "28    0.050904\n",
              "        ...   \n",
              "46    0.001503\n",
              "96    0.001320\n",
              "83    0.001184\n",
              "79    0.000750\n",
              "54    0.000355\n",
              "Length: 99, dtype: float64"
            ]
          },
          "metadata": {
            "tags": []
          },
          "execution_count": 29
        }
      ]
    },
    {
      "cell_type": "markdown",
      "metadata": {
        "id": "W1EukDMa45yZ"
      },
      "source": [
        "## Интерпретация главных компонент\n",
        "\n",
        "В качестве главных компонент мы получаем линейные комбинации исходных призанков, поэтому резонно возникает вопрос об их интерпретации.\n",
        "\n",
        "Для этого существует несколько подходов, мы рассмотрим два:\n",
        "- рассчитать взаимосвязи главных компонент с исходными признаками\n",
        "- рассчитать вклады каждого конкретного наблюдения в главные компоненты\n",
        "\n",
        "Первый способ подходит в том случае, когда все объекты из набора данных не несут для нас никакой семантической информации, которая уже не запечатлена в наборе признаков.\n",
        "\n",
        "Второй способ подходит для случая, когда данные имеют более сложную структуру. Например, лица для человека несут больший семантический смысл, чем вектор значений пикселей, которые анализирует PCA.\n",
        "\n",
        "Рассмотрим подробнее способ 1: он заключается в подсчёте коэффициентов корреляций между исходными признаками и набором главных компонент.\n",
        "\n",
        "Так как метод главных компонент является линейным, то предлагается для анализа использовать корреляцию Пирсона, выборочный аналог которой имеет следующую формулу:\n",
        "\n",
        "$$r_{jk} = \\frac{\\sum_{i=1}^N (x_{ij} - \\bar{x}_j) (y_{ik} - \\bar{y}_k)}{\\sqrt{\\sum_{i=1}^N (x_{ij} - \\bar{x}_j)^2 \\sum_{i=1}^N (y_{ik} - \\bar{y}_k)^2}} $$\n",
        "\n",
        "где:\n",
        "- $\\bar{x}_j$ -- среднее значение j-го признака,\n",
        "- $\\bar{y}_k$ -- среднее значение проекции на k-ю главную компоненту.\n",
        "\n",
        "Корреляция Пирсона является мерой линейной зависимости. Она равна 0 в случае, когда величины независимы, и $\\pm 1$, если они линейно зависимы. Исходя из степени корреляции новой компоненты с исходными признаками, можно строить её семантическую интерпретацию, т.к. смысл исходных признаков мы знаем."
      ]
    },
    {
      "cell_type": "markdown",
      "metadata": {
        "id": "43J7raEp45yZ"
      },
      "source": [
        "## Задание 3. Анализ главных компонент при помощи корреляций с исходными признаками.\n",
        "\n",
        "1. Обучите метод главных компонент на датасете iris, получите преобразованные данные.\n",
        "2. Посчитайте корреляции исходных признаков с их проекциями на первые две главные компоненты.\n",
        "3. Для каждого признака найдите компоненту (из двух построенных), с которой он коррелирует больше всего.\n",
        "4. На основании п.3 сгруппируйте признаки по компонентам. Составьте два списка: список номеров признаков, которые сильнее коррелируют с первой компонентой, и такой же список для второй. Нумерацию начинать с единицы. Передайте оба списка функции write_answer_3.\n",
        "\n",
        "Набор данных состоит из 4 признаков, посчитанных для 150 ирисов. Каждый из них принадлежит одному из трёх видов. Визуализацию проекции данного датасета на две компоненты, которые описывают наибольшую дисперсию данных, можно получить при помощи функции\n",
        "\n",
        "    plot_iris(transformed_data, target, target_names)\n",
        "    \n",
        "на вход которой требуется передать данные, преобразованные при помощи PCA, а также информацию о классах. Цвет точек отвечает одному из трёх видов ириса.\n",
        "\n",
        "Для того чтобы получить имена исходных признаков, используйте следующий список:\n",
        "\n",
        "    iris.feature_names\n",
        "    \n",
        "При подсчёте корреляций не забудьте центрировать признаки и проекции на главные компоненты (вычитать из них среднее)."
      ]
    },
    {
      "cell_type": "code",
      "metadata": {
        "id": "xUiKtsE-45ya",
        "outputId": "816e5c22-8d7f-4d7c-ae31-5d2e22177434",
        "colab": {
          "base_uri": "https://localhost:8080/",
          "height": 34
        }
      },
      "source": [
        "from sklearn import datasets\n",
        "\n",
        "def plot_iris(transformed_data, target, target_names):\n",
        "    plt.figure()\n",
        "    for c, i, target_name in zip(\"rgb\", [0, 1, 2], target_names):\n",
        "        plt.scatter(transformed_data[target == i, 0],\n",
        "                    transformed_data[target == i, 1], c=c, label=target_name)\n",
        "    plt.legend()\n",
        "    plt.show()\n",
        "    \n",
        "def write_answer_3(list_pc1, list_pc2):\n",
        "    with open(\"pca_answer3.txt\", \"w\") as fout:\n",
        "        fout.write(\" \".join([str(num) for num in list_pc1]))\n",
        "        fout.write(\" \")\n",
        "        fout.write(\" \".join([str(num) for num in list_pc2]))\n",
        "\n",
        "# загрузим датасет iris\n",
        "iris = datasets.load_iris()\n",
        "data3 = iris.data\n",
        "target3 = iris.target\n",
        "target_names = iris.target_names\n",
        "\n",
        "data3[:,0].mean()"
      ],
      "execution_count": 76,
      "outputs": [
        {
          "output_type": "execute_result",
          "data": {
            "text/plain": [
              "5.843333333333334"
            ]
          },
          "metadata": {
            "tags": []
          },
          "execution_count": 76
        }
      ]
    },
    {
      "cell_type": "code",
      "metadata": {
        "id": "OXQqNUOt39DI"
      },
      "source": [
        "model3 = PCA(n_components=2)\n",
        "model3.fit(data3)\n",
        "proect_data = model3.transform(data3)\n"
      ],
      "execution_count": 69,
      "outputs": []
    },
    {
      "cell_type": "code",
      "metadata": {
        "id": "NiVPojrMUCHS",
        "outputId": "e6010988-0c6e-4a33-bab2-7d023437f1a5",
        "colab": {
          "base_uri": "https://localhost:8080/",
          "height": 34
        }
      },
      "source": [
        "proect_data.shape"
      ],
      "execution_count": 71,
      "outputs": [
        {
          "output_type": "execute_result",
          "data": {
            "text/plain": [
              "(150, 2)"
            ]
          },
          "metadata": {
            "tags": []
          },
          "execution_count": 71
        }
      ]
    },
    {
      "cell_type": "code",
      "metadata": {
        "id": "IHHisWZU5H-S",
        "outputId": "2960dc45-6730-48f9-d589-eac05a3a1782",
        "colab": {
          "base_uri": "https://localhost:8080/",
          "height": 51
        }
      },
      "source": [
        "main_components = model3.components_\n",
        "main_components"
      ],
      "execution_count": 64,
      "outputs": [
        {
          "output_type": "execute_result",
          "data": {
            "text/plain": [
              "array([[ 0.36138659, -0.08452251,  0.85667061,  0.3582892 ],\n",
              "       [ 0.65658877,  0.73016143, -0.17337266, -0.07548102]])"
            ]
          },
          "metadata": {
            "tags": []
          },
          "execution_count": 64
        }
      ]
    },
    {
      "cell_type": "code",
      "metadata": {
        "id": "RqXuCxHh5x23"
      },
      "source": [
        "corr = np.array([])\n",
        "from scipy.stats import pearsonr\n",
        "pearson_00 = np.sum((data3[:,0]-data3[:,0].mean())*((proect_data[:,0]-proect_data[:,0].mean())))/((np.sum((data3[:,0]-data3[:,0].mean())**2) * np.sum((proect_data[:,0]-proect_data[:,0].mean())**2))**0.5)\n",
        "pearson_10 = np.sum((data3[:,1]-data3[:,1].mean())*((proect_data[:,0]-proect_data[:,0].mean())))/((np.sum((data3[:,1]-data3[:,1].mean())**2) * np.sum((proect_data[:,0]-proect_data[:,0].mean())**2))**0.5)\n",
        "pearson_20 = np.sum((data3[:,2]-data3[:,2].mean())*((proect_data[:,0]-proect_data[:,0].mean())))/((np.sum((data3[:,2]-data3[:,2].mean())**2) * np.sum((proect_data[:,0]-proect_data[:,0].mean())**2))**0.5)\n",
        "pearson_30 = np.sum((data3[:,3]-data3[:,3].mean())*((proect_data[:,0]-proect_data[:,0].mean())))/((np.sum((data3[:,3]-data3[:,3].mean())**2) * np.sum((proect_data[:,0]-proect_data[:,0].mean())**2))**0.5)\n",
        "\n",
        "pearson_01 = np.sum((data3[:,0]-data3[:,0].mean())*((proect_data[:,1]-proect_data[:,1].mean())))/((np.sum((data3[:,0]-data3[:,0].mean())**2) * np.sum((proect_data[:,1]-proect_data[:,1].mean())**2))**0.5)\n",
        "pearson_11 = np.sum((data3[:,1]-data3[:,1].mean())*((proect_data[:,1]-proect_data[:,1].mean())))/((np.sum((data3[:,1]-data3[:,1].mean())**2) * np.sum((proect_data[:,1]-proect_data[:,1].mean())**2))**0.5)\n",
        "pearson_21 = np.sum((data3[:,2]-data3[:,2].mean())*((proect_data[:,1]-proect_data[:,1].mean())))/((np.sum((data3[:,2]-data3[:,2].mean())**2) * np.sum((proect_data[:,1]-proect_data[:,1].mean())**2))**0.5)\n",
        "pearson_31 = np.sum((data3[:,3]-data3[:,3].mean())*((proect_data[:,1]-proect_data[:,1].mean())))/((np.sum((data3[:,3]-data3[:,3].mean())**2) * np.sum((proect_data[:,1]-proect_data[:,1].mean())**2))**0.5)\n"
      ],
      "execution_count": 78,
      "outputs": []
    },
    {
      "cell_type": "code",
      "metadata": {
        "id": "RpSCSLlJZiGK"
      },
      "source": [
        "pearson_00_ = pearsonr(data3[:,0], proect_data[:,0])\n",
        "pearson_10_ = pearsonr(data3[:,1], proect_data[:,0])\n",
        "pearson_20_ = pearsonr(data3[:,2], proect_data[:,0])\n",
        "pearson_30_ = pearsonr(data3[:,3], proect_data[:,0])\n",
        "\n",
        "pearson_01_ = pearsonr(data3[:,0], proect_data[:,1])\n",
        "pearson_11_ = pearsonr(data3[:,1], proect_data[:,1])\n",
        "pearson_21_ = pearsonr(data3[:,2], proect_data[:,1])\n",
        "pearson_31_ = pearsonr(data3[:,3], proect_data[:,1])\n"
      ],
      "execution_count": 83,
      "outputs": []
    },
    {
      "cell_type": "code",
      "metadata": {
        "id": "Ig6NHkt9a6AY"
      },
      "source": [
        "pearson_00__ = np.corrcoef(data3[:,0], proect_data[:,0])\n",
        "pearson_10__ = np.corrcoef(data3[:,1], proect_data[:,0])\n",
        "pearson_20__ = np.corrcoef(data3[:,2], proect_data[:,0])\n",
        "pearson_30__ = np.corrcoef(data3[:,3], proect_data[:,0])\n",
        "\n",
        "pearson_01__ = np.corrcoef(data3[:,0], proect_data[:,1])\n",
        "pearson_11__ = np.corrcoef(data3[:,1], proect_data[:,1])\n",
        "pearson_21__ = np.corrcoef(data3[:,2], proect_data[:,1])\n",
        "pearson_31__ = np.corrcoef(data3[:,3], proect_data[:,1])"
      ],
      "execution_count": 88,
      "outputs": []
    },
    {
      "cell_type": "code",
      "metadata": {
        "id": "6inrjZzYXXZn",
        "outputId": "58410875-61b2-497c-f4a5-7e72dcac8756",
        "colab": {
          "base_uri": "https://localhost:8080/",
          "height": 170
        }
      },
      "source": [
        "print(pearson_00, '1 признак, 1 компонента')\n",
        "print(pearson_10, '2 признак, 1 компонента')\n",
        "print(pearson_20, '3 признак, 1 компонента') \n",
        "print(pearson_30, '4 признак, 1 компонента') \n",
        "print('-------------------------------------')\n",
        "print(pearson_01, '1 признак, 2 компонента') \n",
        "print(pearson_11, '2 признак, 2 компонента')  \n",
        "print(pearson_21, '3 признак, 2 компонента')  \n",
        "print(pearson_31, '4 признак, 2 компонента')  \n"
      ],
      "execution_count": 80,
      "outputs": [
        {
          "output_type": "stream",
          "text": [
            "0.8974017619582983 1 признак, 1 компонента\n",
            "-0.39874847245570005 2 признак, 1 компонента\n",
            "0.9978739422413113 3 признак, 1 компонента\n",
            "0.9665475167033072 4 признак, 1 компонента\n",
            "-------------------------------------\n",
            "0.3906044128884932 1 признак, 2 компонента\n",
            "0.8252287092319975 2 признак, 2 компонента\n",
            "-0.04838059968989115 3 признак, 2 компонента\n",
            "-0.04878160292939462 4 признак, 2 компонента\n"
          ],
          "name": "stdout"
        }
      ]
    },
    {
      "cell_type": "code",
      "metadata": {
        "id": "HHWL8BnkaNcO",
        "outputId": "dcadffc1-4b4f-41ff-854b-ddb07ef417fb",
        "colab": {
          "base_uri": "https://localhost:8080/",
          "height": 170
        }
      },
      "source": [
        "print(pearson_00__[0][1], '1 признак, 1 компонента')\n",
        "print(pearson_10__[0][1], '2 признак, 1 компонента')\n",
        "print(pearson_20__[0][1], '3 признак, 1 компонента') \n",
        "print(pearson_30__[0][1], '4 признак, 1 компонента') \n",
        "print('-------------------------------------')\n",
        "print(pearson_01__[0][1], '1 признак, 2 компонента') \n",
        "print(pearson_11__[0][1], '2 признак, 2 компонента')  \n",
        "print(pearson_21__[0][1], '3 признак, 2 компонента')  \n",
        "print(pearson_31__[0][1], '4 признак, 2 компонента')  "
      ],
      "execution_count": 91,
      "outputs": [
        {
          "output_type": "stream",
          "text": [
            "0.8974017619582982 1 признак, 1 компонента\n",
            "-0.3987484724557001 2 признак, 1 компонента\n",
            "0.9978739422413104 3 признак, 1 компонента\n",
            "0.9665475167033069 4 признак, 1 компонента\n",
            "-------------------------------------\n",
            "0.39060441288849324 1 признак, 2 компонента\n",
            "0.825228709231998 2 признак, 2 компонента\n",
            "-0.04838059968989094 3 признак, 2 компонента\n",
            "-0.04878160292939458 4 признак, 2 компонента\n"
          ],
          "name": "stdout"
        }
      ]
    },
    {
      "cell_type": "code",
      "metadata": {
        "id": "o0NLzbj3hKNy",
        "outputId": "523ac13b-815a-412f-bfde-f3e3a7fdcb7e",
        "colab": {
          "base_uri": "https://localhost:8080/",
          "height": 170
        }
      },
      "source": [
        "print(pearson_00_[0], '1 признак, 1 компонента')\n",
        "print(pearson_10_[0], '2 признак, 1 компонента')\n",
        "print(pearson_20_[0], '3 признак, 1 компонента') \n",
        "print(pearson_30_[0], '4 признак, 1 компонента') \n",
        "print('-------------------------------------')\n",
        "print(pearson_01_[0], '1 признак, 2 компонента') \n",
        "print(pearson_11_[0], '2 признак, 2 компонента')  \n",
        "print(pearson_21_[0], '3 признак, 2 компонента')  \n",
        "print(pearson_31_[0], '4 признак, 2 компонента')  "
      ],
      "execution_count": 92,
      "outputs": [
        {
          "output_type": "stream",
          "text": [
            "0.8974017619582985 1 признак, 1 компонента\n",
            "-0.3987484724557001 2 признак, 1 компонента\n",
            "0.997873942241311 3 признак, 1 компонента\n",
            "0.966547516703307 4 признак, 1 компонента\n",
            "-------------------------------------\n",
            "0.3906044128884933 1 признак, 2 компонента\n",
            "0.8252287092319978 2 признак, 2 компонента\n",
            "-0.048380599689891134 3 признак, 2 компонента\n",
            "-0.048781602929394596 4 признак, 2 компонента\n"
          ],
          "name": "stdout"
        }
      ]
    },
    {
      "cell_type": "code",
      "metadata": {
        "id": "JvGYcccFYc1v"
      },
      "source": [
        "comp1 = [1,3,4]\n",
        "comp2 = [2]\n",
        "write_answer_3(comp1, comp2)"
      ],
      "execution_count": 93,
      "outputs": []
    },
    {
      "cell_type": "markdown",
      "metadata": {
        "id": "7xA9w_7045yc"
      },
      "source": [
        "## Интерпретация главных компонент с использованием данных\n",
        "\n",
        "Рассмотрим теперь величину, которую можно проинтерпретировать, как квадрат косинуса угла между объектом выборки и главной компонентой:\n",
        "\n",
        "$$ cos^2_{ik} = \\frac{f_{ik}^2}{\\sum_{\\ell=1}^d f_{i\\ell}^2} $$\n",
        "\n",
        "где\n",
        "- i -- номер объекта\n",
        "- k -- номер главной компоненты\n",
        "- $f_{ik}$ -- модуль центрированной проекции объекта на компоненту\n",
        "\n",
        "Очевидно, что\n",
        "\n",
        "$$ \\sum_{k=1}^d cos^2_{ik} = 1 $$\n",
        "\n",
        "Это значит, что для каждого объекта мы в виде данной величины получили веса, пропорциональные вкладу, которую вносит данный объект в дисперсию каждой компоненты. Чем больше вклад, тем более значим объект для описания конкретной главной компоненты."
      ]
    },
    {
      "cell_type": "markdown",
      "metadata": {
        "id": "Pg6gxdrc45yd"
      },
      "source": [
        "## Задание 4. Анализ главных компонент при помощи вкладов в их дисперсию отдельных объектов\n",
        "\n",
        "1. Загрузите датасет лиц Olivetti Faces и обучите на нём модель RandomizedPCA (используется при большом количестве признаков и работает быстрее, чем обычный PCA). Получите проекции признаков на 10 первых главных компонент.\n",
        "2. Посчитайте для каждого объекта его относительный вклад в дисперсию каждой из 10 компонент, используя формулу из предыдущего раздела (d = 10).\n",
        "3. Для каждой компоненты найдите и визуализируйте лицо, которое вносит наибольший относительный вклад в неё. Для визуализации используйте функцию\n",
        "\n",
        "        plt.imshow(image.reshape(image_shape))\n",
        "        \n",
        "4. Передайте в функцию write_answer_4 список номеров лиц с наибольшим относительным вкладом в дисперсию каждой из компонент, список начинается с 0."
      ]
    },
    {
      "cell_type": "code",
      "metadata": {
        "scrolled": true,
        "id": "GHykITF245yd"
      },
      "source": [
        "from sklearn.datasets import fetch_olivetti_faces\n",
        "from sklearn.decomposition import PCA\n",
        "\n",
        "def write_answer_4(list_pc):\n",
        "    with open(\"pca_answer4.txt\", \"w\") as fout:\n",
        "        fout.write(\" \".join([str(num) for num in list_pc]))\n",
        "\n",
        "data4 = fetch_olivetti_faces(shuffle=True, random_state=0).data\n",
        "image_shape = (64, 64)"
      ],
      "execution_count": 95,
      "outputs": []
    },
    {
      "cell_type": "code",
      "metadata": {
        "id": "XPFMmyQPtZOJ",
        "outputId": "312c3be8-a0e7-44e8-b399-d1e4312cf0f6",
        "colab": {
          "base_uri": "https://localhost:8080/",
          "height": 34
        }
      },
      "source": [
        "data4.shape"
      ],
      "execution_count": 97,
      "outputs": [
        {
          "output_type": "execute_result",
          "data": {
            "text/plain": [
              "(400, 4096)"
            ]
          },
          "metadata": {
            "tags": []
          },
          "execution_count": 97
        }
      ]
    },
    {
      "cell_type": "code",
      "metadata": {
        "id": "KhitR6bntmcu",
        "outputId": "15af0e54-9b9a-4a37-d634-e3fba8d233a9",
        "colab": {
          "base_uri": "https://localhost:8080/",
          "height": 34
        }
      },
      "source": [
        "model4 = PCA(n_components=10)\n",
        "model4.fit(data4)\n",
        "feat_proec = model4.transform(data4)\n",
        "feat_proec.shape"
      ],
      "execution_count": 102,
      "outputs": [
        {
          "output_type": "execute_result",
          "data": {
            "text/plain": [
              "(400, 10)"
            ]
          },
          "metadata": {
            "tags": []
          },
          "execution_count": 102
        }
      ]
    },
    {
      "cell_type": "code",
      "metadata": {
        "id": "opRNjKarvIUZ",
        "outputId": "1a022c19-1103-4efa-ec4b-6b0f91df90b8",
        "colab": {
          "base_uri": "https://localhost:8080/",
          "height": 136
        }
      },
      "source": [
        "var_contr = np.zeros(feat_proec.shape)\n",
        "var_contr"
      ],
      "execution_count": 106,
      "outputs": [
        {
          "output_type": "execute_result",
          "data": {
            "text/plain": [
              "array([[0., 0., 0., ..., 0., 0., 0.],\n",
              "       [0., 0., 0., ..., 0., 0., 0.],\n",
              "       [0., 0., 0., ..., 0., 0., 0.],\n",
              "       ...,\n",
              "       [0., 0., 0., ..., 0., 0., 0.],\n",
              "       [0., 0., 0., ..., 0., 0., 0.],\n",
              "       [0., 0., 0., ..., 0., 0., 0.]])"
            ]
          },
          "metadata": {
            "tags": []
          },
          "execution_count": 106
        }
      ]
    },
    {
      "cell_type": "code",
      "metadata": {
        "id": "G48qClBJuHh7"
      },
      "source": [
        "for row in range(var_contr.shape[0]):\n",
        "  for col in range(var_contr.shape[1]):\n",
        "    var_contr[row,col] = (feat_proec[row,col]-feat_proec[:,col].mean())**2/np.sum(feat_proec[row,:]**2)"
      ],
      "execution_count": 112,
      "outputs": []
    },
    {
      "cell_type": "code",
      "metadata": {
        "id": "ksflARXGwwmq"
      },
      "source": [
        "df = pd.DataFrame(index = range(0,400), columns=range(1,11), data=var_contr)"
      ],
      "execution_count": 134,
      "outputs": []
    },
    {
      "cell_type": "code",
      "metadata": {
        "id": "r822JerY5uBg"
      },
      "source": [
        "list4 = []\n",
        "for i in range(1, df.shape[1]+1):\n",
        "  list4.append(df.loc[:,i].idxmax())"
      ],
      "execution_count": 135,
      "outputs": []
    },
    {
      "cell_type": "code",
      "metadata": {
        "id": "SyBFkq1Y9722",
        "outputId": "92583cd8-14ec-4fc9-9de8-b2abdb5eda1d",
        "colab": {
          "base_uri": "https://localhost:8080/",
          "height": 34
        }
      },
      "source": [
        "df.loc[:,10].max()"
      ],
      "execution_count": 149,
      "outputs": [
        {
          "output_type": "execute_result",
          "data": {
            "text/plain": [
              "0.37099660895733816"
            ]
          },
          "metadata": {
            "tags": []
          },
          "execution_count": 149
        }
      ]
    },
    {
      "cell_type": "code",
      "metadata": {
        "id": "Zp3DRaj27kTa",
        "outputId": "6ace8933-4878-465c-e5d4-0b866e877e50",
        "colab": {
          "base_uri": "https://localhost:8080/",
          "height": 34
        }
      },
      "source": [
        "list4"
      ],
      "execution_count": 136,
      "outputs": [
        {
          "output_type": "execute_result",
          "data": {
            "text/plain": [
              "[197, 18, 66, 319, 363, 131, 142, 382, 353, 140]"
            ]
          },
          "metadata": {
            "tags": []
          },
          "execution_count": 136
        }
      ]
    },
    {
      "cell_type": "code",
      "metadata": {
        "id": "dJjNqTuW7uAH"
      },
      "source": [
        "write_answer_4(list4)"
      ],
      "execution_count": 150,
      "outputs": []
    },
    {
      "cell_type": "code",
      "metadata": {
        "id": "bvbPhKej8rBn",
        "outputId": "5ffa5425-699e-4edd-9e96-f2e2ef958fed",
        "colab": {
          "base_uri": "https://localhost:8080/",
          "height": 34
        }
      },
      "source": [
        "print(df.loc[197,1], df.loc[18,2], df.loc[66,3], df.loc[319,4], df.loc[363,5], df.loc[131,6], df.loc[142,7], df.loc[382,8], df.loc[353,9], df.loc[140,10])"
      ],
      "execution_count": 139,
      "outputs": [
        {
          "output_type": "stream",
          "text": [
            "0.9496045062145149 0.9416245656448144 0.6924164416500316 0.5335058101729853 0.5792321228531812 0.5123523106275452 0.4842310004557468 0.49687666693616667 0.5084848881091336 0.37099660895733816\n"
          ],
          "name": "stdout"
        }
      ]
    },
    {
      "cell_type": "code",
      "metadata": {
        "id": "rLt5MsqF-th9",
        "outputId": "3c1092ab-b6ca-465d-96b8-8b80d892e735",
        "colab": {
          "base_uri": "https://localhost:8080/",
          "height": 51
        }
      },
      "source": [
        "data4[197]"
      ],
      "execution_count": 152,
      "outputs": [
        {
          "output_type": "execute_result",
          "data": {
            "text/plain": [
              "array([0.20661157, 0.2768595 , 0.3553719 , ..., 0.30991736, 0.37190083,\n",
              "       0.38429752], dtype=float32)"
            ]
          },
          "metadata": {
            "tags": []
          },
          "execution_count": 152
        }
      ]
    },
    {
      "cell_type": "code",
      "metadata": {
        "id": "4E_ZrqD8-fus",
        "outputId": "54cfb442-2e8e-4ff6-9e3a-99dd7d908b34",
        "colab": {
          "base_uri": "https://localhost:8080/",
          "height": 268
        }
      },
      "source": [
        "for image in data4:\n",
        "  plt.imshow(image.reshape(image_shape))"
      ],
      "execution_count": 156,
      "outputs": [
        {
          "output_type": "display_data",
          "data": {
            "image/png": "[encoded data removed]",
            "text/plain": [
              "<Figure size 432x288 with 1 Axes>"
            ]
          },
          "metadata": {
            "tags": [],
            "needs_background": "light"
          }
        }
      ]
    },
    {
      "cell_type": "markdown",
      "metadata": {
        "id": "yzknEkbc45yf"
      },
      "source": [
        "## Анализ основных недостатков метода главных компонент\n",
        "\n",
        "Рассмотренные выше задачи являются, безусловно, модельными, потому что данные для них были сгенерированы в соответствии с предположениями метода главных компонент. На практике эти предположения, естественно, выполняются далеко не всегда. Рассмотрим типичные ошибки PCA, которые следует иметь в виду перед тем, как его применять."
      ]
    },
    {
      "cell_type": "markdown",
      "metadata": {
        "id": "SuZysMOS45yg"
      },
      "source": [
        "### Направления с максимальной дисперсией в данных неортогональны\n",
        "\n",
        "Рассмотрим случай выборки, которая сгенерирована из двух вытянутых нормальных распределений:"
      ]
    },
    {
      "cell_type": "code",
      "metadata": {
        "id": "8lHejidW45yh",
        "outputId": "d1bf53eb-3b31-44c5-9eae-5f39785c49be",
        "colab": {
          "base_uri": "https://localhost:8080/",
          "height": 299
        }
      },
      "source": [
        "C1 = np.array([[10,0],[0,0.5]])\n",
        "phi = np.pi/3\n",
        "C2 = np.dot(C1, np.array([[np.cos(phi), np.sin(phi)],\n",
        "                          [-np.sin(phi),np.cos(phi)]]))\n",
        "\n",
        "data = np.vstack([np.random.multivariate_normal(mu, C1, size=50),\n",
        "                  np.random.multivariate_normal(mu, C2, size=50)])\n",
        "plt.scatter(data[:,0], data[:,1])\n",
        "# построим истинные интересующие нас компоненты\n",
        "plt.plot(data[:,0], np.zeros(data[:,0].size), color=\"g\")\n",
        "plt.plot(data[:,0], 3**0.5*data[:,0], color=\"g\")\n",
        "# обучим модель pca и построим главные компоненты\n",
        "model = PCA(n_components=2)\n",
        "model.fit(data)\n",
        "plot_principal_components(data, model, scatter=False, legend=False)\n",
        "c_patch = mpatches.Patch(color='c', label='Principal components')\n",
        "plt.legend(handles=[g_patch, c_patch])\n",
        "plt.draw()"
      ],
      "execution_count": 157,
      "outputs": [
        {
          "output_type": "stream",
          "text": [
            "/usr/local/lib/python3.6/dist-packages/ipykernel_launcher.py:7: RuntimeWarning: covariance is not positive-semidefinite.\n",
            "  import sys\n"
          ],
          "name": "stderr"
        },
        {
          "output_type": "display_data",
          "data": {
            "image/png": "[encoded data removed]",
            "text/plain": [
              "<Figure size 432x288 with 1 Axes>"
            ]
          },
          "metadata": {
            "tags": [],
            "needs_background": "light"
          }
        }
      ]
    },
    {
      "cell_type": "markdown",
      "metadata": {
        "id": "hmr_JzCr45yj"
      },
      "source": [
        "В чём проблема, почему pca здесь работает плохо? Ответ прост: интересующие нас компоненты в данных коррелированны между собой (или неортогональны, в зависимости от того, какой терминологией пользоваться). Для поиска подобных преобразований требуются более сложные методы, которые уже выходят за рамки метода главных компонент.\n",
        "\n",
        "Для интересующихся: то, что можно применить непосредственно к выходу метода главных компонент, для получения подобных неортогональных преобразований, называется методами ротации. Почитать о них можно в связи с другим методом уменьшения размерности, который называется Factor Analysis (FA), но ничего не мешает их применять и к главным компонентам."
      ]
    },
    {
      "cell_type": "markdown",
      "metadata": {
        "id": "SIsvszbx45yj"
      },
      "source": [
        "### Интересное направление в данных не совпадает с направлением максимальной дисперсии\n",
        "\n",
        "Рассмотрим пример, когда дисперсии не отражают интересующих нас направлений в данных:"
      ]
    },
    {
      "cell_type": "code",
      "metadata": {
        "id": "fPFsMKlA45yk",
        "outputId": "0485d0c0-6040-4689-dfb8-f43df1799b0a",
        "colab": {
          "base_uri": "https://localhost:8080/",
          "height": 265
        }
      },
      "source": [
        "C = np.array([[0.5,0],[0,10]])\n",
        "mu1 = np.array([-2,0])\n",
        "mu2 = np.array([2,0])\n",
        "\n",
        "data = np.vstack([np.random.multivariate_normal(mu1, C, size=50),\n",
        "                  np.random.multivariate_normal(mu2, C, size=50)])\n",
        "plt.scatter(data[:,0], data[:,1])\n",
        "# обучим модель pca и построим главные компоненты\n",
        "model = PCA(n_components=2)\n",
        "model.fit(data)\n",
        "plot_principal_components(data, model)\n",
        "plt.draw()"
      ],
      "execution_count": 158,
      "outputs": [
        {
          "output_type": "display_data",
          "data": {
            "image/png": "[encoded data removed]",
            "text/plain": [
              "<Figure size 432x288 with 1 Axes>"
            ]
          },
          "metadata": {
            "tags": [],
            "needs_background": "light"
          }
        }
      ]
    },
    {
      "cell_type": "markdown",
      "metadata": {
        "id": "4YUV1iKQ45ym"
      },
      "source": [
        "Очевидно, что в данном случае метод главных компонент будет считать вертикальную компоненту более значимой для описания набора данных, чем горизонтальную. \n",
        "\n",
        "Но, например, в случае, когда данные из левого и правого кластера относятся к разным классам, для их линейной разделимости вертикальная компонента является шумовой. Несмотря на это, её метод главных компонент никогда шумовой не признает, и есть вероятность, что отбор признаков с его помощью выкинет из ваших данных значимые для решаемой вами задачи компоненты просто потому, что вдоль них значения имеют низкую дисперсию.\n",
        "\n",
        "Справляться с такими ситуациями могут некоторые другие методы уменьшения размерности данных, например, метод независимых компонент (Independent Component Analysis, ICA)."
      ]
    }
  ]
}