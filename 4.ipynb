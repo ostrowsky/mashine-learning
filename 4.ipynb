{
  "nbformat": 4,
  "nbformat_minor": 0,
  "metadata": {
    "colab": {
      "name": "4.ipynb",
      "provenance": [],
      "collapsed_sections": []
    },
    "kernelspec": {
      "name": "python3",
      "display_name": "Python 3"
    }
  },
  "cells": [
    {
      "cell_type": "markdown",
      "metadata": {
        "id": "wsBWH5ER85dx",
        "colab_type": "text"
      },
      "source": [
        "Импортируем необходимые модули и функции"
      ]
    },
    {
      "cell_type": "code",
      "metadata": {
        "id": "uB8Vf27-8yeU",
        "colab_type": "code",
        "colab": {}
      },
      "source": [
        "import scipy.stats as sts\n",
        "import matplotlib.pyplot as plt\n",
        "import numpy as np\n",
        "from math import sqrt\n",
        "%matplotlib inline"
      ],
      "execution_count": 147,
      "outputs": []
    },
    {
      "cell_type": "markdown",
      "metadata": {
        "id": "Tz6hrjBmNkYw",
        "colab_type": "text"
      },
      "source": [
        "Выбираем непрерывное экспненциальное распределение"
      ]
    },
    {
      "cell_type": "code",
      "metadata": {
        "id": "bdCgEVhzMQvD",
        "colab_type": "code",
        "colab": {}
      },
      "source": [
        "expon_rv = sts.expon\n"
      ],
      "execution_count": 148,
      "outputs": []
    },
    {
      "cell_type": "markdown",
      "metadata": {
        "id": "aY7VHNuINrno",
        "colab_type": "text"
      },
      "source": [
        "Генерируем из него выборку объёма 1000 "
      ]
    },
    {
      "cell_type": "code",
      "metadata": {
        "id": "uqgPpDrcNxbn",
        "colab_type": "code",
        "colab": {}
      },
      "source": [
        "lambda_ = 0.2\n",
        "sample = expon_rv.rvs(scale = 1/lambda_,  size = 1000)\n",
        "x = np.linspace(0,8,1000)"
      ],
      "execution_count": 149,
      "outputs": []
    },
    {
      "cell_type": "markdown",
      "metadata": {
        "id": "3nVoctgFN_kR",
        "colab_type": "text"
      },
      "source": [
        "Строим гистограмму выборки и рисуем поверх неё теоретическую плотность распределения нашей случайной величины "
      ]
    },
    {
      "cell_type": "code",
      "metadata": {
        "id": "otBhBFJyNJRf",
        "colab_type": "code",
        "colab": {
          "base_uri": "https://localhost:8080/",
          "height": 296
        },
        "outputId": "d98bd707-1dcb-4f78-e7ab-2c1b843b4c61"
      },
      "source": [
        "pdf = expon_rv.pdf(x)\n",
        "plt.hist(sample, density=True, label='histopram')\n",
        "plt.xlabel('$x$')\n",
        "plt.ylabel('$f(x)$')\n",
        "plt.plot(x, pdf, label='theoretical pdf')\n",
        "plt.legend()\n",
        "\n"
      ],
      "execution_count": 150,
      "outputs": [
        {
          "output_type": "execute_result",
          "data": {
            "text/plain": [
              "<matplotlib.legend.Legend at 0x7f6488d54828>"
            ]
          },
          "metadata": {
            "tags": []
          },
          "execution_count": 150
        },
        {
          "output_type": "display_data",
          "data": {
            "image/png": "[encoded data removed]",
            "text/plain": [
              "<Figure size 432x288 with 1 Axes>"
            ]
          },
          "metadata": {
            "tags": [],
            "needs_background": "light"
          }
        }
      ]
    },
    {
      "cell_type": "markdown",
      "metadata": {
        "id": "St70MT93TyPR",
        "colab_type": "text"
      },
      "source": [
        "Наша задача — оценить распределение выборочного среднего вашей случайной величины при разных объёмах выборок. Для этого при трёх и более значениях n (например, 5, 10, 50) генерируем 1000 выборок объёма n."
      ]
    },
    {
      "cell_type": "code",
      "metadata": {
        "id": "3wDmg1IOYj1Y",
        "colab_type": "code",
        "colab": {}
      },
      "source": [
        "array_n = np.array([3,5,10,50])\n",
        "mean_array_dict = {}\n",
        "for n in array_n:\n",
        "  mean_array = np.array([])\n",
        "  for i in range(1000):\n",
        "    curr_sample = expon_rv.rvs(scale = 1/lambda_,  size = n)\n",
        "    mean = curr_sample.mean()\n",
        "    mean_array = np.append(mean_array, mean)\n",
        "  #print(n, len(mean_array))\n",
        "  mean_array_dict[n] = mean_array\n",
        "#print(mean_array_dict)\n"
      ],
      "execution_count": 151,
      "outputs": []
    },
    {
      "cell_type": "markdown",
      "metadata": {
        "id": "fsrvleMPX1jY",
        "colab_type": "text"
      },
      "source": [
        "Построим гистограммы распределений их выборочных средних."
      ]
    },
    {
      "cell_type": "code",
      "metadata": {
        "id": "90cq4_xFYjKZ",
        "colab_type": "code",
        "colab": {
          "base_uri": "https://localhost:8080/",
          "height": 296
        },
        "outputId": "2b71f628-9d4d-4c25-d0a1-f2781d35c018"
      },
      "source": [
        "for n in mean_array_dict:\n",
        "   plt.hist(mean_array_dict[n], label=n, density=True)\n",
        "plt.legend()\n",
        "plt.xlabel('$x$')\n",
        "plt.ylabel('$f(x)$')"
      ],
      "execution_count": 152,
      "outputs": [
        {
          "output_type": "execute_result",
          "data": {
            "text/plain": [
              "Text(0, 0.5, '$f(x)$')"
            ]
          },
          "metadata": {
            "tags": []
          },
          "execution_count": 152
        },
        {
          "output_type": "display_data",
          "data": {
            "image/png": "[encoded data removed]",
            "text/plain": [
              "<Figure size 432x288 with 1 Axes>"
            ]
          },
          "metadata": {
            "tags": [],
            "needs_background": "light"
          }
        }
      ]
    },
    {
      "cell_type": "markdown",
      "metadata": {
        "id": "CIMGOmaJbeiH",
        "colab_type": "text"
      },
      "source": [
        "Используя информацию о среднем и дисперсии экспоненциального распределения (EX = 1/lambda_,  DX = 1/(lambda_^2), посчитаем значения параметров нормальных распределений, которыми, согласно центральной предельной теореме, приближается распределение выборочных средних - N(EX, DX/n). \n",
        "Для подсчёта значений этих параметров нужно использовать именно теоретические среднее и дисперсию вашей случайной величины, а не их выборочные оценки."
      ]
    },
    {
      "cell_type": "code",
      "metadata": {
        "id": "SWdcjqotbplH",
        "colab_type": "code",
        "colab": {
          "base_uri": "https://localhost:8080/",
          "height": 34
        },
        "outputId": "09b50838-44c6-403a-b742-2094bcc3bd6f"
      },
      "source": [
        "EX = 1/lambda_ \n",
        "DX = 1/(lambda_**2)\n",
        "print(EX, DX)\n",
        "\n"
      ],
      "execution_count": 153,
      "outputs": [
        {
          "output_type": "stream",
          "text": [
            "5.0 24.999999999999996\n"
          ],
          "name": "stdout"
        }
      ]
    },
    {
      "cell_type": "markdown",
      "metadata": {
        "id": "CNj3LfQbkWwW",
        "colab_type": "text"
      },
      "source": [
        "Поверх каждой гистограммы нарисуем плотность соответствующего нормального распределения (будем внимательны с параметрами функции, она принимает на вход не дисперсию, а стандартное отклонение)."
      ]
    },
    {
      "cell_type": "code",
      "metadata": {
        "id": "bJMfgHQw68Py",
        "colab_type": "code",
        "colab": {
          "base_uri": "https://localhost:8080/",
          "height": 296
        },
        "outputId": "4d1779a8-8245-4391-961d-c263fee6ea63"
      },
      "source": [
        "x = np.linspace(0,20,1000) \n",
        "for n in mean_array_dict:\n",
        "   plt.hist(mean_array_dict[n], label=n, density=True)\n",
        "   norm_rv = sts.norm(loc=EX, scale=DX/n)\n",
        "   pdf = norm_rv.pdf(x)\n",
        "   plt.plot(x, pdf, label=n)\n",
        "plt.legend()\n",
        "plt.ylabel('$f(x)$')\n",
        "plt.xlabel('$x$')\n",
        "plt.legend()"
      ],
      "execution_count": 154,
      "outputs": [
        {
          "output_type": "execute_result",
          "data": {
            "text/plain": [
              "<matplotlib.legend.Legend at 0x7f64866f4908>"
            ]
          },
          "metadata": {
            "tags": []
          },
          "execution_count": 154
        },
        {
          "output_type": "display_data",
          "data": {
            "image/png": "[encoded data removed]",
            "text/plain": [
              "<Figure size 432x288 with 1 Axes>"
            ]
          },
          "metadata": {
            "tags": [],
            "needs_background": "light"
          }
        }
      ]
    },
    {
      "cell_type": "markdown",
      "metadata": {
        "id": "J1ouBTCh7v2p",
        "colab_type": "text"
      },
      "source": [
        "Опишем разницу между полученными распределениями при различных значениях n: при увеличении n дисперсия распределения выборочных средних экспоненциальной случайной величины сокращается, математическое ожидание остается неизменным. Как меняется точность аппроксимации распределения выборочных средних нормальным с ростом n - точность аппроксимации возрастает."
      ]
    }
  ]
}