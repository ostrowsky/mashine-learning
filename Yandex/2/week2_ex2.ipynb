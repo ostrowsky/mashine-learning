{
 "cells": [
  {
   "cell_type": "code",
   "execution_count": 44,
   "metadata": {
    "collapsed": false
   },
   "outputs": [
   ],
   "source": [
    "from sklearn import datasets"
   ]
  },
  {
   "cell_type": "code",
   "execution_count": 45,
   "metadata": {
    "collapsed": false
   },
   "outputs": [
   ],
   "source": [
    "boston = datasets.load_boston()"
   ]
  },
  {
   "cell_type": "code",
   "execution_count": 46,
   "metadata": {
    "collapsed": false
   },
   "outputs": [
    {
     "data": {
      "text/plain": [
       "(506, 13)"
      ]
     },
     "execution_count": 46,
     "metadata": {
     },
     "output_type": "execute_result"
    }
   ],
   "source": [
    "boston.data.shape"
   ]
  },
  {
   "cell_type": "code",
   "execution_count": 47,
   "metadata": {
    "collapsed": false
   },
   "outputs": [
   ],
   "source": [
    "y = boston.target"
   ]
  },
  {
   "cell_type": "code",
   "execution_count": 48,
   "metadata": {
    "collapsed": false
   },
   "outputs": [
   ],
   "source": [
    "X = sklearn.preprocessing.scale(boston.data)"
   ]
  },
  {
   "cell_type": "code",
   "execution_count": 49,
   "metadata": {
    "collapsed": false
   },
   "outputs": [
    {
     "data": {
      "text/plain": [
       "(506,)"
      ]
     },
     "execution_count": 49,
     "metadata": {
     },
     "output_type": "execute_result"
    }
   ],
   "source": [
    "X.shape\n",
    "y.shape"
   ]
  },
  {
   "cell_type": "code",
   "execution_count": 67,
   "metadata": {
    "collapsed": false
   },
   "outputs": [
   ],
   "source": [
    "import numpy as np\n",
    "p_array = np.linspace(start=1, stop=10, num=200)"
   ]
  },
  {
   "cell_type": "code",
   "execution_count": 52,
   "metadata": {
    "collapsed": false
   },
   "outputs": [
   ],
   "source": [
    "from sklearn.neighbors import KNeighborsRegressor as KNR\n",
    "from sklearn.model_selection import cross_val_score\n",
    "from sklearn.model_selection import KFold\n",
    "cv = KFold(n_splits=5, shuffle=True, random_state=42)"
   ]
  },
  {
   "cell_type": "code",
   "execution_count": 66,
   "metadata": {
    "collapsed": false
   },
   "outputs": [
    {
     "name": "stdout",
     "output_type": "stream",
     "text": [
      "1.0 -16.03\n"
     ]
    }
   ],
   "source": [
    "loc_max = -1000\n",
    "loc_par = 0\n",
    "for p in p_array:\n",
    "    regressor = KNR(n_neighbors=5, metric=\"minkowski\", weights=\"distance\", p=p)\n",
    "    quality = cross_val_score(estimator=regressor, scoring='neg_mean_squared_error', X=X, y=y, cv=cv )\n",
    "    curr_qual = quality.mean()\n",
    "    if curr_qual >= loc_max:\n",
    "        loc_max = curr_qual\n",
    "        loc_par = p\n",
    "print(loc_par, loc_max.round(2))"
   ]
  },
  {
   "cell_type": "code",
   "execution_count": 68,
   "metadata": {
    "collapsed": false
   },
   "outputs": [
    {
     "name": "stdout",
     "output_type": "stream",
     "text": [
      "1.0 -16.03\n",
      "1.0452261306532664 -16.41\n"
     ]
    },
    {
     "name": "stdout",
     "output_type": "stream",
     "text": [
      "1.0904522613065326 -16.37\n",
      "1.135678391959799 -16.45\n"
     ]
    },
    {
     "name": "stdout",
     "output_type": "stream",
     "text": [
      "1.1809045226130652 -16.48\n",
      "1.2261306532663316 -16.53\n"
     ]
    },
    {
     "name": "stdout",
     "output_type": "stream",
     "text": [
      "1.271356783919598 -16.64\n",
      "1.3165829145728645 -16.82\n"
     ]
    },
    {
     "name": "stdout",
     "output_type": "stream",
     "text": [
      "1.3618090452261307 -16.87\n",
      "1.4070351758793969 -17.12\n"
     ]
    },
    {
     "name": "stdout",
     "output_type": "stream",
     "text": [
      "1.4522613065326633 -17.15\n",
      "1.4974874371859297 -17.02\n"
     ]
    },
    {
     "name": "stdout",
     "output_type": "stream",
     "text": [
      "1.542713567839196 -17.1\n",
      "1.5879396984924623 -16.8\n"
     ]
    },
    {
     "name": "stdout",
     "output_type": "stream",
     "text": [
      "1.6331658291457287 -16.98\n",
      "1.678391959798995 -17.03\n"
     ]
    },
    {
     "name": "stdout",
     "output_type": "stream",
     "text": [
      "1.7236180904522613 -17.17\n",
      "1.7688442211055277 -17.18\n"
     ]
    },
    {
     "name": "stdout",
     "output_type": "stream",
     "text": [
      "1.814070351758794 -17.21\n",
      "1.8592964824120604 -17.32\n"
     ]
    },
    {
     "name": "stdout",
     "output_type": "stream",
     "text": [
      "1.9045226130653266 -17.42\n",
      "1.949748743718593 -17.39\n"
     ]
    },
    {
     "name": "stdout",
     "output_type": "stream",
     "text": [
      "1.9949748743718594 -17.33\n",
      "2.040201005025126 -17.34\n"
     ]
    },
    {
     "name": "stdout",
     "output_type": "stream",
     "text": [
      "2.085427135678392 -17.38\n",
      "2.1306532663316586 -17.66\n"
     ]
    },
    {
     "name": "stdout",
     "output_type": "stream",
     "text": [
      "2.1758793969849246 -17.57\n",
      "2.221105527638191 -17.32\n"
     ]
    },
    {
     "name": "stdout",
     "output_type": "stream",
     "text": [
      "2.2663316582914574 -17.5\n",
      "2.3115577889447234 -17.55\n"
     ]
    },
    {
     "name": "stdout",
     "output_type": "stream",
     "text": [
      "2.35678391959799 -17.57\n",
      "2.4020100502512562 -17.6\n"
     ]
    },
    {
     "name": "stdout",
     "output_type": "stream",
     "text": [
      "2.4472361809045227 -17.6\n",
      "2.492462311557789 -17.28\n"
     ]
    },
    {
     "name": "stdout",
     "output_type": "stream",
     "text": [
      "2.5376884422110555 -17.33\n",
      "2.582914572864322 -17.49\n"
     ]
    },
    {
     "name": "stdout",
     "output_type": "stream",
     "text": [
      "2.628140703517588 -17.46\n",
      "2.6733668341708543 -17.48\n"
     ]
    },
    {
     "name": "stdout",
     "output_type": "stream",
     "text": [
      "2.7185929648241207 -17.55\n",
      "2.7638190954773867 -17.53\n"
     ]
    },
    {
     "name": "stdout",
     "output_type": "stream",
     "text": [
      "2.809045226130653 -17.61\n",
      "2.8542713567839195 -17.61\n"
     ]
    },
    {
     "name": "stdout",
     "output_type": "stream",
     "text": [
      "2.899497487437186 -17.65\n",
      "2.9447236180904524 -17.89\n"
     ]
    },
    {
     "name": "stdout",
     "output_type": "stream",
     "text": [
      "2.9899497487437188 -17.89\n",
      "3.035175879396985 -18.1\n"
     ]
    },
    {
     "name": "stdout",
     "output_type": "stream",
     "text": [
      "3.080402010050251 -18.15\n",
      "3.1256281407035176 -18.22\n"
     ]
    },
    {
     "name": "stdout",
     "output_type": "stream",
     "text": [
      "3.170854271356784 -18.28\n",
      "3.2160804020100504 -18.28\n"
     ]
    },
    {
     "name": "stdout",
     "output_type": "stream",
     "text": [
      "3.261306532663317 -18.28\n",
      "3.306532663316583 -18.21\n"
     ]
    },
    {
     "name": "stdout",
     "output_type": "stream",
     "text": [
      "3.351758793969849 -18.52\n",
      "3.3969849246231156 -18.47\n"
     ]
    },
    {
     "name": "stdout",
     "output_type": "stream",
     "text": [
      "3.442211055276382 -18.58\n",
      "3.4874371859296485 -18.59\n"
     ]
    },
    {
     "name": "stdout",
     "output_type": "stream",
     "text": [
      "3.532663316582915 -18.85\n",
      "3.577889447236181 -18.89\n"
     ]
    },
    {
     "name": "stdout",
     "output_type": "stream",
     "text": [
      "3.6231155778894473 -18.93\n",
      "3.6683417085427137 -18.94\n"
     ]
    },
    {
     "name": "stdout",
     "output_type": "stream",
     "text": [
      "3.71356783919598 -18.91\n",
      "3.7587939698492465 -18.91\n"
     ]
    },
    {
     "name": "stdout",
     "output_type": "stream",
     "text": [
      "3.8040201005025125 -19.01\n",
      "3.849246231155779 -19.06\n"
     ]
    },
    {
     "name": "stdout",
     "output_type": "stream",
     "text": [
      "3.8944723618090453 -19.05\n",
      "3.9396984924623117 -19.08\n"
     ]
    },
    {
     "name": "stdout",
     "output_type": "stream",
     "text": [
      "3.984924623115578 -19.17\n",
      "4.030150753768844 -19.17\n"
     ]
    },
    {
     "name": "stdout",
     "output_type": "stream",
     "text": [
      "4.075376884422111 -19.13\n",
      "4.1206030150753765 -19.1\n"
     ]
    },
    {
     "name": "stdout",
     "output_type": "stream",
     "text": [
      "4.165829145728644 -19.12\n",
      "4.211055276381909 -19.07\n"
     ]
    },
    {
     "name": "stdout",
     "output_type": "stream",
     "text": [
      "4.256281407035176 -19.29\n",
      "4.301507537688442 -19.3\n"
     ]
    },
    {
     "name": "stdout",
     "output_type": "stream",
     "text": [
      "4.346733668341709 -19.3\n",
      "4.391959798994975 -19.31\n"
     ]
    },
    {
     "name": "stdout",
     "output_type": "stream",
     "text": [
      "4.437185929648241 -19.21\n",
      "4.482412060301508 -19.2\n"
     ]
    },
    {
     "name": "stdout",
     "output_type": "stream",
     "text": [
      "4.527638190954773 -19.25\n",
      "4.572864321608041 -19.41\n"
     ]
    },
    {
     "name": "stdout",
     "output_type": "stream",
     "text": [
      "4.618090452261306 -19.47\n",
      "4.6633165829145735 -19.48\n"
     ]
    },
    {
     "name": "stdout",
     "output_type": "stream",
     "text": [
      "4.708542713567839 -19.58\n",
      "4.7537688442211055 "
     ]
    },
    {
     "name": "stdout",
     "output_type": "stream",
     "text": [
      "-19.67\n",
      "4.798994974874372 -19.68\n"
     ]
    },
    {
     "name": "stdout",
     "output_type": "stream",
     "text": [
      "4.844221105527638 -19.73\n",
      "4.889447236180905 -19.73\n"
     ]
    },
    {
     "name": "stdout",
     "output_type": "stream",
     "text": [
      "4.934673366834171 -19.74\n",
      "4.9798994974874375 -19.77\n"
     ]
    },
    {
     "name": "stdout",
     "output_type": "stream",
     "text": [
      "5.025125628140704 -19.67\n",
      "5.07035175879397 -19.67\n"
     ]
    },
    {
     "name": "stdout",
     "output_type": "stream",
     "text": [
      "5.115577889447236 -19.63\n"
     ]
    },
    {
     "name": "stdout",
     "output_type": "stream",
     "text": [
      "5.160804020100502 -19.66\n"
     ]
    },
    {
     "name": "stdout",
     "output_type": "stream",
     "text": [
      "5.206030150753769 -19.65\n"
     ]
    },
    {
     "name": "stdout",
     "output_type": "stream",
     "text": [
      "5.251256281407035 -19.68\n"
     ]
    },
    {
     "name": "stdout",
     "output_type": "stream",
     "text": [
      "5.296482412060302 -19.65\n"
     ]
    },
    {
     "name": "stdout",
     "output_type": "stream",
     "text": [
      "5.341708542713568 -19.65\n"
     ]
    },
    {
     "name": "stdout",
     "output_type": "stream",
     "text": [
      "5.386934673366834 -19.68\n",
      "5.432160804020101 -19.69\n"
     ]
    },
    {
     "name": "stdout",
     "output_type": "stream",
     "text": [
      "5.477386934673367 -19.72\n",
      "5.522613065326634 -19.88\n"
     ]
    },
    {
     "name": "stdout",
     "output_type": "stream",
     "text": [
      "5.5678391959799 -19.86\n",
      "5.613065326633166 -19.88\n"
     ]
    },
    {
     "name": "stdout",
     "output_type": "stream",
     "text": [
      "5.658291457286432 -19.91\n",
      "5.703517587939698 -19.91\n"
     ]
    },
    {
     "name": "stdout",
     "output_type": "stream",
     "text": [
      "5.748743718592965 -19.9\n",
      "5.793969849246231 -20.11\n"
     ]
    },
    {
     "name": "stdout",
     "output_type": "stream",
     "text": [
      "5.839195979899498 -20.29\n",
      "5.884422110552764 -20.3\n"
     ]
    },
    {
     "name": "stdout",
     "output_type": "stream",
     "text": [
      "5.9296482412060305 -20.18\n",
      "5.974874371859297 -20.12\n"
     ]
    },
    {
     "name": "stdout",
     "output_type": "stream",
     "text": [
      "6.020100502512563 -20.12\n",
      "6.06532663316583 -20.13\n"
     ]
    },
    {
     "name": "stdout",
     "output_type": "stream",
     "text": [
      "6.110552763819095 -20.08\n",
      "6.155778894472362 -20.05\n"
     ]
    },
    {
     "name": "stdout",
     "output_type": "stream",
     "text": [
      "6.201005025125628 -20.04\n",
      "6.2462311557788945 -20.05\n"
     ]
    },
    {
     "name": "stdout",
     "output_type": "stream",
     "text": [
      "6.291457286432161 -20.05\n",
      "6.336683417085427 -20.54\n"
     ]
    },
    {
     "name": "stdout",
     "output_type": "stream",
     "text": [
      "6.381909547738694 -20.56\n",
      "6.42713567839196 -20.56\n"
     ]
    }
   ],
   "source": [
    "loc_max = -1000\n",
    "loc_par = 0\n",
    "for p in p_array:\n",
    "    regressor = KNR(n_neighbors=5, metric=\"minkowski\", weights=\"distance\", p=p)\n",
    "    quality = cross_val_score(estimator=regressor, scoring='neg_mean_squared_error', X=X, y=y, cv=cv )\n",
    "    curr_qual = quality.mean()\n",
    "    print(p, curr_qual.round(2))"
   ]
  },
  {
   "cell_type": "code",
   "execution_count": 0,
   "metadata": {
    "collapsed": false
   },
   "outputs": [
   ],
   "source": [
   ]
  }
 ],
 "metadata": {
  "kernelspec": {
   "display_name": "Python 3 (system-wide)",
   "language": "python",
   "metadata": {
    "cocalc": {
     "description": "Python 3 programming language",
     "priority": 100,
     "url": "https://www.python.org/"
    }
   },
   "name": "python3"
  },
  "language_info": {
   "codemirror_mode": {
    "name": "ipython",
    "version": 3
   },
   "file_extension": ".py",
   "mimetype": "text/x-python",
   "name": "python",
   "nbconvert_exporter": "python",
   "pygments_lexer": "ipython3",
   "version": "3.6.9"
  }
 },
 "nbformat": 4,
 "nbformat_minor": 4
}